{
 "cells": [
  {
   "cell_type": "markdown",
   "metadata": {},
   "source": [
    "## Camilo Enrique Farelo Panesso"
   ]
  },
  {
   "cell_type": "markdown",
   "metadata": {},
   "source": [
    "###                                             Seguridad informática utilizando Machine Learning"
   ]
  },
  {
   "cell_type": "markdown",
   "metadata": {},
   "source": [
    "#### Descripción del problema."
   ]
  },
  {
   "cell_type": "markdown",
   "metadata": {},
   "source": [
    "Actualmente las redes informáticas de cualquier organización necesitan aumentar su capacidad debido a que transportan y manipulan una cantidad mayor de información, pero esto trae consigo nuevos tipos de amenazas continuamente. Existen técnicas de seguridad tradicionales y capacitaciones de ética relacionadas al manejo de información pero estas tienen muchos incovenientes. Algunos de estos incovenientes son: \n",
    "* No pueden predecir nuevas amenazas o ataques ya que aún no se ha capturado suficiente información sobre ellos. \n",
    "* Los ataques son detectados ya en el momento que estos han infectado la red y en el peor de los casos pueden demorar meses encontrandolos lo que permite al criminal robar suficiente información de la compañia. \n",
    "* El número de falsas alarmas que dan las técnicas tradicionales es muy alto lo que después se reflejara en los costos.\n",
    "\n",
    "Las técnicas de machine learning permitirán detectar amenazas de manera más rápida sin que esta llegue a dañar la red. Además reducira tanto el costo computacional como el económico y el crecimiento de la Inteligencia Artificial hace que cualquier tarea migre para este campo."
   ]
  },
  {
   "cell_type": "markdown",
   "metadata": {},
   "source": [
    "#### Posibles fuentes de información"
   ]
  },
  {
   "cell_type": "markdown",
   "metadata": {},
   "source": [
    "http://openaccess.uoc.edu/webapps/o2/handle/10609/91066 Fuente: Universitat Oberta de Catalunya. \n",
    "Se puede decir que el artículo anterior es muy útil y confiable ya que se encuentra en la base de datos de esta universidad. La UOC fué recientemente destacada a nivel Español ubicandose en el puesto 12 aún siendo una universidad virtual según la firma educativa Times Higher Education. Según esta firma la UOC tiene un peso del 30% en invesitgación y un 30% de peso en citas.\n",
    "\n",
    "https://ieeexplore.ieee.org/abstract/document/8359287\n",
    "https://ieeexplore.ieee.org/abstract/document/7103959\n",
    "https://ieeexplore.ieee.org/abstract/document/7307098 Fuente: IEEE Xplore\n",
    "Se puede decir que los artículos anteriores son muy confiables ya que además de su fecha de publicación la cual es reciente, se encuentran en la base de datos de la IEEE que es una de las organizaciones más prestigiosas en Telecomunicaciones y afines con más de 6200 estándares, 2400 libros y aproximadamente son agregados mensualmente 20000 documentos. \n",
    "\n",
    "https://vford.me/papers/Ford%20Siraj%20Machine%20Learning%20in%20Cyber%20Security%20final%20manuscript.pdf Fuente: vford.me\n",
    "Este documento se encontró en el blog personal del profesor Vitaly Ford, quien es un profesor del Departamento de Ciencias Computacionales y Matemáticas de la Universida de Arcadia. Enseña asignaturas como Arquitectura de Computadores, Estructuras de Datos y Algoritmos,Seguridad en Redes entre otras. En el 2017 obtuvo su Doctorado en Seguridad Informática y trabaja en artículos con nuevos investigadores para hacerlos conocer. \n",
    "\n",
    "https://arxiv.org/abs/1701.07179\n",
    "https://arxiv.org/abs/1312.2177\n",
    "https://arxiv.org/abs/1307.7286 Fuente: Arxiv\n",
    "Esta fuente tiene la ventaja de pre-publicar artículos que posiblemente sean buenos mientras estan en proceso de aprobación dandole la posibilidad a los estudiantes e investigadores tener un acceso amplio a la información en ramas como física, matemáticas y ciencas de computación.\n",
    "\n",
    "https://pdfs.semanticscholar.org/0278/bbaf1db5df036f02393679d485260b1daeb7.pdf Fuente: Semantic Scholar\n",
    "Semantic Scholar es un buscador del tipo de Google Scholar el cual esta basado en Inteligencia Artificial que tiene aportaciones en información añadida, asociación semántica y uso de grafos."
   ]
  },
  {
   "cell_type": "code",
   "execution_count": null,
   "metadata": {},
   "outputs": [],
   "source": []
  }
 ],
 "metadata": {
  "kernelspec": {
   "display_name": "Python 3",
   "language": "python",
   "name": "python3"
  },
  "language_info": {
   "codemirror_mode": {
    "name": "ipython",
    "version": 3
   },
   "file_extension": ".py",
   "mimetype": "text/x-python",
   "name": "python",
   "nbconvert_exporter": "python",
   "pygments_lexer": "ipython3",
   "version": "3.7.3"
  }
 },
 "nbformat": 4,
 "nbformat_minor": 2
}
