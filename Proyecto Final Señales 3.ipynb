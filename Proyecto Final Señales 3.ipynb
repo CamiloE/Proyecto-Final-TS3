{
 "cells": [
  {
   "cell_type": "markdown",
   "metadata": {},
   "source": [
    "## Camilo Enrique Farelo Panesso"
   ]
  },
  {
   "cell_type": "markdown",
   "metadata": {},
   "source": [
    "## DETECCIÓN DE ATAQUES DoS EN UNA RED POR MEDIO DE APRENDIZAJE DE MÁQUINA"
   ]
  },
  {
   "cell_type": "markdown",
   "metadata": {},
   "source": [
    "### Descripción del problema."
   ]
  },
  {
   "cell_type": "markdown",
   "metadata": {},
   "source": [
    "En las ultimas dos décadas, el uso del internet se ha vuelto parte fundamental de nuestra vida diaria ya que gracias a esta tecnología podemos comunicarnos de manera instantánea, disfrutar de contenido de ocio, acceder a material académico o realizar transacciones comerciales. \n",
    "\n",
    "Las empresas también disfrutan de estos beneficios ya que para ellas significa reducción de costos dejando a un lado actividades que se hacían hace varios años como llamadas a larga distancia, pago de mensajería para transportar documentación, hacer filas en bancos o viajar a reuniones en otras partes. \n",
    "\n",
    "Con el aumento de la circulación de datos a través de las redes también han surgido nuevos criminales que buscan robar o cambiar esa información y realizar transacciones bancarias a sus cuentas de manera ilegal. Las herramientas más utilizadas para lograr estos fines son mediante correos electrónicos o paginas web maliciosas.\n",
    "\n",
    "Según datos de la compañía AV Test, de 65 millones de malware totales que había en 2011 paso a ser en el 2020 de 1045 millones aproximadamente. Con base a un reporte de la compañía WEBROOT, el 93% de estos ataques detectados tenían la capacidad de cambiar su código para evadir la seguridad y fueron detectados en un solo equipo. Según la Universidad de Maryland, actualmente los hackers realizan un ataque cada 39 segundos \n",
    "\n",
    "Las empresas emplean técnicas de seguridad tradicionales y capacitaciones de ética relacionadas al manejo de información, pero estas tienen muchos inconvenientes. Algunos de estos inconvenientes son:\n",
    "* No pueden predecir nuevas amenazas o ataques ya que aún no se ha capturado suficiente información sobre ellos.\n",
    "* Los ataques son detectados ya en el momento que estos han infectado la red y en el peor de los casos pueden demorar meses encontrándolos lo que permite al criminal robar suficiente información de la empresa.\n",
    "* El número de falsas alarmas que dan las técnicas tradicionales es muy alto lo que después se reflejara en los costos.\n",
    "\n",
    "Con esas cifras preocupantes se ha llegado a la conclusión de que ya un algoritmo simple que actúa como un humano no nos va a garantizar la total protección de nuestras redes y dispositivos. Las técnicas de Machine Learning permitirán detectar amenazas de manera más rápida sin que esta llegue a dañar la red. Además, reducirá tanto el costo computacional como el económico y el crecimiento de la Inteligencia Artificial hace que cualquier tarea migre para este campo.\n"
   ]
  },
  {
   "cell_type": "markdown",
   "metadata": {},
   "source": [
    "## Objetivos "
   ]
  },
  {
   "cell_type": "markdown",
   "metadata": {},
   "source": [
    "**Objetivo General** \n",
    "\n",
    "Implementar un sistema que tenga la capacidad de predecir y detectar ataques DoS informáticos en una red, dando una respuesta en tiempo real mediante la aplicación de técnicas de Machine Learning.\n",
    "\n",
    "**Objetivos Específicos** \n",
    "\n",
    "* Escoger la base de datos adecuada. Esta debe ser actualizada en cuanto protocolos y tipos de servicio. Además, tiene que estar etiquetada, y con un gran número de características y muestras. \n",
    "* Como en la base de datos se encuentran muestras de paquetes normales y de 9 categorías de ataques, entonces a partir de esa se realizará una nueva base de datos que solo incluya paquetes normales y paquetes DoS.\n",
    "* De la base de datos, seleccionar mediante extracción de características, las más cruciales que hacen que un paquete capturado en una red sea o no una amenaza. \n",
    "* Realizar varias pruebas con los algoritmos de aprendizaje supervisado más comunes y teniendo en cuenta los resultados arrojados por las librerías seleccionar el mejor en cuanto a precisión, tiempo y tasa de errores."
   ]
  },
  {
   "cell_type": "markdown",
   "metadata": {},
   "source": [
    "### Marco Teórico \n",
    "\n",
    "El Machine Learning ya no es el futuro de la tecnología sino el presente y lo podemos evidenciar en cosas tan simples como que Google arroja resultados acordes a nuestros deseos o que las plataformas de E-Commerce nos ofrecen artículos relacionados a nuestros deseos o compras previas.  Sin embargo, no son las únicas aplicaciones que tiene el ML debido a que ya es utilizada en campos como el reconocimiento facial, filtrado de los correos electrónicos, detección de palabras, atención al cliente, exámenes médicos, clasificación, entre otros.\n",
    "\n",
    "De acuerdo con lo anterior, se puede definir el Machine Learning como una rama de la Inteligencia Artificial en la cual las maquinas utilizan bases de datos para su análisis, aprendizaje y luego esta máquina modela problemas del mundo real y genera predicciones predice sin necesidad de estar explícitamente programada.\n",
    "\n",
    "Como cualquier actividad requiere medidas de seguridad, esta no podría ser la excepción en el caso de proteger los datos personales de los usuarios. Por eso en las redes se aplica la ciberseguridad también conocida como Seguridad Informática, que es la rama de la telemática que consiste en la defensa de la infraestructura y de la información contenida en dispositivos electrónicos como Servidores, Computadores o celulares mediante protocolos, métodos y leyes.\n",
    "\n",
    "En un mundo tan interconectado como el actual, muchas personas anónimas aprovechan la infraestructura existente para acceder a los dispositivos finales(computadores, celulares, dispositivos AI entre otros) para robar información mediante Software Malicioso o mejor conocido como Malware, el cual tiene muchas maneras de operar dentro de un equipo entre las cuales están Adware, Troyanos, Keyloggers, backdoors entre otros. \n",
    "\n",
    "Así como los equipos son infectados por Malwares, análogamente los sitios web reciben ataques conocidos como Denegadores de Servicio (DoS), en el cual se hace creer a los usuarios que el sitio web no se encuentra disponible. Para lograr esto, el atacante crea una red de computadores infectados conocida como botnet los cuales ocupan el ancho de banda mediante correos spam u otros tipos de actividades. Este ataque es efectivo y difícil de detectar debido a que utiliza los protocolos de transporte TCP/IP.\n",
    "\n",
    "Como el tráfico aumenta de manera exponencial, ya los sistemas tradicionales no son eficientes a la hora de proteger las redes, con lo cual se hace necesario la implementación del Machine Learning en la Seguridad Informática. \n",
    "\n",
    "Para medir el desempeño de cualquier sistema con ML, se utiliza la matriz de confusión, que describe la clasificación de los resultados en detalle cuando son correctos o incorrectos en diferentes clases. \n"
   ]
  },
  {
   "cell_type": "code",
   "execution_count": 3,
   "metadata": {},
   "outputs": [
    {
     "data": {
      "text/html": [
       "<div>\n",
       "<style scoped>\n",
       "    .dataframe tbody tr th:only-of-type {\n",
       "        vertical-align: middle;\n",
       "    }\n",
       "\n",
       "    .dataframe tbody tr th {\n",
       "        vertical-align: top;\n",
       "    }\n",
       "\n",
       "    .dataframe thead th {\n",
       "        text-align: right;\n",
       "    }\n",
       "</style>\n",
       "<table border=\"1\" class=\"dataframe\">\n",
       "  <thead>\n",
       "    <tr style=\"text-align: right;\">\n",
       "      <th></th>\n",
       "      <th>Predecido como Positivo</th>\n",
       "      <th>Predecido como Negativo</th>\n",
       "    </tr>\n",
       "  </thead>\n",
       "  <tbody>\n",
       "    <tr>\n",
       "      <th>Etiquetados como Positivos</th>\n",
       "      <td>Verdaderos Positivos</td>\n",
       "      <td>Falsos Negativos</td>\n",
       "    </tr>\n",
       "    <tr>\n",
       "      <th>Etiquetados como Negativos</th>\n",
       "      <td>Falsos Positivos</td>\n",
       "      <td>Verdaderos Negativos</td>\n",
       "    </tr>\n",
       "  </tbody>\n",
       "</table>\n",
       "</div>"
      ],
      "text/plain": [
       "                           Predecido como Positivo Predecido como Negativo\n",
       "Etiquetados como Positivos    Verdaderos Positivos        Falsos Negativos\n",
       "Etiquetados como Negativos        Falsos Positivos    Verdaderos Negativos"
      ]
     },
     "execution_count": 3,
     "metadata": {},
     "output_type": "execute_result"
    }
   ],
   "source": [
    "import pandas as pd\n",
    "data = [['Verdaderos Positivos', 'Falsos Negativos'], ['Falsos Positivos', 'Verdaderos Negativos']]\n",
    "pd.DataFrame(data, columns=[\"Predecido como Positivo\", \"Predecido como Negativo\"], index=[\"Etiquetados como Positivos\",\"Etiquetados como Negativos\"])"
   ]
  },
  {
   "cell_type": "markdown",
   "metadata": {},
   "source": [
    "**Verdaderos Positivos (TP):** Muestras positivas que se clasificaron correctamente.\n",
    "\n",
    "**Falsos Negativos (FN):** Muestras positivas que fueron mal clasificadas. \n",
    "\n",
    "**Falsos Positivos (FP):** Muestras negativas que fueron mal clasificadas.\n",
    "\n",
    "**Verdaderos Negativos (TN):** Muestras negativas que se clasificaron correctamente.\n",
    "\n",
    "**Precisión:** corresponde al número de muestras clasificadas correctamente del total de las muestras del dataset. Se calcula con la siguiente ecuación: \n",
    "\n",
    "$ \\frac{TP+TN}{TP+TN+FP+FN} $"
   ]
  },
  {
   "cell_type": "markdown",
   "metadata": {},
   "source": [
    "### Posibles fuentes de información"
   ]
  },
  {
   "cell_type": "markdown",
   "metadata": {},
   "source": [
    "http://openaccess.uoc.edu/webapps/o2/handle/10609/91066\n",
    "http://openaccess.uoc.edu/webapps/o2/handle/10609/81126 Fuente: Universitat Oberta de Catalunya. \n",
    "Se puede decir que el artículo anterior es muy útil y confiable ya que se encuentra en la base de datos de esta universidad. La UOC fué recientemente destacada a nivel Español ubicandose en el puesto 12 aún siendo una universidad virtual según la firma educativa Times Higher Education. Según esta firma la UOC tiene un peso del 30% en invesitgación y un 30% de peso en citas.\n",
    "\n",
    "https://ieeexplore.ieee.org/abstract/document/8359287\n",
    "https://ieeexplore.ieee.org/abstract/document/7103959\n",
    "https://ieeexplore.ieee.org/abstract/document/7307098\n",
    "https://ieeexplore.ieee.org/document/8702583 Fuente: IEEE Xplore\n",
    "Se puede decir que los artículos anteriores son muy confiables ya que además de su fecha de publicación la cual es reciente, se encuentran en la base de datos de la IEEE que es una de las organizaciones más prestigiosas en Telecomunicaciones y afines con más de 6200 estándares, 2400 libros y aproximadamente son agregados mensualmente 20000 documentos. \n",
    "\n",
    "https://vford.me/papers/Ford%20Siraj%20Machine%20Learning%20in%20Cyber%20Security%20final%20manuscript.pdf Fuente: vford.me\n",
    "Este documento se encontró en el blog personal del profesor Vitaly Ford, quien es un profesor del Departamento de Ciencias Computacionales y Matemáticas de la Universida de Arcadia. Enseña asignaturas como Arquitectura de Computadores, Estructuras de Datos y Algoritmos,Seguridad en Redes entre otras. En el 2017 obtuvo su Doctorado en Seguridad Informática y trabaja en artículos con nuevos investigadores para hacerlos conocer. \n",
    "\n",
    "https://arxiv.org/abs/1701.07179\n",
    "https://arxiv.org/abs/1312.2177\n",
    "https://arxiv.org/abs/1307.7286 Fuente: Arxiv\n",
    "Esta fuente tiene la ventaja de pre-publicar artículos que posiblemente sean buenos mientras estan en proceso de aprobación dandole la posibilidad a los estudiantes e investigadores tener un acceso amplio a la información en ramas como física, matemáticas y ciencas de computación.\n",
    "\n",
    "https://pdfs.semanticscholar.org/0278/bbaf1db5df036f02393679d485260b1daeb7.pdf Fuente: Semantic Scholar\n",
    "Semantic Scholar es un buscador del tipo de Google Scholar el cual esta basado en Inteligencia Artificial que tiene aportaciones en información añadida, asociación semántica y uso de grafos. \n",
    "\n",
    "https://www.sciencedirect.com/science/article/pii/S1084804519303868 Fuente: ScienceDirect\n",
    "\n",
    "https://link.springer.com/chapter/10.1007/978-981-15-1706-8_3\n",
    "https://link.springer.com/chapter/10.1007/978-3-030-29053-5_2\n",
    "https://sci-hub.tw/https://link.springer.com/chapter/10.1007/978-3-642-18333-1_12\n",
    "Fuente: SpringerLink"
   ]
  },
  {
   "cell_type": "markdown",
   "metadata": {},
   "source": [
    "### Estado del Arte (Taxonomia)"
   ]
  },
  {
   "cell_type": "markdown",
   "metadata": {},
   "source": [
    "En los artículos consultados acerca del tema se puede ver tendencias en las etapas correspondientes al preprocesamiento de la base de datos y en el entrenamiento del sistema. Para el preprocesamiento se encontraron tendencias como utilizar parte de las muestras de la base de datos garantizando que sea balanceado, agregar caracteísticas nuevas con valores numéricos correspondientes con las características cualitativas, normalizacion de valores y supresion de características. En el momento de aprendizaje se utilizaron tecnicas de Árbol de Decisión, Maquinas de Soporte Vectorial, Clasificación Bayesiana, Redes Neuronales Regresión Lineal y Métodos Híbridos. "
   ]
  },
  {
   "cell_type": "markdown",
   "metadata": {},
   "source": [
    "### Marco Experimental\n",
    "Para el analisis de trafico en la red, los datasets más comunes son KDD98, KDDCUP99 y NSLKDD los cuales fueron creados hace más de una decada lo cual hace que sean poco confiables debido a que no incluyen las nuevas modalidades de ataques informáticos. \n",
    "La integración de varios grupos cientificos que trabajan en ciberseguridad  ha permitido que la empresa IXIA cree el dataset UNSW-NB15 el cual va a ser utilizado para este proyecto de materia. La generación de esta base de datos consiste en crear un generador de tráfico que tiene dos interfaces conectadas con tres servidores virtuales, uno de ellos destinado para el tráfico de malware. Los host se encuentran conectados a los servidores por medio de dos routers que a su vez se encuentran conectados a un firewall que deja pasar todo tipo de tráfico. \n",
    "Gracias a las altas velocidades realizaron dos pruebas en las cuales capturaron 50 GB de tráfico en cada una. Estas pruebas se realizaron en el mes de febrero del año 2015 durante 16 horas.\n",
    "Las carácterísticas extraidas durante las pruebas se pueden dividir en 6 grupos los cuales son: \n",
    "* Carácterísticas de flujo: entre estas se puede mencionar la IP de origen, la IP de destino, el número de puerto de origen y destino, y el protocolo de transacción. \n",
    "* Caraterísticas básicas: entre estas se encuentran la duración total del flujo, el tamaño en bytes de las cabeceras, los tiempos de vida, tipo de servicio, paquetes perdidos y el conteo de paquetes. \n",
    "* Características de contenido: estas incluyen los números de secuencia, el tamaño de secuencia, el promedio de paquetes transmitidos y el tamaño de contenido enviado a los servidores. \n",
    "* Características de tiempo: se encuentran el tiempo de retardo, los tiempos de llegada, los tiempos de confirmación entre otros. \n",
    "* Características adicionales: confirmación de sesiones, número de flujos obtenidos en los diferentes servicios y el número de conexiones. \n",
    "* Características etiquetadas: En estas se encuentran el tipo de ataque informático y la etiqueta de amenaza o ataque normal."
   ]
  },
  {
   "cell_type": "markdown",
   "metadata": {},
   "source": [
    "### Estado del Arte \n",
    "* Yan M., Liu Z. (2011) A New Method of Transductive SVM-Based Network Intrusion Detection. Utilizan la base de datos DARPA 1998 de la cual se extren 200 paquetes positivos y 200 DoS. Se utilizaron dos tipos de SVM y el mejor resultado tuvo una precisión del 81.2% y una tasa de falsa alarma de 0.47%. \n",
    "* Kokila RT., S Thamarai Selvi., Kannan Govindarajan. (2014) DDoS Detection and Analysis in SDN-based Environment Using Support Vector Machine Classifier. Se utiliza el dataset DARPA 200 del cual 935 instancias son de entrenamiento y 1035 para el testing. El método de aprendizaje utilizado es el SVM donde el resultado fué una presicipn del 95.11% y una tasa de falsa alarma de 0.008. También se realizaron pruebas con otros métodos como Naive Bayes, Random Forest y RBF donde se obtuvo una precisión parecida pero con unas tasas de falsa alarma mucho más altas. \n",
    "* Nour Moustafa & Jill Slay (2016) The evaluation of Network Anomaly Detection Systems: Statistical analysis of the UNSW-NB15 data set and the comparison with the KDD99 data set. Se realizan las fases de entrenamiento y testing en función de su precisión y tasa de falsas alarmas utilizando 5 técnicas (Naive Bayes, Decision Tree, Redes Neuronales, Regresion Lineal y EM clustering). El programa se construyó en Visual Studio y se implementó con los parámetros originales de entrada. Después de las pruebas se comprobó que la mejor técnica de aprendizaje es Decision Tree con un 85.5% de precisión y 15.78% de tasa de falsa alarma. \n",
    "* E.G. Dada. (2017) A Hybridized SVM-kNN-pdAPSO Approach to Intrusion Detection System. Se utiliza el dataset KDD99 al cual se le realiza un preprocesamiento de cambiar el tipo de amenaza informática por un valor numérico. Luego se realiza clasificación por SVM, Proximos Vecinos y pd APSO, y con este método híbrido se obtiene un resultado de 98.55% de precisión. \n",
    "* Rodriguez Rama Jose Manuel. (2018) Aplicación de técnicas de Machine Learning en la detección de ataques. En este trabajo se utiliza un dataset con 4'900.000 vectores, cada uno con 41 atributos etiquetados como normal o ataques determinados. Para la implementación primero realiza un preprocesamiento que consiste en eliminar atributos para reducir el tiempo de entrenamiento. Para esta selección de características recurre a la ayuda del software WEKA, luego las codifica y normaliza. Como el dataset se encuentra etiquetado utiliza aprendizaje supervisado. Para el entrenamiento utliza Árbol de Decisión obteniendo como resultado una precisión de 99.84%. \n",
    "* Moscardó Perez Juan Carlos. (2018) Aplicación de técnicas de Machine Learning a la seguridad. En este caso utiliza el dataset HTTP DATASET CISC 2010 con 97065 instancias de las cuales 25mil son ataques. El 85% de la base de datos se utiliza para el entrenamiento y el restante para el testing. En el preprocesamiento genera nuevas características a partir de las existentes todo con ayuda del software WEKA. En el código implementa varios algoritmos de aprendizaje dando como reusltado que el Árbol de Decisión fué el de mejor desempeño con una precisón de 97.848%."
   ]
  },
  {
   "cell_type": "code",
   "execution_count": null,
   "metadata": {},
   "outputs": [],
   "source": []
  }
 ],
 "metadata": {
  "kernelspec": {
   "display_name": "Python 3",
   "language": "python",
   "name": "python3"
  },
  "language_info": {
   "codemirror_mode": {
    "name": "ipython",
    "version": 3
   },
   "file_extension": ".py",
   "mimetype": "text/x-python",
   "name": "python",
   "nbconvert_exporter": "python",
   "pygments_lexer": "ipython3",
   "version": "3.7.3"
  }
 },
 "nbformat": 4,
 "nbformat_minor": 2
}
