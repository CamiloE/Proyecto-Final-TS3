{
 "cells": [
  {
   "cell_type": "markdown",
   "metadata": {},
   "source": [
    "## Camilo Enrique Farelo Panesso"
   ]
  },
  {
   "cell_type": "markdown",
   "metadata": {},
   "source": [
    "## DETECCIÓN DE ATAQUES DoS EN UNA RED POR MEDIO DE APRENDIZAJE DE MÁQUINA"
   ]
  },
  {
   "cell_type": "markdown",
   "metadata": {},
   "source": [
    "### Descripción del problema."
   ]
  },
  {
   "cell_type": "markdown",
   "metadata": {},
   "source": [
    "En las ultimas dos décadas, el uso del internet se ha vuelto parte fundamental de nuestra vida diaria ya que gracias a esta tecnología podemos comunicarnos de manera instantánea, disfrutar de contenido de ocio, acceder a material académico o realizar transacciones comerciales. \n",
    "\n",
    "Las empresas también disfrutan de estos beneficios ya que para ellas significa reducción de costos dejando a un lado actividades que se hacían hace varios años como llamadas a larga distancia, pago de mensajería para transportar documentación, hacer filas en bancos o viajar a reuniones en otras partes. \n",
    "\n",
    "Con el aumento de la circulación de datos a través de las redes también han surgido nuevos criminales que buscan robar o cambiar esa información y realizar transacciones bancarias a sus cuentas de manera ilegal. Las herramientas más utilizadas para lograr estos fines son mediante correos electrónicos o paginas web maliciosas.\n",
    "\n",
    "Según datos de la compañía AV Test, de 65 millones de malware totales que había en 2011 paso a ser en el 2020 de 1045 millones aproximadamente. Con base a un reporte de la compañía WEBROOT, el 93% de estos ataques detectados tenían la capacidad de cambiar su código para evadir la seguridad y fueron detectados en un solo equipo. Según la Universidad de Maryland, actualmente los hackers realizan un ataque cada 39 segundos \n",
    "\n",
    "Las empresas emplean técnicas de seguridad tradicionales y capacitaciones de ética relacionadas al manejo de información, pero estas tienen muchos inconvenientes. Algunos de estos inconvenientes son:\n",
    "* No pueden predecir nuevas amenazas o ataques ya que aún no se ha capturado suficiente información sobre ellos.\n",
    "* Los ataques son detectados ya en el momento que estos han infectado la red y en el peor de los casos pueden demorar meses encontrándolos lo que permite al criminal robar suficiente información de la empresa.\n",
    "* El número de falsas alarmas que dan las técnicas tradicionales es muy alto lo que después se reflejara en los costos.\n",
    "\n",
    "Con esas cifras preocupantes se ha llegado a la conclusión de que ya un algoritmo simple que actúa como un humano no nos va a garantizar la total protección de nuestras redes y dispositivos. Las técnicas de Machine Learning permitirán detectar amenazas de manera más rápida sin que esta llegue a dañar la red. Además, reducirá tanto el costo computacional como el económico y el crecimiento de la Inteligencia Artificial hace que cualquier tarea migre para este campo.\n"
   ]
  },
  {
   "cell_type": "markdown",
   "metadata": {},
   "source": [
    "## Objetivos "
   ]
  },
  {
   "cell_type": "markdown",
   "metadata": {},
   "source": [
    "**Objetivo General** \n",
    "\n",
    "Implementar un sistema que tenga la capacidad de predecir y detectar ataques DoS informáticos en una red, dando una respuesta en tiempo real mediante la aplicación de técnicas de Machine Learning.\n",
    "\n",
    "**Objetivos Específicos** \n",
    "\n",
    "* Escoger la base de datos adecuada. Esta debe ser actualizada en cuanto protocolos y tipos de servicio. Además, tiene que estar etiquetada, y con un gran número de características y muestras. \n",
    "* Como en la base de datos se encuentran muestras de paquetes normales y de 9 categorías de ataques, entonces a partir de esa se realizará una nueva base de datos que solo incluya paquetes normales y paquetes DoS.\n",
    "* De la base de datos, seleccionar mediante extracción de características, las más cruciales que hacen que un paquete capturado en una red sea o no una amenaza. \n",
    "* Realizar varias pruebas con los algoritmos de aprendizaje supervisado más comunes y teniendo en cuenta los resultados arrojados por las librerías seleccionar el mejor en cuanto a precisión, tiempo y tasa de errores."
   ]
  },
  {
   "cell_type": "markdown",
   "metadata": {},
   "source": [
    "### Marco Teórico \n",
    "\n",
    "El Machine Learning ya no es el futuro de la tecnología sino el presente y lo podemos evidenciar en cosas tan simples como que Google arroja resultados acordes a nuestros deseos o que las plataformas de E-Commerce nos ofrecen artículos relacionados a nuestros deseos o compras previas.  Sin embargo, no son las únicas aplicaciones que tiene el ML debido a que ya es utilizada en campos como el reconocimiento facial, filtrado de los correos electrónicos, detección de palabras, atención al cliente, exámenes médicos, clasificación, entre otros.\n",
    "\n",
    "De acuerdo con lo anterior, se puede definir el Machine Learning como una rama de la Inteligencia Artificial en la cual las maquinas utilizan bases de datos para su análisis, aprendizaje y luego esta máquina modela problemas del mundo real y genera predicciones predice sin necesidad de estar explícitamente programada.\n",
    "\n",
    "Como cualquier actividad requiere medidas de seguridad, esta no podría ser la excepción en el caso de proteger los datos personales de los usuarios. Por eso en las redes se aplica la ciberseguridad también conocida como Seguridad Informática, que es la rama de la telemática que consiste en la defensa de la infraestructura y de la información contenida en dispositivos electrónicos como Servidores, Computadores o celulares mediante protocolos, métodos y leyes.\n",
    "\n",
    "En un mundo tan interconectado como el actual, muchas personas anónimas aprovechan la infraestructura existente para acceder a los dispositivos finales(computadores, celulares, dispositivos AI entre otros) para robar información mediante Software Malicioso o mejor conocido como Malware, el cual tiene muchas maneras de operar dentro de un equipo entre las cuales están Adware, Troyanos, Keyloggers, backdoors entre otros. \n",
    "\n",
    "Así como los equipos son infectados por Malwares, análogamente los sitios web reciben ataques conocidos como Denegadores de Servicio (DoS), en el cual se hace creer a los usuarios que el sitio web no se encuentra disponible. Para lograr esto, el atacante crea una red de computadores infectados conocida como botnet los cuales ocupan el ancho de banda mediante correos spam u otros tipos de actividades. Este ataque es efectivo y difícil de detectar debido a que utiliza los protocolos de transporte TCP/IP.\n",
    "\n",
    "Como el tráfico aumenta de manera exponencial, ya los sistemas tradicionales no son eficientes a la hora de proteger las redes, con lo cual se hace necesario la implementación del Machine Learning en la Seguridad Informática. \n",
    "\n",
    "Para medir el desempeño de cualquier sistema con ML, se utiliza la matriz de confusión, que describe la clasificación de los resultados en detalle cuando son correctos o incorrectos en diferentes clases. \n"
   ]
  },
  {
   "cell_type": "code",
   "execution_count": 1,
   "metadata": {},
   "outputs": [
    {
     "data": {
      "text/html": [
       "<div>\n",
       "<style scoped>\n",
       "    .dataframe tbody tr th:only-of-type {\n",
       "        vertical-align: middle;\n",
       "    }\n",
       "\n",
       "    .dataframe tbody tr th {\n",
       "        vertical-align: top;\n",
       "    }\n",
       "\n",
       "    .dataframe thead th {\n",
       "        text-align: right;\n",
       "    }\n",
       "</style>\n",
       "<table border=\"1\" class=\"dataframe\">\n",
       "  <thead>\n",
       "    <tr style=\"text-align: right;\">\n",
       "      <th></th>\n",
       "      <th>Predecido como Positivo</th>\n",
       "      <th>Predecido como Negativo</th>\n",
       "    </tr>\n",
       "  </thead>\n",
       "  <tbody>\n",
       "    <tr>\n",
       "      <th>Etiquetados como Positivos</th>\n",
       "      <td>Verdaderos Positivos</td>\n",
       "      <td>Falsos Negativos</td>\n",
       "    </tr>\n",
       "    <tr>\n",
       "      <th>Etiquetados como Negativos</th>\n",
       "      <td>Falsos Positivos</td>\n",
       "      <td>Verdaderos Negativos</td>\n",
       "    </tr>\n",
       "  </tbody>\n",
       "</table>\n",
       "</div>"
      ],
      "text/plain": [
       "                           Predecido como Positivo Predecido como Negativo\n",
       "Etiquetados como Positivos    Verdaderos Positivos        Falsos Negativos\n",
       "Etiquetados como Negativos        Falsos Positivos    Verdaderos Negativos"
      ]
     },
     "execution_count": 1,
     "metadata": {},
     "output_type": "execute_result"
    }
   ],
   "source": [
    "import pandas as pd\n",
    "data = [['Verdaderos Positivos', 'Falsos Negativos'], ['Falsos Positivos', 'Verdaderos Negativos']]\n",
    "pd.DataFrame(data, columns=[\"Predecido como Positivo\", \"Predecido como Negativo\"], index=[\"Etiquetados como Positivos\",\"Etiquetados como Negativos\"])"
   ]
  },
  {
   "cell_type": "markdown",
   "metadata": {},
   "source": [
    "**Verdaderos Positivos (TP):** Muestras positivas que se clasificaron correctamente.\n",
    "\n",
    "**Falsos Negativos (FN):** Muestras positivas que fueron mal clasificadas. \n",
    "\n",
    "**Falsos Positivos (FP):** Muestras negativas que fueron mal clasificadas.\n",
    "\n",
    "**Verdaderos Negativos (TN):** Muestras negativas que se clasificaron correctamente.\n",
    "\n",
    "**Precisión:** corresponde al número de muestras clasificadas correctamente del total de las muestras del dataset. Se calcula con la siguiente ecuación: \n",
    "\n",
    "$ \\frac{TP+TN}{TP+TN+FP+FN} $"
   ]
  },
  {
   "cell_type": "markdown",
   "metadata": {},
   "source": [
    "### Posibles fuentes de información"
   ]
  },
  {
   "cell_type": "markdown",
   "metadata": {},
   "source": [
    "http://openaccess.uoc.edu/webapps/o2/handle/10609/91066\n",
    "http://openaccess.uoc.edu/webapps/o2/handle/10609/81126 Fuente: Universitat Oberta de Catalunya. \n",
    "Se puede decir que el artículo anterior es muy útil y confiable ya que se encuentra en la base de datos de esta universidad. La UOC fué recientemente destacada a nivel Español ubicandose en el puesto 12 aún siendo una universidad virtual según la firma educativa Times Higher Education. Según esta firma la UOC tiene un peso del 30% en invesitgación y un 30% de peso en citas.\n",
    "\n",
    "https://ieeexplore.ieee.org/abstract/document/8359287\n",
    "https://ieeexplore.ieee.org/abstract/document/7103959\n",
    "https://ieeexplore.ieee.org/abstract/document/7307098\n",
    "https://ieeexplore.ieee.org/document/8702583 Fuente: IEEE Xplore\n",
    "Se puede decir que los artículos anteriores son muy confiables ya que además de su fecha de publicación la cual es reciente, se encuentran en la base de datos de la IEEE que es una de las organizaciones más prestigiosas en Telecomunicaciones y afines con más de 6200 estándares, 2400 libros y aproximadamente son agregados mensualmente 20000 documentos. \n",
    "\n",
    "https://vford.me/papers/Ford%20Siraj%20Machine%20Learning%20in%20Cyber%20Security%20final%20manuscript.pdf Fuente: vford.me\n",
    "Este documento se encontró en el blog personal del profesor Vitaly Ford, quien es un profesor del Departamento de Ciencias Computacionales y Matemáticas de la Universida de Arcadia. Enseña asignaturas como Arquitectura de Computadores, Estructuras de Datos y Algoritmos,Seguridad en Redes entre otras. En el 2017 obtuvo su Doctorado en Seguridad Informática y trabaja en artículos con nuevos investigadores para hacerlos conocer. \n",
    "\n",
    "https://arxiv.org/abs/1701.07179\n",
    "https://arxiv.org/abs/1312.2177\n",
    "https://arxiv.org/abs/1307.7286 Fuente: Arxiv\n",
    "Esta fuente tiene la ventaja de pre-publicar artículos que posiblemente sean buenos mientras estan en proceso de aprobación dandole la posibilidad a los estudiantes e investigadores tener un acceso amplio a la información en ramas como física, matemáticas y ciencas de computación.\n",
    "\n",
    "https://pdfs.semanticscholar.org/0278/bbaf1db5df036f02393679d485260b1daeb7.pdf Fuente: Semantic Scholar\n",
    "Semantic Scholar es un buscador del tipo de Google Scholar el cual esta basado en Inteligencia Artificial que tiene aportaciones en información añadida, asociación semántica y uso de grafos. \n",
    "\n",
    "https://www.sciencedirect.com/science/article/pii/S1084804519303868 Fuente: ScienceDirect\n",
    "\n",
    "https://link.springer.com/chapter/10.1007/978-981-15-1706-8_3\n",
    "https://link.springer.com/chapter/10.1007/978-3-030-29053-5_2\n",
    "https://sci-hub.tw/https://link.springer.com/chapter/10.1007/978-3-642-18333-1_12\n",
    "Fuente: SpringerLink"
   ]
  },
  {
   "cell_type": "markdown",
   "metadata": {},
   "source": [
    "### Estado del Arte (Taxonomia)"
   ]
  },
  {
   "cell_type": "markdown",
   "metadata": {},
   "source": [
    "En los artículos consultados acerca del tema se puede ver tendencias en las etapas correspondientes al preprocesamiento de la base de datos y en el entrenamiento del sistema. Para el preprocesamiento se encontraron tendencias como utilizar parte de las muestras de la base de datos garantizando que sea balanceado, agregar caracteísticas nuevas con valores numéricos correspondientes con las características cualitativas, normalizacion de valores y supresion de características. En el momento de aprendizaje se utilizaron tecnicas de Árbol de Decisión, Maquinas de Soporte Vectorial, Clasificación Bayesiana, Redes Neuronales Regresión Lineal y Métodos Híbridos. "
   ]
  },
  {
   "cell_type": "markdown",
   "metadata": {},
   "source": [
    "### Marco Experimental\n",
    "Para el analisis de trafico en la red, los datasets más comunes son KDD98, KDDCUP99 y NSLKDD los cuales fueron creados hace más de una decada lo cual hace que sean poco confiables debido a que no incluyen las nuevas modalidades de ataques informáticos. \n",
    "La integración de varios grupos cientificos que trabajan en ciberseguridad  ha permitido que la empresa IXIA cree el dataset UNSW-NB15 el cual va a ser utilizado para este proyecto de materia. La generación de esta base de datos consiste en crear un generador de tráfico que tiene dos interfaces conectadas con tres servidores virtuales, uno de ellos destinado para el tráfico de malware. Los host se encuentran conectados a los servidores por medio de dos routers que a su vez se encuentran conectados a un firewall que deja pasar todo tipo de tráfico. \n",
    "Gracias a las altas velocidades realizaron dos pruebas en las cuales capturaron 50 GB de tráfico en cada una. Estas pruebas se realizaron en el mes de febrero del año 2015 durante 16 horas.\n",
    "Las carácterísticas extraidas durante las pruebas se pueden dividir en 6 grupos los cuales son: \n",
    "* Carácterísticas de flujo: entre estas se puede mencionar la IP de origen, la IP de destino, el número de puerto de origen y destino, y el protocolo de transacción. \n",
    "* Caraterísticas básicas: entre estas se encuentran la duración total del flujo, el tamaño en bytes de las cabeceras, los tiempos de vida, tipo de servicio, paquetes perdidos y el conteo de paquetes. \n",
    "* Características de contenido: estas incluyen los números de secuencia, el tamaño de secuencia, el promedio de paquetes transmitidos y el tamaño de contenido enviado a los servidores. \n",
    "* Características de tiempo: se encuentran el tiempo de retardo, los tiempos de llegada, los tiempos de confirmación entre otros. \n",
    "* Características adicionales: confirmación de sesiones, número de flujos obtenidos en los diferentes servicios y el número de conexiones. \n",
    "* Características etiquetadas: En estas se encuentran el tipo de ataque informático y la etiqueta de amenaza o ataque normal."
   ]
  },
  {
   "cell_type": "markdown",
   "metadata": {},
   "source": [
    "### Estado del Arte \n",
    "* Yan M., Liu Z. (2011) A New Method of Transductive SVM-Based Network Intrusion Detection. Utilizan la base de datos DARPA 1998 de la cual se extren 200 paquetes positivos y 200 DoS. Se utilizaron dos tipos de SVM y el mejor resultado tuvo una precisión del 81.2% y una tasa de falsa alarma de 0.47%. \n",
    "* Kokila RT., S Thamarai Selvi., Kannan Govindarajan. (2014) DDoS Detection and Analysis in SDN-based Environment Using Support Vector Machine Classifier. Se utiliza el dataset DARPA 200 del cual 935 instancias son de entrenamiento y 1035 para el testing. El método de aprendizaje utilizado es el SVM donde el resultado fué una presicipn del 95.11% y una tasa de falsa alarma de 0.008. También se realizaron pruebas con otros métodos como Naive Bayes, Random Forest y RBF donde se obtuvo una precisión parecida pero con unas tasas de falsa alarma mucho más altas. \n",
    "* Nour Moustafa & Jill Slay (2016) The evaluation of Network Anomaly Detection Systems: Statistical analysis of the UNSW-NB15 data set and the comparison with the KDD99 data set. Se realizan las fases de entrenamiento y testing en función de su precisión y tasa de falsas alarmas utilizando 5 técnicas (Naive Bayes, Decision Tree, Redes Neuronales, Regresion Lineal y EM clustering). El programa se construyó en Visual Studio y se implementó con los parámetros originales de entrada. Después de las pruebas se comprobó que la mejor técnica de aprendizaje es Decision Tree con un 85.5% de precisión y 15.78% de tasa de falsa alarma. \n",
    "* E.G. Dada. (2017) A Hybridized SVM-kNN-pdAPSO Approach to Intrusion Detection System. Se utiliza el dataset KDD99 al cual se le realiza un preprocesamiento de cambiar el tipo de amenaza informática por un valor numérico. Luego se realiza clasificación por SVM, Proximos Vecinos y pd APSO, y con este método híbrido se obtiene un resultado de 98.55% de precisión. \n",
    "* Rodriguez Rama Jose Manuel. (2018) Aplicación de técnicas de Machine Learning en la detección de ataques. En este trabajo se utiliza un dataset con 4'900.000 vectores, cada uno con 41 atributos etiquetados como normal o ataques determinados. Para la implementación primero realiza un preprocesamiento que consiste en eliminar atributos para reducir el tiempo de entrenamiento. Para esta selección de características recurre a la ayuda del software WEKA, luego las codifica y normaliza. Como el dataset se encuentra etiquetado utiliza aprendizaje supervisado. Para el entrenamiento utliza Árbol de Decisión obteniendo como resultado una precisión de 99.84%. \n",
    "* Moscardó Perez Juan Carlos. (2018) Aplicación de técnicas de Machine Learning a la seguridad. En este caso utiliza el dataset HTTP DATASET CISC 2010 con 97065 instancias de las cuales 25mil son ataques. El 85% de la base de datos se utiliza para el entrenamiento y el restante para el testing. En el preprocesamiento genera nuevas características a partir de las existentes todo con ayuda del software WEKA. En el código implementa varios algoritmos de aprendizaje dando como reusltado que el Árbol de Decisión fué el de mejor desempeño con una precisón de 97.848%."
   ]
  },
  {
   "cell_type": "markdown",
   "metadata": {},
   "source": [
    "### Código"
   ]
  },
  {
   "cell_type": "code",
   "execution_count": 2,
   "metadata": {},
   "outputs": [
    {
     "data": {
      "text/html": [
       "<div>\n",
       "<style scoped>\n",
       "    .dataframe tbody tr th:only-of-type {\n",
       "        vertical-align: middle;\n",
       "    }\n",
       "\n",
       "    .dataframe tbody tr th {\n",
       "        vertical-align: top;\n",
       "    }\n",
       "\n",
       "    .dataframe thead th {\n",
       "        text-align: right;\n",
       "    }\n",
       "</style>\n",
       "<table border=\"1\" class=\"dataframe\">\n",
       "  <thead>\n",
       "    <tr style=\"text-align: right;\">\n",
       "      <th></th>\n",
       "      <th>id</th>\n",
       "      <th>dur</th>\n",
       "      <th>proto</th>\n",
       "      <th>service</th>\n",
       "      <th>state</th>\n",
       "      <th>spkts</th>\n",
       "      <th>dpkts</th>\n",
       "      <th>sbytes</th>\n",
       "      <th>dbytes</th>\n",
       "      <th>rate</th>\n",
       "      <th>...</th>\n",
       "      <th>ct_dst_sport_ltm</th>\n",
       "      <th>ct_dst_src_ltm</th>\n",
       "      <th>is_ftp_login</th>\n",
       "      <th>ct_ftp_cmd</th>\n",
       "      <th>ct_flw_http_mthd</th>\n",
       "      <th>ct_src_ltm</th>\n",
       "      <th>ct_srv_dst</th>\n",
       "      <th>is_sm_ips_ports</th>\n",
       "      <th>attack_cat</th>\n",
       "      <th>label</th>\n",
       "    </tr>\n",
       "  </thead>\n",
       "  <tbody>\n",
       "    <tr>\n",
       "      <th>0</th>\n",
       "      <td>1</td>\n",
       "      <td>1.214780e-01</td>\n",
       "      <td>tcp</td>\n",
       "      <td>-</td>\n",
       "      <td>FIN</td>\n",
       "      <td>6</td>\n",
       "      <td>4</td>\n",
       "      <td>258</td>\n",
       "      <td>172</td>\n",
       "      <td>7408749.0</td>\n",
       "      <td>...</td>\n",
       "      <td>1</td>\n",
       "      <td>1</td>\n",
       "      <td>0</td>\n",
       "      <td>0</td>\n",
       "      <td>0</td>\n",
       "      <td>1</td>\n",
       "      <td>1</td>\n",
       "      <td>0</td>\n",
       "      <td>Normal</td>\n",
       "      <td>0</td>\n",
       "    </tr>\n",
       "    <tr>\n",
       "      <th>1</th>\n",
       "      <td>2</td>\n",
       "      <td>6.499020e-01</td>\n",
       "      <td>tcp</td>\n",
       "      <td>-</td>\n",
       "      <td>FIN</td>\n",
       "      <td>14</td>\n",
       "      <td>38</td>\n",
       "      <td>734</td>\n",
       "      <td>42014</td>\n",
       "      <td>78473372.0</td>\n",
       "      <td>...</td>\n",
       "      <td>1</td>\n",
       "      <td>2</td>\n",
       "      <td>0</td>\n",
       "      <td>0</td>\n",
       "      <td>0</td>\n",
       "      <td>1</td>\n",
       "      <td>6</td>\n",
       "      <td>0</td>\n",
       "      <td>Normal</td>\n",
       "      <td>0</td>\n",
       "    </tr>\n",
       "    <tr>\n",
       "      <th>2</th>\n",
       "      <td>3</td>\n",
       "      <td>1.623129e+06</td>\n",
       "      <td>tcp</td>\n",
       "      <td>-</td>\n",
       "      <td>FIN</td>\n",
       "      <td>8</td>\n",
       "      <td>16</td>\n",
       "      <td>364</td>\n",
       "      <td>13186</td>\n",
       "      <td>14170161.0</td>\n",
       "      <td>...</td>\n",
       "      <td>1</td>\n",
       "      <td>3</td>\n",
       "      <td>0</td>\n",
       "      <td>0</td>\n",
       "      <td>0</td>\n",
       "      <td>2</td>\n",
       "      <td>6</td>\n",
       "      <td>0</td>\n",
       "      <td>Normal</td>\n",
       "      <td>0</td>\n",
       "    </tr>\n",
       "    <tr>\n",
       "      <th>3</th>\n",
       "      <td>4</td>\n",
       "      <td>1.681642e+06</td>\n",
       "      <td>tcp</td>\n",
       "      <td>ftp</td>\n",
       "      <td>FIN</td>\n",
       "      <td>12</td>\n",
       "      <td>12</td>\n",
       "      <td>628</td>\n",
       "      <td>770</td>\n",
       "      <td>13677108.0</td>\n",
       "      <td>...</td>\n",
       "      <td>1</td>\n",
       "      <td>3</td>\n",
       "      <td>1</td>\n",
       "      <td>1</td>\n",
       "      <td>0</td>\n",
       "      <td>2</td>\n",
       "      <td>1</td>\n",
       "      <td>0</td>\n",
       "      <td>Normal</td>\n",
       "      <td>0</td>\n",
       "    </tr>\n",
       "    <tr>\n",
       "      <th>4</th>\n",
       "      <td>5</td>\n",
       "      <td>4.494540e-01</td>\n",
       "      <td>tcp</td>\n",
       "      <td>-</td>\n",
       "      <td>FIN</td>\n",
       "      <td>10</td>\n",
       "      <td>6</td>\n",
       "      <td>534</td>\n",
       "      <td>268</td>\n",
       "      <td>33373826.0</td>\n",
       "      <td>...</td>\n",
       "      <td>1</td>\n",
       "      <td>40</td>\n",
       "      <td>0</td>\n",
       "      <td>0</td>\n",
       "      <td>0</td>\n",
       "      <td>2</td>\n",
       "      <td>39</td>\n",
       "      <td>0</td>\n",
       "      <td>Normal</td>\n",
       "      <td>0</td>\n",
       "    </tr>\n",
       "  </tbody>\n",
       "</table>\n",
       "<p>5 rows × 45 columns</p>\n",
       "</div>"
      ],
      "text/plain": [
       "   id           dur proto service state  spkts  dpkts  sbytes  dbytes  \\\n",
       "0   1  1.214780e-01   tcp       -   FIN      6      4     258     172   \n",
       "1   2  6.499020e-01   tcp       -   FIN     14     38     734   42014   \n",
       "2   3  1.623129e+06   tcp       -   FIN      8     16     364   13186   \n",
       "3   4  1.681642e+06   tcp     ftp   FIN     12     12     628     770   \n",
       "4   5  4.494540e-01   tcp       -   FIN     10      6     534     268   \n",
       "\n",
       "         rate  ...  ct_dst_sport_ltm  ct_dst_src_ltm  is_ftp_login  \\\n",
       "0   7408749.0  ...                 1               1             0   \n",
       "1  78473372.0  ...                 1               2             0   \n",
       "2  14170161.0  ...                 1               3             0   \n",
       "3  13677108.0  ...                 1               3             1   \n",
       "4  33373826.0  ...                 1              40             0   \n",
       "\n",
       "   ct_ftp_cmd  ct_flw_http_mthd  ct_src_ltm  ct_srv_dst  is_sm_ips_ports  \\\n",
       "0           0                 0           1           1                0   \n",
       "1           0                 0           1           6                0   \n",
       "2           0                 0           2           6                0   \n",
       "3           1                 0           2           1                0   \n",
       "4           0                 0           2          39                0   \n",
       "\n",
       "   attack_cat  label  \n",
       "0      Normal      0  \n",
       "1      Normal      0  \n",
       "2      Normal      0  \n",
       "3      Normal      0  \n",
       "4      Normal      0  \n",
       "\n",
       "[5 rows x 45 columns]"
      ]
     },
     "execution_count": 2,
     "metadata": {},
     "output_type": "execute_result"
    }
   ],
   "source": [
    "import numpy as np\n",
    "import pandas as pd\n",
    "import matplotlib.pyplot as plt\n",
    "df=pd.read_csv('UNSW_NB15_training-set.csv',sep=';')\n",
    "df.head()"
   ]
  },
  {
   "cell_type": "code",
   "execution_count": 3,
   "metadata": {},
   "outputs": [
    {
     "data": {
      "text/plain": [
       "Text(0.5, 1.0, 'Cantidad de tipos de paquetes')"
      ]
     },
     "execution_count": 3,
     "metadata": {},
     "output_type": "execute_result"
    },
    {
     "data": {
      "image/png": "[encoded data removed]",
      "text/plain": [
       "<Figure size 576x396 with 1 Axes>"
      ]
     },
     "metadata": {},
     "output_type": "display_data"
    }
   ],
   "source": [
    "df.set_index('id',inplace=True)\n",
    "plt.style.use('seaborn')\n",
    "df.attack_cat.value_counts().plot(kind='bar',color='m')\n",
    "plt.title('Cantidad de tipos de paquetes',size=18)"
   ]
  },
  {
   "cell_type": "code",
   "execution_count": 4,
   "metadata": {},
   "outputs": [
    {
     "data": {
      "text/plain": [
       "-           46985\n",
       "dns          7600\n",
       "http         6564\n",
       "ftp-data     2560\n",
       "smtp         1874\n",
       "ssh          1291\n",
       "ftp          1268\n",
       "pop3           65\n",
       "dhcp           33\n",
       "snmp           14\n",
       "irc             4\n",
       "ssl             4\n",
       "radius          2\n",
       "Name: service, dtype: int64"
      ]
     },
     "execution_count": 4,
     "metadata": {},
     "output_type": "execute_result"
    }
   ],
   "source": [
    "data_df=df.loc[(df.attack_cat=='Normal') | (df.attack_cat=='DoS')]#Separacion de los paquetes normales y DoS en otro dataset\n",
    "data_df.service.value_counts()#Cantidad de paquetes por servicio"
   ]
  },
  {
   "cell_type": "code",
   "execution_count": 5,
   "metadata": {},
   "outputs": [
    {
     "data": {
      "text/plain": [
       "dur                  False\n",
       "proto                False\n",
       "service              False\n",
       "state                False\n",
       "spkts                False\n",
       "dpkts                False\n",
       "sbytes               False\n",
       "dbytes               False\n",
       "rate                 False\n",
       "sttl                 False\n",
       "dttl                 False\n",
       "sload                False\n",
       "dload                False\n",
       "sloss                False\n",
       "dloss                False\n",
       "sinpkt               False\n",
       "dinpkt               False\n",
       "sjit                 False\n",
       "djit                 False\n",
       "swin                 False\n",
       "stcpb                False\n",
       "dtcpb                False\n",
       "dwin                 False\n",
       "tcprtt               False\n",
       "synack               False\n",
       "ackdat               False\n",
       "smean                False\n",
       "dmean                False\n",
       "trans_depth          False\n",
       "response_body_len    False\n",
       "ct_srv_src           False\n",
       "ct_state_ttl         False\n",
       "ct_dst_ltm           False\n",
       "ct_src_dport_ltm     False\n",
       "ct_dst_sport_ltm     False\n",
       "ct_dst_src_ltm       False\n",
       "is_ftp_login         False\n",
       "ct_ftp_cmd           False\n",
       "ct_flw_http_mthd     False\n",
       "ct_src_ltm           False\n",
       "ct_srv_dst           False\n",
       "is_sm_ips_ports      False\n",
       "attack_cat           False\n",
       "label                False\n",
       "dtype: bool"
      ]
     },
     "execution_count": 5,
     "metadata": {},
     "output_type": "execute_result"
    }
   ],
   "source": [
    "data_df.isna().any()#verificar si hay datos nulos en cada columna"
   ]
  },
  {
   "cell_type": "code",
   "execution_count": 6,
   "metadata": {},
   "outputs": [
    {
     "data": {
      "text/html": [
       "<div>\n",
       "<style scoped>\n",
       "    .dataframe tbody tr th:only-of-type {\n",
       "        vertical-align: middle;\n",
       "    }\n",
       "\n",
       "    .dataframe tbody tr th {\n",
       "        vertical-align: top;\n",
       "    }\n",
       "\n",
       "    .dataframe thead th {\n",
       "        text-align: right;\n",
       "    }\n",
       "</style>\n",
       "<table border=\"1\" class=\"dataframe\">\n",
       "  <thead>\n",
       "    <tr style=\"text-align: right;\">\n",
       "      <th></th>\n",
       "      <th>dur</th>\n",
       "      <th>proto</th>\n",
       "      <th>service</th>\n",
       "      <th>state</th>\n",
       "      <th>spkts</th>\n",
       "      <th>dpkts</th>\n",
       "      <th>sbytes</th>\n",
       "      <th>dbytes</th>\n",
       "      <th>rate</th>\n",
       "      <th>sttl</th>\n",
       "      <th>...</th>\n",
       "      <th>ct_dst_sport_ltm</th>\n",
       "      <th>ct_dst_src_ltm</th>\n",
       "      <th>is_ftp_login</th>\n",
       "      <th>ct_ftp_cmd</th>\n",
       "      <th>ct_flw_http_mthd</th>\n",
       "      <th>ct_src_ltm</th>\n",
       "      <th>ct_srv_dst</th>\n",
       "      <th>is_sm_ips_ports</th>\n",
       "      <th>attack_cat</th>\n",
       "      <th>label</th>\n",
       "    </tr>\n",
       "  </thead>\n",
       "  <tbody>\n",
       "    <tr>\n",
       "      <th>0</th>\n",
       "      <td>0.601736</td>\n",
       "      <td>tcp</td>\n",
       "      <td>http</td>\n",
       "      <td>FIN</td>\n",
       "      <td>18</td>\n",
       "      <td>10</td>\n",
       "      <td>10476</td>\n",
       "      <td>1576</td>\n",
       "      <td>44870175.0</td>\n",
       "      <td>62</td>\n",
       "      <td>...</td>\n",
       "      <td>2</td>\n",
       "      <td>2</td>\n",
       "      <td>0</td>\n",
       "      <td>0</td>\n",
       "      <td>4</td>\n",
       "      <td>2</td>\n",
       "      <td>2</td>\n",
       "      <td>0</td>\n",
       "      <td>DoS</td>\n",
       "      <td>1</td>\n",
       "    </tr>\n",
       "    <tr>\n",
       "      <th>1</th>\n",
       "      <td>0.922621</td>\n",
       "      <td>tcp</td>\n",
       "      <td>smtp</td>\n",
       "      <td>FIN</td>\n",
       "      <td>66</td>\n",
       "      <td>26</td>\n",
       "      <td>65640</td>\n",
       "      <td>1966</td>\n",
       "      <td>98632048.0</td>\n",
       "      <td>62</td>\n",
       "      <td>...</td>\n",
       "      <td>1</td>\n",
       "      <td>1</td>\n",
       "      <td>0</td>\n",
       "      <td>0</td>\n",
       "      <td>0</td>\n",
       "      <td>1</td>\n",
       "      <td>1</td>\n",
       "      <td>0</td>\n",
       "      <td>DoS</td>\n",
       "      <td>1</td>\n",
       "    </tr>\n",
       "    <tr>\n",
       "      <th>2</th>\n",
       "      <td>0.220081</td>\n",
       "      <td>tcp</td>\n",
       "      <td>http</td>\n",
       "      <td>FIN</td>\n",
       "      <td>10</td>\n",
       "      <td>8</td>\n",
       "      <td>836</td>\n",
       "      <td>1056</td>\n",
       "      <td>77244287.0</td>\n",
       "      <td>62</td>\n",
       "      <td>...</td>\n",
       "      <td>1</td>\n",
       "      <td>2</td>\n",
       "      <td>0</td>\n",
       "      <td>0</td>\n",
       "      <td>1</td>\n",
       "      <td>2</td>\n",
       "      <td>2</td>\n",
       "      <td>0</td>\n",
       "      <td>DoS</td>\n",
       "      <td>1</td>\n",
       "    </tr>\n",
       "    <tr>\n",
       "      <th>3</th>\n",
       "      <td>0.250314</td>\n",
       "      <td>tcp</td>\n",
       "      <td>http</td>\n",
       "      <td>FIN</td>\n",
       "      <td>38</td>\n",
       "      <td>10</td>\n",
       "      <td>42398</td>\n",
       "      <td>440</td>\n",
       "      <td>18776417.0</td>\n",
       "      <td>254</td>\n",
       "      <td>...</td>\n",
       "      <td>1</td>\n",
       "      <td>1</td>\n",
       "      <td>0</td>\n",
       "      <td>0</td>\n",
       "      <td>1</td>\n",
       "      <td>1</td>\n",
       "      <td>1</td>\n",
       "      <td>0</td>\n",
       "      <td>DoS</td>\n",
       "      <td>1</td>\n",
       "    </tr>\n",
       "    <tr>\n",
       "      <th>4</th>\n",
       "      <td>0.554107</td>\n",
       "      <td>tcp</td>\n",
       "      <td>http</td>\n",
       "      <td>FIN</td>\n",
       "      <td>10</td>\n",
       "      <td>10</td>\n",
       "      <td>822</td>\n",
       "      <td>1494</td>\n",
       "      <td>34289406.0</td>\n",
       "      <td>62</td>\n",
       "      <td>...</td>\n",
       "      <td>1</td>\n",
       "      <td>1</td>\n",
       "      <td>0</td>\n",
       "      <td>0</td>\n",
       "      <td>1</td>\n",
       "      <td>1</td>\n",
       "      <td>1</td>\n",
       "      <td>0</td>\n",
       "      <td>DoS</td>\n",
       "      <td>1</td>\n",
       "    </tr>\n",
       "  </tbody>\n",
       "</table>\n",
       "<p>5 rows × 44 columns</p>\n",
       "</div>"
      ],
      "text/plain": [
       "        dur proto service state  spkts  dpkts  sbytes  dbytes        rate  \\\n",
       "0  0.601736   tcp    http   FIN     18     10   10476    1576  44870175.0   \n",
       "1  0.922621   tcp    smtp   FIN     66     26   65640    1966  98632048.0   \n",
       "2  0.220081   tcp    http   FIN     10      8     836    1056  77244287.0   \n",
       "3  0.250314   tcp    http   FIN     38     10   42398     440  18776417.0   \n",
       "4  0.554107   tcp    http   FIN     10     10     822    1494  34289406.0   \n",
       "\n",
       "   sttl  ...  ct_dst_sport_ltm  ct_dst_src_ltm  is_ftp_login  ct_ftp_cmd  \\\n",
       "0    62  ...                 2               2             0           0   \n",
       "1    62  ...                 1               1             0           0   \n",
       "2    62  ...                 1               2             0           0   \n",
       "3   254  ...                 1               1             0           0   \n",
       "4    62  ...                 1               1             0           0   \n",
       "\n",
       "   ct_flw_http_mthd  ct_src_ltm  ct_srv_dst  is_sm_ips_ports  attack_cat  \\\n",
       "0                 4           2           2                0         DoS   \n",
       "1                 0           1           1                0         DoS   \n",
       "2                 1           2           2                0         DoS   \n",
       "3                 1           1           1                0         DoS   \n",
       "4                 1           1           1                0         DoS   \n",
       "\n",
       "   label  \n",
       "0      1  \n",
       "1      1  \n",
       "2      1  \n",
       "3      1  \n",
       "4      1  \n",
       "\n",
       "[5 rows x 44 columns]"
      ]
     },
     "execution_count": 6,
     "metadata": {},
     "output_type": "execute_result"
    }
   ],
   "source": [
    "datos=data_df.loc[data_df.service != '-']#Eliminacion de los paquetes que no especifican el tipo de servicio\n",
    "dataset=pd.concat([datos.loc[datos.attack_cat=='DoS'].iloc[0:500],datos.loc[datos.attack_cat=='Normal'].iloc[0:500]],\n",
    "                  ignore_index=True)\n",
    "dataset.head()"
   ]
  },
  {
   "cell_type": "code",
   "execution_count": 7,
   "metadata": {},
   "outputs": [
    {
     "data": {
      "image/png": "[encoded data removed]",
      "text/plain": [
       "<Figure size 576x396 with 1 Axes>"
      ]
     },
     "metadata": {},
     "output_type": "display_data"
    }
   ],
   "source": [
    "dataset.groupby('attack_cat').service.value_counts().unstack().replace(np.NaN,0).plot(kind='bar')\n",
    "plt.title('Tipos de servicios agrupados por tipo d epaquete',size=18);"
   ]
  },
  {
   "cell_type": "code",
   "execution_count": 8,
   "metadata": {},
   "outputs": [
    {
     "data": {
      "image/png": "[encoded data removed]",
      "text/plain": [
       "<Figure size 576x396 with 1 Axes>"
      ]
     },
     "metadata": {},
     "output_type": "display_data"
    }
   ],
   "source": [
    "dataset.groupby('attack_cat').proto.value_counts().unstack().plot(kind='bar')\n",
    "plt.title('Tipos de protocolo de transporte por tipo de paquete',size=18);"
   ]
  },
  {
   "cell_type": "code",
   "execution_count": 9,
   "metadata": {},
   "outputs": [
    {
     "data": {
      "text/html": [
       "<div>\n",
       "<style scoped>\n",
       "    .dataframe tbody tr th:only-of-type {\n",
       "        vertical-align: middle;\n",
       "    }\n",
       "\n",
       "    .dataframe tbody tr th {\n",
       "        vertical-align: top;\n",
       "    }\n",
       "\n",
       "    .dataframe thead th {\n",
       "        text-align: right;\n",
       "    }\n",
       "</style>\n",
       "<table border=\"1\" class=\"dataframe\">\n",
       "  <thead>\n",
       "    <tr style=\"text-align: right;\">\n",
       "      <th></th>\n",
       "      <th>dur</th>\n",
       "      <th>proto</th>\n",
       "      <th>service</th>\n",
       "      <th>state</th>\n",
       "      <th>spkts</th>\n",
       "      <th>dpkts</th>\n",
       "      <th>sbytes</th>\n",
       "      <th>dbytes</th>\n",
       "      <th>rate</th>\n",
       "      <th>sttl</th>\n",
       "      <th>...</th>\n",
       "      <th>ct_dst_ltm</th>\n",
       "      <th>ct_src_dport_ltm</th>\n",
       "      <th>ct_dst_sport_ltm</th>\n",
       "      <th>ct_dst_src_ltm</th>\n",
       "      <th>is_ftp_login</th>\n",
       "      <th>ct_ftp_cmd</th>\n",
       "      <th>ct_flw_http_mthd</th>\n",
       "      <th>ct_src_ltm</th>\n",
       "      <th>ct_srv_dst</th>\n",
       "      <th>is_sm_ips_ports</th>\n",
       "    </tr>\n",
       "  </thead>\n",
       "  <tbody>\n",
       "    <tr>\n",
       "      <th>0</th>\n",
       "      <td>0.601736</td>\n",
       "      <td>0</td>\n",
       "      <td>4</td>\n",
       "      <td>1</td>\n",
       "      <td>18</td>\n",
       "      <td>10</td>\n",
       "      <td>10476</td>\n",
       "      <td>1576</td>\n",
       "      <td>44870175.0</td>\n",
       "      <td>62</td>\n",
       "      <td>...</td>\n",
       "      <td>5</td>\n",
       "      <td>2</td>\n",
       "      <td>2</td>\n",
       "      <td>2</td>\n",
       "      <td>0</td>\n",
       "      <td>0</td>\n",
       "      <td>4</td>\n",
       "      <td>2</td>\n",
       "      <td>2</td>\n",
       "      <td>0</td>\n",
       "    </tr>\n",
       "    <tr>\n",
       "      <th>1</th>\n",
       "      <td>0.922621</td>\n",
       "      <td>0</td>\n",
       "      <td>7</td>\n",
       "      <td>1</td>\n",
       "      <td>66</td>\n",
       "      <td>26</td>\n",
       "      <td>65640</td>\n",
       "      <td>1966</td>\n",
       "      <td>98632048.0</td>\n",
       "      <td>62</td>\n",
       "      <td>...</td>\n",
       "      <td>1</td>\n",
       "      <td>1</td>\n",
       "      <td>1</td>\n",
       "      <td>1</td>\n",
       "      <td>0</td>\n",
       "      <td>0</td>\n",
       "      <td>0</td>\n",
       "      <td>1</td>\n",
       "      <td>1</td>\n",
       "      <td>0</td>\n",
       "    </tr>\n",
       "    <tr>\n",
       "      <th>2</th>\n",
       "      <td>0.220081</td>\n",
       "      <td>0</td>\n",
       "      <td>4</td>\n",
       "      <td>1</td>\n",
       "      <td>10</td>\n",
       "      <td>8</td>\n",
       "      <td>836</td>\n",
       "      <td>1056</td>\n",
       "      <td>77244287.0</td>\n",
       "      <td>62</td>\n",
       "      <td>...</td>\n",
       "      <td>2</td>\n",
       "      <td>2</td>\n",
       "      <td>1</td>\n",
       "      <td>2</td>\n",
       "      <td>0</td>\n",
       "      <td>0</td>\n",
       "      <td>1</td>\n",
       "      <td>2</td>\n",
       "      <td>2</td>\n",
       "      <td>0</td>\n",
       "    </tr>\n",
       "    <tr>\n",
       "      <th>3</th>\n",
       "      <td>0.250314</td>\n",
       "      <td>0</td>\n",
       "      <td>4</td>\n",
       "      <td>1</td>\n",
       "      <td>38</td>\n",
       "      <td>10</td>\n",
       "      <td>42398</td>\n",
       "      <td>440</td>\n",
       "      <td>18776417.0</td>\n",
       "      <td>254</td>\n",
       "      <td>...</td>\n",
       "      <td>1</td>\n",
       "      <td>1</td>\n",
       "      <td>1</td>\n",
       "      <td>1</td>\n",
       "      <td>0</td>\n",
       "      <td>0</td>\n",
       "      <td>1</td>\n",
       "      <td>1</td>\n",
       "      <td>1</td>\n",
       "      <td>0</td>\n",
       "    </tr>\n",
       "    <tr>\n",
       "      <th>4</th>\n",
       "      <td>0.554107</td>\n",
       "      <td>0</td>\n",
       "      <td>4</td>\n",
       "      <td>1</td>\n",
       "      <td>10</td>\n",
       "      <td>10</td>\n",
       "      <td>822</td>\n",
       "      <td>1494</td>\n",
       "      <td>34289406.0</td>\n",
       "      <td>62</td>\n",
       "      <td>...</td>\n",
       "      <td>1</td>\n",
       "      <td>1</td>\n",
       "      <td>1</td>\n",
       "      <td>1</td>\n",
       "      <td>0</td>\n",
       "      <td>0</td>\n",
       "      <td>1</td>\n",
       "      <td>1</td>\n",
       "      <td>1</td>\n",
       "      <td>0</td>\n",
       "    </tr>\n",
       "  </tbody>\n",
       "</table>\n",
       "<p>5 rows × 42 columns</p>\n",
       "</div>"
      ],
      "text/plain": [
       "        dur  proto  service  state  spkts  dpkts  sbytes  dbytes        rate  \\\n",
       "0  0.601736      0        4      1     18     10   10476    1576  44870175.0   \n",
       "1  0.922621      0        7      1     66     26   65640    1966  98632048.0   \n",
       "2  0.220081      0        4      1     10      8     836    1056  77244287.0   \n",
       "3  0.250314      0        4      1     38     10   42398     440  18776417.0   \n",
       "4  0.554107      0        4      1     10     10     822    1494  34289406.0   \n",
       "\n",
       "   sttl  ...  ct_dst_ltm  ct_src_dport_ltm  ct_dst_sport_ltm  ct_dst_src_ltm  \\\n",
       "0    62  ...           5                 2                 2               2   \n",
       "1    62  ...           1                 1                 1               1   \n",
       "2    62  ...           2                 2                 1               2   \n",
       "3   254  ...           1                 1                 1               1   \n",
       "4    62  ...           1                 1                 1               1   \n",
       "\n",
       "   is_ftp_login  ct_ftp_cmd  ct_flw_http_mthd  ct_src_ltm  ct_srv_dst  \\\n",
       "0             0           0                 4           2           2   \n",
       "1             0           0                 0           1           1   \n",
       "2             0           0                 1           2           2   \n",
       "3             0           0                 1           1           1   \n",
       "4             0           0                 1           1           1   \n",
       "\n",
       "   is_sm_ips_ports  \n",
       "0                0  \n",
       "1                0  \n",
       "2                0  \n",
       "3                0  \n",
       "4                0  \n",
       "\n",
       "[5 rows x 42 columns]"
      ]
     },
     "execution_count": 9,
     "metadata": {},
     "output_type": "execute_result"
    }
   ],
   "source": [
    "labels=np.array(dataset.label)#Crea un array con las etiquetas para el entrenamiento\n",
    "dataset.drop(['attack_cat','label'],axis='columns',inplace=True)##Eliminar las columnas de label y categoria de ataque \n",
    "#ya que no se necesitaran para el entrenamiento\n",
    "dataset=dataset.astype({'proto':'category','service':'category','state':'category'})#Convierte a categoricas las \n",
    "##caracteristicas cualitativas\n",
    "#Asignarle el valor numerico a las caracteristicas cualitativas\n",
    "dataset['service']=dataset.service.cat.codes\n",
    "dataset['proto']=dataset.proto.cat.codes\n",
    "dataset['state']=dataset.state.cat.codes\n",
    "dataset.head()"
   ]
  },
  {
   "cell_type": "code",
   "execution_count": 10,
   "metadata": {},
   "outputs": [
    {
     "name": "stderr",
     "output_type": "stream",
     "text": [
      "D:\\Archivos de Programas\\Anaconda3\\lib\\site-packages\\sklearn\\preprocessing\\data.py:172: UserWarning: Numerical issues were encountered when centering the data and might not be solved. Dataset may contain too large values. You may need to prescale your features.\n",
      "  warnings.warn(\"Numerical issues were encountered \"\n"
     ]
    },
    {
     "data": {
      "text/plain": [
       "array([-1.42108547e-17,  8.52651283e-17, -5.68434189e-17,  1.13686838e-16,\n",
       "        0.00000000e+00, -2.84217094e-17, -7.10542736e-18,  7.10542736e-18,\n",
       "        2.84217094e-17,  1.70530257e-16,  0.00000000e+00,  9.94759830e-17,\n",
       "        3.55271368e-17, -7.10542736e-18,  2.13162821e-17, -2.84217094e-17,\n",
       "       -7.10542736e-17,  9.94759830e-17,  5.68434189e-17, -1.42108547e-16,\n",
       "        8.52651283e-17,  4.26325641e-17, -1.42108547e-16,  0.00000000e+00,\n",
       "       -5.68434189e-17,  0.00000000e+00,  2.84217094e-17, -6.75015599e-17,\n",
       "        7.10542736e-18,  3.55271368e-18, -1.13686838e-16,  2.84217094e-16,\n",
       "       -5.68434189e-17,  5.68434189e-17,  2.84217094e-17, -9.94759830e-17,\n",
       "        1.06581410e-17,  1.06581410e-17, -7.10542736e-18,  8.52651283e-17,\n",
       "       -5.68434189e-17,  0.00000000e+00])"
      ]
     },
     "execution_count": 10,
     "metadata": {},
     "output_type": "execute_result"
    }
   ],
   "source": [
    "X=dataset.values#Crea una matriz con los valores del dataframe\n",
    "from sklearn import preprocessing\n",
    "X_scaled=preprocessing.scale(X)#Normaliza los datos\n",
    "X_scaled.mean(axis=0)#Media por columna"
   ]
  },
  {
   "cell_type": "code",
   "execution_count": 11,
   "metadata": {},
   "outputs": [
    {
     "data": {
      "text/plain": [
       "array([1., 1., 1., 1., 1., 1., 1., 1., 1., 1., 1., 1., 1., 1., 1., 1., 1.,\n",
       "       1., 1., 1., 1., 1., 1., 1., 1., 1., 1., 1., 1., 1., 1., 1., 1., 1.,\n",
       "       1., 1., 1., 1., 1., 1., 1., 0.])"
      ]
     },
     "execution_count": 11,
     "metadata": {},
     "output_type": "execute_result"
    }
   ],
   "source": [
    "X_scaled.std(axis=0)#Desviacion estandar por columna"
   ]
  },
  {
   "cell_type": "markdown",
   "metadata": {},
   "source": [
    "**PCA**"
   ]
  },
  {
   "cell_type": "code",
   "execution_count": 12,
   "metadata": {},
   "outputs": [
    {
     "data": {
      "text/plain": [
       "(1000, 10)"
      ]
     },
     "execution_count": 12,
     "metadata": {},
     "output_type": "execute_result"
    }
   ],
   "source": [
    "from sklearn.decomposition import PCA\n",
    "pca = PCA(n_components=10)#Extraccion de características para reducirlas a 10\n",
    "PcaTrain=pca.fit_transform(X_scaled)\n",
    "PcaTrain.shape"
   ]
  },
  {
   "cell_type": "code",
   "execution_count": 13,
   "metadata": {},
   "outputs": [
    {
     "data": {
      "image/png": "[encoded data removed]",
      "text/plain": [
       "<Figure size 576x396 with 1 Axes>"
      ]
     },
     "metadata": {},
     "output_type": "display_data"
    }
   ],
   "source": [
    "X=PcaTrain[:,0]\n",
    "Y=PcaTrain[:,1]\n",
    "fig, ax= plt.subplots()\n",
    "etiquetas=['Normal','DoS']\n",
    "colors=['g','r']\n",
    "for i in range(0,2):\n",
    "    ax.scatter(X[labels==i],Y[labels==i],color=colors[i],label=etiquetas[i])\n",
    "plt.legend()\n",
    "ax.set_xlabel('Componente Principal 1')\n",
    "ax.set_ylabel('Componente Principal 2')\n",
    "ax.set_title('Dispersion de Componentes Principales',size=18)\n",
    "plt.plot();"
   ]
  },
  {
   "cell_type": "code",
   "execution_count": 14,
   "metadata": {},
   "outputs": [
    {
     "data": {
      "image/png": "[encoded data removed]",
      "text/plain": [
       "<Figure size 576x396 with 1 Axes>"
      ]
     },
     "metadata": {},
     "output_type": "display_data"
    }
   ],
   "source": [
    "X=PcaTrain[:,2]\n",
    "Y=PcaTrain[:,3]\n",
    "fig, ax= plt.subplots()\n",
    "etiquetas=['Normal','DoS']\n",
    "colors=['g','r']\n",
    "for i in range(0,2):\n",
    "    ax.scatter(X[labels==i],Y[labels==i],color=colors[i],label=etiquetas[i])\n",
    "plt.legend()\n",
    "ax.set_xlabel('Componente Principal 3')\n",
    "ax.set_ylabel('Componente Principal 4')\n",
    "ax.set_title('Dispersion de Componentes Principales',size=18)\n",
    "plt.plot();"
   ]
  },
  {
   "cell_type": "code",
   "execution_count": 15,
   "metadata": {},
   "outputs": [
    {
     "data": {
      "image/png": "[encoded data removed]",
      "text/plain": [
       "<Figure size 576x396 with 1 Axes>"
      ]
     },
     "metadata": {},
     "output_type": "display_data"
    }
   ],
   "source": [
    "X=PcaTrain[:,4]\n",
    "Y=PcaTrain[:,5]\n",
    "fig, ax= plt.subplots()\n",
    "etiquetas=['Normal','DoS']\n",
    "colors=['g','r']\n",
    "for i in range(0,2):\n",
    "    ax.scatter(X[labels==i],Y[labels==i],color=colors[i],label=etiquetas[i])\n",
    "plt.legend()\n",
    "ax.set_xlabel('Componente Principal 5')\n",
    "ax.set_ylabel('Componente Principal 6')\n",
    "ax.set_title('Dispersion de Componentes Principales',size=18)\n",
    "plt.plot();"
   ]
  },
  {
   "cell_type": "code",
   "execution_count": 16,
   "metadata": {},
   "outputs": [
    {
     "data": {
      "image/png": "[encoded data removed]",
      "text/plain": [
       "<Figure size 576x396 with 1 Axes>"
      ]
     },
     "metadata": {},
     "output_type": "display_data"
    }
   ],
   "source": [
    "X=PcaTrain[:,6]\n",
    "Y=PcaTrain[:,7]\n",
    "fig, ax= plt.subplots()\n",
    "etiquetas=['Normal','DoS']\n",
    "colors=['g','r']\n",
    "for i in range(0,2):\n",
    "    ax.scatter(X[labels==i],Y[labels==i],color=colors[i],label=etiquetas[i])\n",
    "plt.legend()\n",
    "ax.set_xlabel('Componente Principal 7')\n",
    "ax.set_ylabel('Componente Principal 8')\n",
    "ax.set_title('Dispersion de Componentes Principales',size=18)\n",
    "plt.plot();"
   ]
  },
  {
   "cell_type": "code",
   "execution_count": 17,
   "metadata": {},
   "outputs": [
    {
     "data": {
      "image/png": "[encoded data removed]",
      "text/plain": [
       "<Figure size 576x396 with 1 Axes>"
      ]
     },
     "metadata": {},
     "output_type": "display_data"
    }
   ],
   "source": [
    "X=PcaTrain[:,8]\n",
    "Y=PcaTrain[:,9]\n",
    "fig, ax= plt.subplots()\n",
    "etiquetas=['Normal','DoS']\n",
    "colors=['g','r']\n",
    "for i in range(0,2):\n",
    "    ax.scatter(X[labels==i],Y[labels==i],color=colors[i],label=etiquetas[i])\n",
    "plt.legend()\n",
    "ax.set_xlabel('Componente Principal 9')\n",
    "ax.set_ylabel('Componente Principal 10')\n",
    "ax.set_title('Dispersion de Componentes Principales',size=18)\n",
    "plt.plot();"
   ]
  },
  {
   "cell_type": "code",
   "execution_count": 18,
   "metadata": {},
   "outputs": [
    {
     "data": {
      "image/png": "[encoded data removed]",
      "text/plain": [
       "<Figure size 576x396 with 1 Axes>"
      ]
     },
     "metadata": {},
     "output_type": "display_data"
    }
   ],
   "source": [
    "X=PcaTrain[:,0]\n",
    "Y=PcaTrain[:,9]\n",
    "fig, ax= plt.subplots()\n",
    "etiquetas=['Normal','DoS']\n",
    "colors=['g','r']\n",
    "for i in range(0,2):\n",
    "    ax.scatter(X[labels==i],Y[labels==i],color=colors[i],label=etiquetas[i])\n",
    "plt.legend()\n",
    "ax.set_xlabel('Componente Principal 1')\n",
    "ax.set_ylabel('Componente Principal 10')\n",
    "ax.set_title('Dispersion de Componentes Principales',size=18)\n",
    "plt.plot();"
   ]
  },
  {
   "cell_type": "code",
   "execution_count": 19,
   "metadata": {},
   "outputs": [
    {
     "name": "stdout",
     "output_type": "stream",
     "text": [
      "X_train(750, 10)\n",
      "X_test(250, 10)\n",
      "labels_train(750,)\n",
      "labels_test(250,)\n"
     ]
    }
   ],
   "source": [
    "#Separación de los datos de entrenamiento y prueba con train_test_split \n",
    "from sklearn.model_selection import train_test_split\n",
    "X_train,X_test,labels_train,labels_test=train_test_split(PcaTrain, labels, test_size=0.25, random_state=4)#25% de los datos son para el test\n",
    "print(f'X_train{X_train.shape}')\n",
    "print(f'X_test{X_test.shape}')\n",
    "print(f'labels_train{labels_train.shape}')\n",
    "print(f'labels_test{labels_test.shape}')"
   ]
  },
  {
   "cell_type": "markdown",
   "metadata": {},
   "source": [
    "**SVM**"
   ]
  },
  {
   "cell_type": "code",
   "execution_count": 20,
   "metadata": {},
   "outputs": [],
   "source": [
    "from sklearn.svm import SVC\n",
    "from sklearn import metrics"
   ]
  },
  {
   "cell_type": "code",
   "execution_count": 21,
   "metadata": {},
   "outputs": [],
   "source": [
    "M=np.array([])\n",
    "max_acc=0\n",
    "y_predmax=0\n",
    "kernel=['linear','rbf']\n",
    "Cs=np.array([0.01, 0.1, 0.5, 1, 5, 10, 100])\n",
    "gammas=np.array([0.001, 0.01, 0.5, 1.0, 5.0])\n",
    "for k in kernel:\n",
    "    for c in Cs:\n",
    "        for g in gammas:\n",
    "            cls_svm=SVC(kernel=k,gamma=g,C=c)\n",
    "            cls_svm.fit(X_train,labels_train)\n",
    "            y_pred=cls_svm.predict(X_test)\n",
    "            acc=metrics.accuracy_score(labels_test,y_pred)\n",
    "            tn, fp, fn, tp = metrics.confusion_matrix(labels_test, y_pred).ravel()\n",
    "            far=fp/(tn+fp)\n",
    "            if acc>max_acc:\n",
    "                max_acc=acc\n",
    "                y_predmax=y_pred\n",
    "            M=np.append(M,[k,g,c,acc,far])"
   ]
  },
  {
   "cell_type": "code",
   "execution_count": 23,
   "metadata": {},
   "outputs": [
    {
     "data": {
      "text/html": [
       "<div>\n",
       "<style scoped>\n",
       "    .dataframe tbody tr th:only-of-type {\n",
       "        vertical-align: middle;\n",
       "    }\n",
       "\n",
       "    .dataframe tbody tr th {\n",
       "        vertical-align: top;\n",
       "    }\n",
       "\n",
       "    .dataframe thead th {\n",
       "        text-align: right;\n",
       "    }\n",
       "</style>\n",
       "<table border=\"1\" class=\"dataframe\">\n",
       "  <thead>\n",
       "    <tr style=\"text-align: right;\">\n",
       "      <th></th>\n",
       "      <th>kernel</th>\n",
       "      <th>gamma</th>\n",
       "      <th>C</th>\n",
       "      <th>Precision</th>\n",
       "      <th>FAR</th>\n",
       "    </tr>\n",
       "  </thead>\n",
       "  <tbody>\n",
       "    <tr>\n",
       "      <th>0</th>\n",
       "      <td>linear</td>\n",
       "      <td>0.001</td>\n",
       "      <td>0.01</td>\n",
       "      <td>0.968</td>\n",
       "      <td>0.056911</td>\n",
       "    </tr>\n",
       "    <tr>\n",
       "      <th>1</th>\n",
       "      <td>linear</td>\n",
       "      <td>0.010</td>\n",
       "      <td>0.01</td>\n",
       "      <td>0.968</td>\n",
       "      <td>0.056911</td>\n",
       "    </tr>\n",
       "    <tr>\n",
       "      <th>2</th>\n",
       "      <td>linear</td>\n",
       "      <td>0.500</td>\n",
       "      <td>0.01</td>\n",
       "      <td>0.968</td>\n",
       "      <td>0.056911</td>\n",
       "    </tr>\n",
       "    <tr>\n",
       "      <th>3</th>\n",
       "      <td>linear</td>\n",
       "      <td>1.000</td>\n",
       "      <td>0.01</td>\n",
       "      <td>0.968</td>\n",
       "      <td>0.056911</td>\n",
       "    </tr>\n",
       "    <tr>\n",
       "      <th>4</th>\n",
       "      <td>linear</td>\n",
       "      <td>5.000</td>\n",
       "      <td>0.01</td>\n",
       "      <td>0.968</td>\n",
       "      <td>0.056911</td>\n",
       "    </tr>\n",
       "  </tbody>\n",
       "</table>\n",
       "</div>"
      ],
      "text/plain": [
       "   kernel  gamma     C  Precision       FAR\n",
       "0  linear  0.001  0.01      0.968  0.056911\n",
       "1  linear  0.010  0.01      0.968  0.056911\n",
       "2  linear  0.500  0.01      0.968  0.056911\n",
       "3  linear  1.000  0.01      0.968  0.056911\n",
       "4  linear  5.000  0.01      0.968  0.056911"
      ]
     },
     "execution_count": 23,
     "metadata": {},
     "output_type": "execute_result"
    }
   ],
   "source": [
    "M=M.reshape(-1,5)\n",
    "resultados_svm=pd.DataFrame(M,columns=['kernel','gamma','C','Precision','FAR'])\n",
    "resultados_svm=resultados_svm.astype({'gamma':'float64','C':'float64','Precision':'float64','FAR':'float64'})\n",
    "resultados_svm.head()"
   ]
  },
  {
   "cell_type": "code",
   "execution_count": 24,
   "metadata": {},
   "outputs": [
    {
     "data": {
      "text/html": [
       "<div>\n",
       "<style scoped>\n",
       "    .dataframe tbody tr th:only-of-type {\n",
       "        vertical-align: middle;\n",
       "    }\n",
       "\n",
       "    .dataframe tbody tr th {\n",
       "        vertical-align: top;\n",
       "    }\n",
       "\n",
       "    .dataframe thead th {\n",
       "        text-align: right;\n",
       "    }\n",
       "</style>\n",
       "<table border=\"1\" class=\"dataframe\">\n",
       "  <thead>\n",
       "    <tr style=\"text-align: right;\">\n",
       "      <th></th>\n",
       "      <th>kernel</th>\n",
       "      <th>gamma</th>\n",
       "      <th>C</th>\n",
       "      <th>Precision</th>\n",
       "      <th>FAR</th>\n",
       "    </tr>\n",
       "  </thead>\n",
       "  <tbody>\n",
       "    <tr>\n",
       "      <th>35</th>\n",
       "      <td>rbf</td>\n",
       "      <td>0.001</td>\n",
       "      <td>0.01</td>\n",
       "      <td>0.492</td>\n",
       "      <td>0.0</td>\n",
       "    </tr>\n",
       "    <tr>\n",
       "      <th>38</th>\n",
       "      <td>rbf</td>\n",
       "      <td>1.000</td>\n",
       "      <td>0.01</td>\n",
       "      <td>0.492</td>\n",
       "      <td>0.0</td>\n",
       "    </tr>\n",
       "    <tr>\n",
       "      <th>39</th>\n",
       "      <td>rbf</td>\n",
       "      <td>5.000</td>\n",
       "      <td>0.01</td>\n",
       "      <td>0.492</td>\n",
       "      <td>0.0</td>\n",
       "    </tr>\n",
       "  </tbody>\n",
       "</table>\n",
       "</div>"
      ],
      "text/plain": [
       "   kernel  gamma     C  Precision  FAR\n",
       "35    rbf  0.001  0.01      0.492  0.0\n",
       "38    rbf  1.000  0.01      0.492  0.0\n",
       "39    rbf  5.000  0.01      0.492  0.0"
      ]
     },
     "execution_count": 24,
     "metadata": {},
     "output_type": "execute_result"
    }
   ],
   "source": [
    "#Combinacion de hiperparametros con la menor precision\n",
    "resultados_svm.loc[resultados_svm.Precision==resultados_svm.Precision.min()]"
   ]
  },
  {
   "cell_type": "code",
   "execution_count": 25,
   "metadata": {},
   "outputs": [
    {
     "data": {
      "text/html": [
       "<div>\n",
       "<style scoped>\n",
       "    .dataframe tbody tr th:only-of-type {\n",
       "        vertical-align: middle;\n",
       "    }\n",
       "\n",
       "    .dataframe tbody tr th {\n",
       "        vertical-align: top;\n",
       "    }\n",
       "\n",
       "    .dataframe thead th {\n",
       "        text-align: right;\n",
       "    }\n",
       "</style>\n",
       "<table border=\"1\" class=\"dataframe\">\n",
       "  <thead>\n",
       "    <tr style=\"text-align: right;\">\n",
       "      <th></th>\n",
       "      <th>kernel</th>\n",
       "      <th>gamma</th>\n",
       "      <th>C</th>\n",
       "      <th>Precision</th>\n",
       "      <th>FAR</th>\n",
       "    </tr>\n",
       "  </thead>\n",
       "  <tbody>\n",
       "    <tr>\n",
       "      <th>66</th>\n",
       "      <td>rbf</td>\n",
       "      <td>0.01</td>\n",
       "      <td>100.0</td>\n",
       "      <td>0.988</td>\n",
       "      <td>0.02439</td>\n",
       "    </tr>\n",
       "  </tbody>\n",
       "</table>\n",
       "</div>"
      ],
      "text/plain": [
       "   kernel  gamma      C  Precision      FAR\n",
       "66    rbf   0.01  100.0      0.988  0.02439"
      ]
     },
     "execution_count": 25,
     "metadata": {},
     "output_type": "execute_result"
    }
   ],
   "source": [
    "#Combinacion de hiperparametros con la mAYOR precision\n",
    "resultados_svm.loc[resultados_svm.Precision==resultados_svm.Precision.max()]"
   ]
  },
  {
   "cell_type": "code",
   "execution_count": 26,
   "metadata": {},
   "outputs": [
    {
     "data": {
      "text/html": [
       "<div>\n",
       "<style scoped>\n",
       "    .dataframe tbody tr th:only-of-type {\n",
       "        vertical-align: middle;\n",
       "    }\n",
       "\n",
       "    .dataframe tbody tr th {\n",
       "        vertical-align: top;\n",
       "    }\n",
       "\n",
       "    .dataframe thead th {\n",
       "        text-align: right;\n",
       "    }\n",
       "</style>\n",
       "<table border=\"1\" class=\"dataframe\">\n",
       "  <thead>\n",
       "    <tr style=\"text-align: right;\">\n",
       "      <th></th>\n",
       "      <th>kernel</th>\n",
       "      <th>gamma</th>\n",
       "      <th>C</th>\n",
       "      <th>Precision</th>\n",
       "      <th>FAR</th>\n",
       "    </tr>\n",
       "  </thead>\n",
       "  <tbody>\n",
       "    <tr>\n",
       "      <th>35</th>\n",
       "      <td>rbf</td>\n",
       "      <td>0.001</td>\n",
       "      <td>0.01</td>\n",
       "      <td>0.492</td>\n",
       "      <td>0.0</td>\n",
       "    </tr>\n",
       "    <tr>\n",
       "      <th>37</th>\n",
       "      <td>rbf</td>\n",
       "      <td>0.500</td>\n",
       "      <td>0.01</td>\n",
       "      <td>0.532</td>\n",
       "      <td>0.0</td>\n",
       "    </tr>\n",
       "    <tr>\n",
       "      <th>38</th>\n",
       "      <td>rbf</td>\n",
       "      <td>1.000</td>\n",
       "      <td>0.01</td>\n",
       "      <td>0.492</td>\n",
       "      <td>0.0</td>\n",
       "    </tr>\n",
       "    <tr>\n",
       "      <th>39</th>\n",
       "      <td>rbf</td>\n",
       "      <td>5.000</td>\n",
       "      <td>0.01</td>\n",
       "      <td>0.492</td>\n",
       "      <td>0.0</td>\n",
       "    </tr>\n",
       "    <tr>\n",
       "      <th>44</th>\n",
       "      <td>rbf</td>\n",
       "      <td>5.000</td>\n",
       "      <td>0.10</td>\n",
       "      <td>0.524</td>\n",
       "      <td>0.0</td>\n",
       "    </tr>\n",
       "    <tr>\n",
       "      <th>54</th>\n",
       "      <td>rbf</td>\n",
       "      <td>5.000</td>\n",
       "      <td>1.00</td>\n",
       "      <td>0.892</td>\n",
       "      <td>0.0</td>\n",
       "    </tr>\n",
       "    <tr>\n",
       "      <th>57</th>\n",
       "      <td>rbf</td>\n",
       "      <td>0.500</td>\n",
       "      <td>5.00</td>\n",
       "      <td>0.984</td>\n",
       "      <td>0.0</td>\n",
       "    </tr>\n",
       "    <tr>\n",
       "      <th>58</th>\n",
       "      <td>rbf</td>\n",
       "      <td>1.000</td>\n",
       "      <td>5.00</td>\n",
       "      <td>0.968</td>\n",
       "      <td>0.0</td>\n",
       "    </tr>\n",
       "    <tr>\n",
       "      <th>59</th>\n",
       "      <td>rbf</td>\n",
       "      <td>5.000</td>\n",
       "      <td>5.00</td>\n",
       "      <td>0.892</td>\n",
       "      <td>0.0</td>\n",
       "    </tr>\n",
       "    <tr>\n",
       "      <th>62</th>\n",
       "      <td>rbf</td>\n",
       "      <td>0.500</td>\n",
       "      <td>10.00</td>\n",
       "      <td>0.980</td>\n",
       "      <td>0.0</td>\n",
       "    </tr>\n",
       "    <tr>\n",
       "      <th>63</th>\n",
       "      <td>rbf</td>\n",
       "      <td>1.000</td>\n",
       "      <td>10.00</td>\n",
       "      <td>0.968</td>\n",
       "      <td>0.0</td>\n",
       "    </tr>\n",
       "    <tr>\n",
       "      <th>64</th>\n",
       "      <td>rbf</td>\n",
       "      <td>5.000</td>\n",
       "      <td>10.00</td>\n",
       "      <td>0.892</td>\n",
       "      <td>0.0</td>\n",
       "    </tr>\n",
       "    <tr>\n",
       "      <th>67</th>\n",
       "      <td>rbf</td>\n",
       "      <td>0.500</td>\n",
       "      <td>100.00</td>\n",
       "      <td>0.976</td>\n",
       "      <td>0.0</td>\n",
       "    </tr>\n",
       "    <tr>\n",
       "      <th>69</th>\n",
       "      <td>rbf</td>\n",
       "      <td>5.000</td>\n",
       "      <td>100.00</td>\n",
       "      <td>0.892</td>\n",
       "      <td>0.0</td>\n",
       "    </tr>\n",
       "  </tbody>\n",
       "</table>\n",
       "</div>"
      ],
      "text/plain": [
       "   kernel  gamma       C  Precision  FAR\n",
       "35    rbf  0.001    0.01      0.492  0.0\n",
       "37    rbf  0.500    0.01      0.532  0.0\n",
       "38    rbf  1.000    0.01      0.492  0.0\n",
       "39    rbf  5.000    0.01      0.492  0.0\n",
       "44    rbf  5.000    0.10      0.524  0.0\n",
       "54    rbf  5.000    1.00      0.892  0.0\n",
       "57    rbf  0.500    5.00      0.984  0.0\n",
       "58    rbf  1.000    5.00      0.968  0.0\n",
       "59    rbf  5.000    5.00      0.892  0.0\n",
       "62    rbf  0.500   10.00      0.980  0.0\n",
       "63    rbf  1.000   10.00      0.968  0.0\n",
       "64    rbf  5.000   10.00      0.892  0.0\n",
       "67    rbf  0.500  100.00      0.976  0.0\n",
       "69    rbf  5.000  100.00      0.892  0.0"
      ]
     },
     "execution_count": 26,
     "metadata": {},
     "output_type": "execute_result"
    }
   ],
   "source": [
    "#Combinacion de hiperparametros con la menor tasa de falsa alarma\n",
    "resultados_svm.loc[resultados_svm.FAR==resultados_svm.FAR.min()]"
   ]
  },
  {
   "cell_type": "code",
   "execution_count": 29,
   "metadata": {},
   "outputs": [
    {
     "data": {
      "text/html": [
       "<div>\n",
       "<style scoped>\n",
       "    .dataframe tbody tr th:only-of-type {\n",
       "        vertical-align: middle;\n",
       "    }\n",
       "\n",
       "    .dataframe tbody tr th {\n",
       "        vertical-align: top;\n",
       "    }\n",
       "\n",
       "    .dataframe thead th {\n",
       "        text-align: right;\n",
       "    }\n",
       "</style>\n",
       "<table border=\"1\" class=\"dataframe\">\n",
       "  <thead>\n",
       "    <tr style=\"text-align: right;\">\n",
       "      <th></th>\n",
       "      <th>kernel</th>\n",
       "      <th>gamma</th>\n",
       "      <th>C</th>\n",
       "      <th>Precision</th>\n",
       "      <th>FAR</th>\n",
       "    </tr>\n",
       "  </thead>\n",
       "  <tbody>\n",
       "    <tr>\n",
       "      <th>49</th>\n",
       "      <td>rbf</td>\n",
       "      <td>5.0</td>\n",
       "      <td>0.5</td>\n",
       "      <td>0.832</td>\n",
       "      <td>0.341463</td>\n",
       "    </tr>\n",
       "  </tbody>\n",
       "</table>\n",
       "</div>"
      ],
      "text/plain": [
       "   kernel  gamma    C  Precision       FAR\n",
       "49    rbf    5.0  0.5      0.832  0.341463"
      ]
     },
     "execution_count": 29,
     "metadata": {},
     "output_type": "execute_result"
    }
   ],
   "source": [
    "#Combinacion de hiperparametros con la mayor tasa de falsa alarma\n",
    "resultados_svm.loc[resultados_svm.FAR==resultados_svm.FAR.max()]"
   ]
  },
  {
   "cell_type": "markdown",
   "metadata": {},
   "source": [
    "**Seleccion de datos de entrenamiento y test usando KFold**"
   ]
  },
  {
   "cell_type": "code",
   "execution_count": 32,
   "metadata": {},
   "outputs": [
    {
     "name": "stdout",
     "output_type": "stream",
     "text": [
      "X_train shape(900, 10)\n",
      "X_test shape(100, 10)\n",
      "labels_train shape(900,)\n",
      "labels_test shape(100,)\n"
     ]
    }
   ],
   "source": [
    "#Usando kfold cross validation\n",
    "from sklearn.model_selection import KFold\n",
    "kf=KFold(n_splits=10, shuffle= True)\n",
    "for train_index,test_index in kf.split(PcaTrain):\n",
    "    X_train=PcaTrain[train_index]\n",
    "    X_test=PcaTrain[test_index]\n",
    "    labels_train=labels[train_index]\n",
    "    labels_test=labels[test_index]\n",
    "print(f'X_train shape{X_train.shape}')\n",
    "print(f'X_test shape{X_test.shape}')\n",
    "print(f'labels_train shape{labels_train.shape}')\n",
    "print(f'labels_test shape{labels_test.shape}')"
   ]
  },
  {
   "cell_type": "markdown",
   "metadata": {},
   "source": [
    "**SVM**"
   ]
  },
  {
   "cell_type": "code",
   "execution_count": 33,
   "metadata": {},
   "outputs": [],
   "source": [
    "M=np.array([])\n",
    "max_acc=0\n",
    "y_predmax=0\n",
    "kernel=['linear','rbf']\n",
    "Cs=np.array([0.01, 0.1, 0.5, 1, 5, 10, 100])\n",
    "gammas=np.array([0.001, 0.01, 0.5, 1.0, 5.0])\n",
    "for k in kernel:\n",
    "    for c in Cs:\n",
    "        for g in gammas:\n",
    "            cls_svm=SVC(kernel=k,gamma=g,C=c)\n",
    "            cls_svm.fit(X_train,labels_train)\n",
    "            y_pred=cls_svm.predict(X_test)\n",
    "            acc=metrics.accuracy_score(labels_test,y_pred)\n",
    "            tn, fp, fn, tp = metrics.confusion_matrix(labels_test, y_pred).ravel()\n",
    "            far=fp/(tn+fp)\n",
    "            if acc>max_acc:\n",
    "                max_acc=acc\n",
    "                y_predmax=y_pred\n",
    "            M=np.append(M,[k,g,c,acc,far])"
   ]
  },
  {
   "cell_type": "code",
   "execution_count": 34,
   "metadata": {},
   "outputs": [
    {
     "data": {
      "text/html": [
       "<div>\n",
       "<style scoped>\n",
       "    .dataframe tbody tr th:only-of-type {\n",
       "        vertical-align: middle;\n",
       "    }\n",
       "\n",
       "    .dataframe tbody tr th {\n",
       "        vertical-align: top;\n",
       "    }\n",
       "\n",
       "    .dataframe thead th {\n",
       "        text-align: right;\n",
       "    }\n",
       "</style>\n",
       "<table border=\"1\" class=\"dataframe\">\n",
       "  <thead>\n",
       "    <tr style=\"text-align: right;\">\n",
       "      <th></th>\n",
       "      <th>kernel</th>\n",
       "      <th>gamma</th>\n",
       "      <th>C</th>\n",
       "      <th>Precision</th>\n",
       "      <th>FAR</th>\n",
       "    </tr>\n",
       "  </thead>\n",
       "  <tbody>\n",
       "    <tr>\n",
       "      <th>0</th>\n",
       "      <td>linear</td>\n",
       "      <td>0.001</td>\n",
       "      <td>0.01</td>\n",
       "      <td>0.97</td>\n",
       "      <td>0.036364</td>\n",
       "    </tr>\n",
       "    <tr>\n",
       "      <th>1</th>\n",
       "      <td>linear</td>\n",
       "      <td>0.010</td>\n",
       "      <td>0.01</td>\n",
       "      <td>0.97</td>\n",
       "      <td>0.036364</td>\n",
       "    </tr>\n",
       "    <tr>\n",
       "      <th>2</th>\n",
       "      <td>linear</td>\n",
       "      <td>0.500</td>\n",
       "      <td>0.01</td>\n",
       "      <td>0.97</td>\n",
       "      <td>0.036364</td>\n",
       "    </tr>\n",
       "    <tr>\n",
       "      <th>3</th>\n",
       "      <td>linear</td>\n",
       "      <td>1.000</td>\n",
       "      <td>0.01</td>\n",
       "      <td>0.97</td>\n",
       "      <td>0.036364</td>\n",
       "    </tr>\n",
       "    <tr>\n",
       "      <th>4</th>\n",
       "      <td>linear</td>\n",
       "      <td>5.000</td>\n",
       "      <td>0.01</td>\n",
       "      <td>0.97</td>\n",
       "      <td>0.036364</td>\n",
       "    </tr>\n",
       "  </tbody>\n",
       "</table>\n",
       "</div>"
      ],
      "text/plain": [
       "   kernel  gamma     C  Precision       FAR\n",
       "0  linear  0.001  0.01       0.97  0.036364\n",
       "1  linear  0.010  0.01       0.97  0.036364\n",
       "2  linear  0.500  0.01       0.97  0.036364\n",
       "3  linear  1.000  0.01       0.97  0.036364\n",
       "4  linear  5.000  0.01       0.97  0.036364"
      ]
     },
     "execution_count": 34,
     "metadata": {},
     "output_type": "execute_result"
    }
   ],
   "source": [
    "M=M.reshape(-1,5)\n",
    "resultados_svm=pd.DataFrame(M,columns=['kernel','gamma','C','Precision','FAR'])\n",
    "resultados_svm=resultados_svm.astype({'gamma':'float64','C':'float64','Precision':'float64','FAR':'float64'})\n",
    "resultados_svm.head()"
   ]
  },
  {
   "cell_type": "code",
   "execution_count": 35,
   "metadata": {},
   "outputs": [
    {
     "data": {
      "text/html": [
       "<div>\n",
       "<style scoped>\n",
       "    .dataframe tbody tr th:only-of-type {\n",
       "        vertical-align: middle;\n",
       "    }\n",
       "\n",
       "    .dataframe tbody tr th {\n",
       "        vertical-align: top;\n",
       "    }\n",
       "\n",
       "    .dataframe thead th {\n",
       "        text-align: right;\n",
       "    }\n",
       "</style>\n",
       "<table border=\"1\" class=\"dataframe\">\n",
       "  <thead>\n",
       "    <tr style=\"text-align: right;\">\n",
       "      <th></th>\n",
       "      <th>kernel</th>\n",
       "      <th>gamma</th>\n",
       "      <th>C</th>\n",
       "      <th>Precision</th>\n",
       "      <th>FAR</th>\n",
       "    </tr>\n",
       "  </thead>\n",
       "  <tbody>\n",
       "    <tr>\n",
       "      <th>35</th>\n",
       "      <td>rbf</td>\n",
       "      <td>0.001</td>\n",
       "      <td>0.01</td>\n",
       "      <td>0.45</td>\n",
       "      <td>1.0</td>\n",
       "    </tr>\n",
       "    <tr>\n",
       "      <th>38</th>\n",
       "      <td>rbf</td>\n",
       "      <td>1.000</td>\n",
       "      <td>0.01</td>\n",
       "      <td>0.45</td>\n",
       "      <td>1.0</td>\n",
       "    </tr>\n",
       "    <tr>\n",
       "      <th>39</th>\n",
       "      <td>rbf</td>\n",
       "      <td>5.000</td>\n",
       "      <td>0.01</td>\n",
       "      <td>0.45</td>\n",
       "      <td>1.0</td>\n",
       "    </tr>\n",
       "  </tbody>\n",
       "</table>\n",
       "</div>"
      ],
      "text/plain": [
       "   kernel  gamma     C  Precision  FAR\n",
       "35    rbf  0.001  0.01       0.45  1.0\n",
       "38    rbf  1.000  0.01       0.45  1.0\n",
       "39    rbf  5.000  0.01       0.45  1.0"
      ]
     },
     "execution_count": 35,
     "metadata": {},
     "output_type": "execute_result"
    }
   ],
   "source": [
    "#Combinacion de hiperparametros con la menor precision\n",
    "resultados_svm.loc[resultados_svm.Precision==resultados_svm.Precision.min()]"
   ]
  },
  {
   "cell_type": "code",
   "execution_count": 36,
   "metadata": {},
   "outputs": [
    {
     "data": {
      "text/html": [
       "<div>\n",
       "<style scoped>\n",
       "    .dataframe tbody tr th:only-of-type {\n",
       "        vertical-align: middle;\n",
       "    }\n",
       "\n",
       "    .dataframe tbody tr th {\n",
       "        vertical-align: top;\n",
       "    }\n",
       "\n",
       "    .dataframe thead th {\n",
       "        text-align: right;\n",
       "    }\n",
       "</style>\n",
       "<table border=\"1\" class=\"dataframe\">\n",
       "  <thead>\n",
       "    <tr style=\"text-align: right;\">\n",
       "      <th></th>\n",
       "      <th>kernel</th>\n",
       "      <th>gamma</th>\n",
       "      <th>C</th>\n",
       "      <th>Precision</th>\n",
       "      <th>FAR</th>\n",
       "    </tr>\n",
       "  </thead>\n",
       "  <tbody>\n",
       "    <tr>\n",
       "      <th>52</th>\n",
       "      <td>rbf</td>\n",
       "      <td>0.5</td>\n",
       "      <td>1.0</td>\n",
       "      <td>0.99</td>\n",
       "      <td>0.0</td>\n",
       "    </tr>\n",
       "  </tbody>\n",
       "</table>\n",
       "</div>"
      ],
      "text/plain": [
       "   kernel  gamma    C  Precision  FAR\n",
       "52    rbf    0.5  1.0       0.99  0.0"
      ]
     },
     "execution_count": 36,
     "metadata": {},
     "output_type": "execute_result"
    }
   ],
   "source": [
    "#Combinacion de hiperparametros con la mAYOR precision\n",
    "resultados_svm.loc[resultados_svm.Precision==resultados_svm.Precision.max()]"
   ]
  },
  {
   "cell_type": "markdown",
   "metadata": {},
   "source": [
    "**Utilizando shuffle Split**"
   ]
  },
  {
   "cell_type": "code",
   "execution_count": 37,
   "metadata": {},
   "outputs": [
    {
     "name": "stdout",
     "output_type": "stream",
     "text": [
      "X_train(750, 10)\n",
      "X_test(250, 10)\n",
      "labels_train(750,)\n",
      "labels_test(250,)\n"
     ]
    }
   ],
   "source": [
    "from sklearn.model_selection import ShuffleSplit\n",
    "ss=ShuffleSplit(n_splits=10, test_size=0.25)\n",
    "for train_index, test_index in ss.split(PcaTrain):\n",
    "    X_train=PcaTrain[train_index,:]\n",
    "    labels_train=labels[train_index]\n",
    "    X_test=PcaTrain[test_index,:]\n",
    "    labels_test=labels[test_index]\n",
    "print(f'X_train{X_train.shape}')\n",
    "print(f'X_test{X_test.shape}')\n",
    "print(f'labels_train{labels_train.shape}')\n",
    "print(f'labels_test{labels_test.shape}')"
   ]
  },
  {
   "cell_type": "markdown",
   "metadata": {},
   "source": [
    "**SVM**"
   ]
  },
  {
   "cell_type": "code",
   "execution_count": 38,
   "metadata": {},
   "outputs": [],
   "source": [
    "M=np.array([])\n",
    "max_acc=0\n",
    "y_predmax=0\n",
    "kernel=['linear','rbf']\n",
    "Cs=np.array([0.01, 0.1, 0.5, 1, 5, 10, 100])\n",
    "gammas=np.array([0.001, 0.01, 0.5, 1.0, 5.0])\n",
    "for k in kernel:\n",
    "    for c in Cs:\n",
    "        for g in gammas:\n",
    "            cls_svm=SVC(kernel=k,gamma=g,C=c)\n",
    "            cls_svm.fit(X_train,labels_train)\n",
    "            y_pred=cls_svm.predict(X_test)\n",
    "            acc=metrics.accuracy_score(labels_test,y_pred)\n",
    "            tn, fp, fn, tp = metrics.confusion_matrix(labels_test, y_pred).ravel()\n",
    "            far=fp/(tn+fp)\n",
    "            if acc>max_acc:\n",
    "                max_acc=acc\n",
    "                y_predmax=y_pred\n",
    "            M=np.append(M,[k,g,c,acc,far])"
   ]
  },
  {
   "cell_type": "code",
   "execution_count": 39,
   "metadata": {},
   "outputs": [
    {
     "data": {
      "text/html": [
       "<div>\n",
       "<style scoped>\n",
       "    .dataframe tbody tr th:only-of-type {\n",
       "        vertical-align: middle;\n",
       "    }\n",
       "\n",
       "    .dataframe tbody tr th {\n",
       "        vertical-align: top;\n",
       "    }\n",
       "\n",
       "    .dataframe thead th {\n",
       "        text-align: right;\n",
       "    }\n",
       "</style>\n",
       "<table border=\"1\" class=\"dataframe\">\n",
       "  <thead>\n",
       "    <tr style=\"text-align: right;\">\n",
       "      <th></th>\n",
       "      <th>kernel</th>\n",
       "      <th>gamma</th>\n",
       "      <th>C</th>\n",
       "      <th>Precision</th>\n",
       "      <th>FAR</th>\n",
       "    </tr>\n",
       "  </thead>\n",
       "  <tbody>\n",
       "    <tr>\n",
       "      <th>0</th>\n",
       "      <td>linear</td>\n",
       "      <td>0.001</td>\n",
       "      <td>0.01</td>\n",
       "      <td>0.964</td>\n",
       "      <td>0.067164</td>\n",
       "    </tr>\n",
       "    <tr>\n",
       "      <th>1</th>\n",
       "      <td>linear</td>\n",
       "      <td>0.010</td>\n",
       "      <td>0.01</td>\n",
       "      <td>0.964</td>\n",
       "      <td>0.067164</td>\n",
       "    </tr>\n",
       "    <tr>\n",
       "      <th>2</th>\n",
       "      <td>linear</td>\n",
       "      <td>0.500</td>\n",
       "      <td>0.01</td>\n",
       "      <td>0.964</td>\n",
       "      <td>0.067164</td>\n",
       "    </tr>\n",
       "    <tr>\n",
       "      <th>3</th>\n",
       "      <td>linear</td>\n",
       "      <td>1.000</td>\n",
       "      <td>0.01</td>\n",
       "      <td>0.964</td>\n",
       "      <td>0.067164</td>\n",
       "    </tr>\n",
       "    <tr>\n",
       "      <th>4</th>\n",
       "      <td>linear</td>\n",
       "      <td>5.000</td>\n",
       "      <td>0.01</td>\n",
       "      <td>0.964</td>\n",
       "      <td>0.067164</td>\n",
       "    </tr>\n",
       "  </tbody>\n",
       "</table>\n",
       "</div>"
      ],
      "text/plain": [
       "   kernel  gamma     C  Precision       FAR\n",
       "0  linear  0.001  0.01      0.964  0.067164\n",
       "1  linear  0.010  0.01      0.964  0.067164\n",
       "2  linear  0.500  0.01      0.964  0.067164\n",
       "3  linear  1.000  0.01      0.964  0.067164\n",
       "4  linear  5.000  0.01      0.964  0.067164"
      ]
     },
     "execution_count": 39,
     "metadata": {},
     "output_type": "execute_result"
    }
   ],
   "source": [
    "M=M.reshape(-1,5)\n",
    "resultados_svm=pd.DataFrame(M,columns=['kernel','gamma','C','Precision','FAR'])\n",
    "resultados_svm=resultados_svm.astype({'gamma':'float64','C':'float64','Precision':'float64','FAR':'float64'})\n",
    "resultados_svm.head()"
   ]
  },
  {
   "cell_type": "code",
   "execution_count": 40,
   "metadata": {},
   "outputs": [
    {
     "data": {
      "text/html": [
       "<div>\n",
       "<style scoped>\n",
       "    .dataframe tbody tr th:only-of-type {\n",
       "        vertical-align: middle;\n",
       "    }\n",
       "\n",
       "    .dataframe tbody tr th {\n",
       "        vertical-align: top;\n",
       "    }\n",
       "\n",
       "    .dataframe thead th {\n",
       "        text-align: right;\n",
       "    }\n",
       "</style>\n",
       "<table border=\"1\" class=\"dataframe\">\n",
       "  <thead>\n",
       "    <tr style=\"text-align: right;\">\n",
       "      <th></th>\n",
       "      <th>kernel</th>\n",
       "      <th>gamma</th>\n",
       "      <th>C</th>\n",
       "      <th>Precision</th>\n",
       "      <th>FAR</th>\n",
       "    </tr>\n",
       "  </thead>\n",
       "  <tbody>\n",
       "    <tr>\n",
       "      <th>35</th>\n",
       "      <td>rbf</td>\n",
       "      <td>0.001</td>\n",
       "      <td>0.01</td>\n",
       "      <td>0.464</td>\n",
       "      <td>1.0</td>\n",
       "    </tr>\n",
       "    <tr>\n",
       "      <th>37</th>\n",
       "      <td>rbf</td>\n",
       "      <td>0.500</td>\n",
       "      <td>0.01</td>\n",
       "      <td>0.464</td>\n",
       "      <td>1.0</td>\n",
       "    </tr>\n",
       "    <tr>\n",
       "      <th>38</th>\n",
       "      <td>rbf</td>\n",
       "      <td>1.000</td>\n",
       "      <td>0.01</td>\n",
       "      <td>0.464</td>\n",
       "      <td>1.0</td>\n",
       "    </tr>\n",
       "    <tr>\n",
       "      <th>39</th>\n",
       "      <td>rbf</td>\n",
       "      <td>5.000</td>\n",
       "      <td>0.01</td>\n",
       "      <td>0.464</td>\n",
       "      <td>1.0</td>\n",
       "    </tr>\n",
       "    <tr>\n",
       "      <th>44</th>\n",
       "      <td>rbf</td>\n",
       "      <td>5.000</td>\n",
       "      <td>0.10</td>\n",
       "      <td>0.464</td>\n",
       "      <td>1.0</td>\n",
       "    </tr>\n",
       "  </tbody>\n",
       "</table>\n",
       "</div>"
      ],
      "text/plain": [
       "   kernel  gamma     C  Precision  FAR\n",
       "35    rbf  0.001  0.01      0.464  1.0\n",
       "37    rbf  0.500  0.01      0.464  1.0\n",
       "38    rbf  1.000  0.01      0.464  1.0\n",
       "39    rbf  5.000  0.01      0.464  1.0\n",
       "44    rbf  5.000  0.10      0.464  1.0"
      ]
     },
     "execution_count": 40,
     "metadata": {},
     "output_type": "execute_result"
    }
   ],
   "source": [
    "#Combinacion de hiperparametros con la menor precision\n",
    "resultados_svm.loc[resultados_svm.Precision==resultados_svm.Precision.min()]"
   ]
  },
  {
   "cell_type": "code",
   "execution_count": 41,
   "metadata": {},
   "outputs": [
    {
     "data": {
      "text/html": [
       "<div>\n",
       "<style scoped>\n",
       "    .dataframe tbody tr th:only-of-type {\n",
       "        vertical-align: middle;\n",
       "    }\n",
       "\n",
       "    .dataframe tbody tr th {\n",
       "        vertical-align: top;\n",
       "    }\n",
       "\n",
       "    .dataframe thead th {\n",
       "        text-align: right;\n",
       "    }\n",
       "</style>\n",
       "<table border=\"1\" class=\"dataframe\">\n",
       "  <thead>\n",
       "    <tr style=\"text-align: right;\">\n",
       "      <th></th>\n",
       "      <th>kernel</th>\n",
       "      <th>gamma</th>\n",
       "      <th>C</th>\n",
       "      <th>Precision</th>\n",
       "      <th>FAR</th>\n",
       "    </tr>\n",
       "  </thead>\n",
       "  <tbody>\n",
       "    <tr>\n",
       "      <th>57</th>\n",
       "      <td>rbf</td>\n",
       "      <td>0.50</td>\n",
       "      <td>5.0</td>\n",
       "      <td>0.98</td>\n",
       "      <td>0.014925</td>\n",
       "    </tr>\n",
       "    <tr>\n",
       "      <th>61</th>\n",
       "      <td>rbf</td>\n",
       "      <td>0.01</td>\n",
       "      <td>10.0</td>\n",
       "      <td>0.98</td>\n",
       "      <td>0.037313</td>\n",
       "    </tr>\n",
       "    <tr>\n",
       "      <th>62</th>\n",
       "      <td>rbf</td>\n",
       "      <td>0.50</td>\n",
       "      <td>10.0</td>\n",
       "      <td>0.98</td>\n",
       "      <td>0.014925</td>\n",
       "    </tr>\n",
       "    <tr>\n",
       "      <th>66</th>\n",
       "      <td>rbf</td>\n",
       "      <td>0.01</td>\n",
       "      <td>100.0</td>\n",
       "      <td>0.98</td>\n",
       "      <td>0.037313</td>\n",
       "    </tr>\n",
       "  </tbody>\n",
       "</table>\n",
       "</div>"
      ],
      "text/plain": [
       "   kernel  gamma      C  Precision       FAR\n",
       "57    rbf   0.50    5.0       0.98  0.014925\n",
       "61    rbf   0.01   10.0       0.98  0.037313\n",
       "62    rbf   0.50   10.0       0.98  0.014925\n",
       "66    rbf   0.01  100.0       0.98  0.037313"
      ]
     },
     "execution_count": 41,
     "metadata": {},
     "output_type": "execute_result"
    }
   ],
   "source": [
    "#Combinacion de hiperparametros con la mAYOR precision\n",
    "resultados_svm.loc[resultados_svm.Precision==resultados_svm.Precision.max()]"
   ]
  },
  {
   "cell_type": "code",
   "execution_count": 42,
   "metadata": {},
   "outputs": [
    {
     "data": {
      "text/html": [
       "<div>\n",
       "<style scoped>\n",
       "    .dataframe tbody tr th:only-of-type {\n",
       "        vertical-align: middle;\n",
       "    }\n",
       "\n",
       "    .dataframe tbody tr th {\n",
       "        vertical-align: top;\n",
       "    }\n",
       "\n",
       "    .dataframe thead th {\n",
       "        text-align: right;\n",
       "    }\n",
       "</style>\n",
       "<table border=\"1\" class=\"dataframe\">\n",
       "  <thead>\n",
       "    <tr style=\"text-align: right;\">\n",
       "      <th></th>\n",
       "      <th>kernel</th>\n",
       "      <th>gamma</th>\n",
       "      <th>C</th>\n",
       "      <th>Precision</th>\n",
       "      <th>FAR</th>\n",
       "    </tr>\n",
       "  </thead>\n",
       "  <tbody>\n",
       "    <tr>\n",
       "      <th>53</th>\n",
       "      <td>rbf</td>\n",
       "      <td>1.0</td>\n",
       "      <td>1.0</td>\n",
       "      <td>0.956</td>\n",
       "      <td>0.007463</td>\n",
       "    </tr>\n",
       "    <tr>\n",
       "      <th>58</th>\n",
       "      <td>rbf</td>\n",
       "      <td>1.0</td>\n",
       "      <td>5.0</td>\n",
       "      <td>0.960</td>\n",
       "      <td>0.007463</td>\n",
       "    </tr>\n",
       "    <tr>\n",
       "      <th>63</th>\n",
       "      <td>rbf</td>\n",
       "      <td>1.0</td>\n",
       "      <td>10.0</td>\n",
       "      <td>0.956</td>\n",
       "      <td>0.007463</td>\n",
       "    </tr>\n",
       "    <tr>\n",
       "      <th>68</th>\n",
       "      <td>rbf</td>\n",
       "      <td>1.0</td>\n",
       "      <td>100.0</td>\n",
       "      <td>0.956</td>\n",
       "      <td>0.007463</td>\n",
       "    </tr>\n",
       "  </tbody>\n",
       "</table>\n",
       "</div>"
      ],
      "text/plain": [
       "   kernel  gamma      C  Precision       FAR\n",
       "53    rbf    1.0    1.0      0.956  0.007463\n",
       "58    rbf    1.0    5.0      0.960  0.007463\n",
       "63    rbf    1.0   10.0      0.956  0.007463\n",
       "68    rbf    1.0  100.0      0.956  0.007463"
      ]
     },
     "execution_count": 42,
     "metadata": {},
     "output_type": "execute_result"
    }
   ],
   "source": [
    "#Combinacion de hiperparametros con la menor tasa de falsa alarma\n",
    "resultados_svm.loc[resultados_svm.FAR==resultados_svm.FAR.min()]"
   ]
  },
  {
   "cell_type": "markdown",
   "metadata": {},
   "source": [
    "**Agrupamiento por k-NN**"
   ]
  },
  {
   "cell_type": "code",
   "execution_count": 43,
   "metadata": {},
   "outputs": [],
   "source": [
    "from sklearn import neighbors"
   ]
  },
  {
   "cell_type": "code",
   "execution_count": 45,
   "metadata": {},
   "outputs": [
    {
     "name": "stdout",
     "output_type": "stream",
     "text": [
      "X_train(750, 10)\n",
      "X_test(250, 10)\n",
      "labels_train(750,)\n",
      "labels_test(250,)\n"
     ]
    }
   ],
   "source": [
    "#Seleccion de los datos de entrenamiento y test usando train test split\n",
    "#Separación de los datos de entrenamiento y prueba con train_test_split \n",
    "X_train,X_test,labels_train,labels_test=train_test_split(PcaTrain, labels, test_size=0.25, random_state=4)#25% de los datos son para el test\n",
    "print(f'X_train{X_train.shape}')\n",
    "print(f'X_test{X_test.shape}')\n",
    "print(f'labels_train{labels_train.shape}')\n",
    "print(f'labels_test{labels_test.shape}')"
   ]
  },
  {
   "cell_type": "code",
   "execution_count": 49,
   "metadata": {},
   "outputs": [],
   "source": [
    "M=np.array([])\n",
    "for k in range(1,20,2):\n",
    "    knnClf = neighbors.KNeighborsClassifier(k, weights='uniform')\n",
    "    knnClf.fit(X_train, labels_train)\n",
    "    y_pred=knnClf.predict(X_test)\n",
    "    acc=metrics.accuracy_score(labels_test,y_pred)\n",
    "    tn, fp, fn, tp = metrics.confusion_matrix(labels_test, y_pred).ravel()\n",
    "    far=fp/(tn+fp)\n",
    "    M=np.append(M,[k,acc,far])"
   ]
  },
  {
   "cell_type": "code",
   "execution_count": 51,
   "metadata": {},
   "outputs": [
    {
     "data": {
      "text/html": [
       "<div>\n",
       "<style scoped>\n",
       "    .dataframe tbody tr th:only-of-type {\n",
       "        vertical-align: middle;\n",
       "    }\n",
       "\n",
       "    .dataframe tbody tr th {\n",
       "        vertical-align: top;\n",
       "    }\n",
       "\n",
       "    .dataframe thead th {\n",
       "        text-align: right;\n",
       "    }\n",
       "</style>\n",
       "<table border=\"1\" class=\"dataframe\">\n",
       "  <thead>\n",
       "    <tr style=\"text-align: right;\">\n",
       "      <th></th>\n",
       "      <th>Precision</th>\n",
       "      <th>FAR</th>\n",
       "    </tr>\n",
       "    <tr>\n",
       "      <th>Numero de \n",
       " Vecinos</th>\n",
       "      <th></th>\n",
       "      <th></th>\n",
       "    </tr>\n",
       "  </thead>\n",
       "  <tbody>\n",
       "    <tr>\n",
       "      <th>1.0</th>\n",
       "      <td>0.980</td>\n",
       "      <td>0.01626</td>\n",
       "    </tr>\n",
       "    <tr>\n",
       "      <th>3.0</th>\n",
       "      <td>0.988</td>\n",
       "      <td>0.02439</td>\n",
       "    </tr>\n",
       "    <tr>\n",
       "      <th>5.0</th>\n",
       "      <td>0.984</td>\n",
       "      <td>0.03252</td>\n",
       "    </tr>\n",
       "    <tr>\n",
       "      <th>7.0</th>\n",
       "      <td>0.976</td>\n",
       "      <td>0.03252</td>\n",
       "    </tr>\n",
       "    <tr>\n",
       "      <th>9.0</th>\n",
       "      <td>0.972</td>\n",
       "      <td>0.04065</td>\n",
       "    </tr>\n",
       "  </tbody>\n",
       "</table>\n",
       "</div>"
      ],
      "text/plain": [
       "                      Precision      FAR\n",
       "Numero de \\n Vecinos                    \n",
       "1.0                       0.980  0.01626\n",
       "3.0                       0.988  0.02439\n",
       "5.0                       0.984  0.03252\n",
       "7.0                       0.976  0.03252\n",
       "9.0                       0.972  0.04065"
      ]
     },
     "execution_count": 51,
     "metadata": {},
     "output_type": "execute_result"
    }
   ],
   "source": [
    "M=M.reshape(-1,3)\n",
    "resultados_knn=pd.DataFrame(M,columns=['Numero de \\n Vecinos','Precision','FAR'])\n",
    "resultados_knn.set_index('Numero de \\n Vecinos', inplace=True)\n",
    "resultados_knn=resultados_knn.astype({'Precision':'float64','FAR':'float64'})\n",
    "resultados_knn.head()"
   ]
  },
  {
   "cell_type": "code",
   "execution_count": 60,
   "metadata": {},
   "outputs": [
    {
     "data": {
      "image/png": "[encoded data removed]",
      "text/plain": [
       "<Figure size 576x396 with 2 Axes>"
      ]
     },
     "metadata": {},
     "output_type": "display_data"
    }
   ],
   "source": [
    "fig, ax=plt.subplots(1,2)\n",
    "ax[0].plot(resultados_knn,label='Precision')\n",
    "ax[0].set_ylim(0.9,1.1)\n",
    "ax[1].plot(resultados_knn,label='FAR')\n",
    "ax[1].set_ylim(0,0.3)\n",
    "for j in range(0,2):\n",
    "    ax[j].legend()\n",
    "    ax[j].set_xlabel('Numero de Vecinos')"
   ]
  },
  {
   "cell_type": "code",
   "execution_count": 61,
   "metadata": {},
   "outputs": [
    {
     "data": {
      "text/html": [
       "<div>\n",
       "<style scoped>\n",
       "    .dataframe tbody tr th:only-of-type {\n",
       "        vertical-align: middle;\n",
       "    }\n",
       "\n",
       "    .dataframe tbody tr th {\n",
       "        vertical-align: top;\n",
       "    }\n",
       "\n",
       "    .dataframe thead th {\n",
       "        text-align: right;\n",
       "    }\n",
       "</style>\n",
       "<table border=\"1\" class=\"dataframe\">\n",
       "  <thead>\n",
       "    <tr style=\"text-align: right;\">\n",
       "      <th></th>\n",
       "      <th>Precision</th>\n",
       "      <th>FAR</th>\n",
       "    </tr>\n",
       "    <tr>\n",
       "      <th>Numero de \n",
       " Vecinos</th>\n",
       "      <th></th>\n",
       "      <th></th>\n",
       "    </tr>\n",
       "  </thead>\n",
       "  <tbody>\n",
       "    <tr>\n",
       "      <th>3.0</th>\n",
       "      <td>0.988</td>\n",
       "      <td>0.02439</td>\n",
       "    </tr>\n",
       "  </tbody>\n",
       "</table>\n",
       "</div>"
      ],
      "text/plain": [
       "                      Precision      FAR\n",
       "Numero de \\n Vecinos                    \n",
       "3.0                       0.988  0.02439"
      ]
     },
     "execution_count": 61,
     "metadata": {},
     "output_type": "execute_result"
    }
   ],
   "source": [
    "resultados_knn.loc[resultados_knn.Precision==resultados_knn.Precision.max()]"
   ]
  },
  {
   "cell_type": "code",
   "execution_count": 62,
   "metadata": {},
   "outputs": [
    {
     "data": {
      "text/html": [
       "<div>\n",
       "<style scoped>\n",
       "    .dataframe tbody tr th:only-of-type {\n",
       "        vertical-align: middle;\n",
       "    }\n",
       "\n",
       "    .dataframe tbody tr th {\n",
       "        vertical-align: top;\n",
       "    }\n",
       "\n",
       "    .dataframe thead th {\n",
       "        text-align: right;\n",
       "    }\n",
       "</style>\n",
       "<table border=\"1\" class=\"dataframe\">\n",
       "  <thead>\n",
       "    <tr style=\"text-align: right;\">\n",
       "      <th></th>\n",
       "      <th>Precision</th>\n",
       "      <th>FAR</th>\n",
       "    </tr>\n",
       "    <tr>\n",
       "      <th>Numero de \n",
       " Vecinos</th>\n",
       "      <th></th>\n",
       "      <th></th>\n",
       "    </tr>\n",
       "  </thead>\n",
       "  <tbody>\n",
       "    <tr>\n",
       "      <th>1.0</th>\n",
       "      <td>0.98</td>\n",
       "      <td>0.01626</td>\n",
       "    </tr>\n",
       "  </tbody>\n",
       "</table>\n",
       "</div>"
      ],
      "text/plain": [
       "                      Precision      FAR\n",
       "Numero de \\n Vecinos                    \n",
       "1.0                        0.98  0.01626"
      ]
     },
     "execution_count": 62,
     "metadata": {},
     "output_type": "execute_result"
    }
   ],
   "source": [
    "resultados_knn.loc[resultados_knn.FAR==resultados_knn.FAR.min()]"
   ]
  },
  {
   "cell_type": "code",
   "execution_count": 63,
   "metadata": {},
   "outputs": [
    {
     "name": "stdout",
     "output_type": "stream",
     "text": [
      "X_train shape(900, 10)\n",
      "X_test shape(100, 10)\n",
      "labels_train shape(900,)\n",
      "labels_test shape(100,)\n"
     ]
    }
   ],
   "source": [
    "#Usando kfold \n",
    "kf=KFold(n_splits=10, shuffle= True)\n",
    "for train_index,test_index in kf.split(PcaTrain):\n",
    "    X_train=PcaTrain[train_index]\n",
    "    X_test=PcaTrain[test_index]\n",
    "    labels_train=labels[train_index]\n",
    "    labels_test=labels[test_index]\n",
    "print(f'X_train shape{X_train.shape}')\n",
    "print(f'X_test shape{X_test.shape}')\n",
    "print(f'labels_train shape{labels_train.shape}')\n",
    "print(f'labels_test shape{labels_test.shape}')"
   ]
  },
  {
   "cell_type": "code",
   "execution_count": 64,
   "metadata": {},
   "outputs": [],
   "source": [
    "M=np.array([])\n",
    "for k in range(1,20,2):\n",
    "    knnClf = neighbors.KNeighborsClassifier(k, weights='uniform')\n",
    "    knnClf.fit(X_train, labels_train)\n",
    "    y_pred=knnClf.predict(X_test)\n",
    "    acc=metrics.accuracy_score(labels_test,y_pred)\n",
    "    tn, fp, fn, tp = metrics.confusion_matrix(labels_test, y_pred).ravel()\n",
    "    far=fp/(tn+fp)\n",
    "    M=np.append(M,[k,acc,far])"
   ]
  },
  {
   "cell_type": "code",
   "execution_count": 65,
   "metadata": {},
   "outputs": [
    {
     "data": {
      "text/html": [
       "<div>\n",
       "<style scoped>\n",
       "    .dataframe tbody tr th:only-of-type {\n",
       "        vertical-align: middle;\n",
       "    }\n",
       "\n",
       "    .dataframe tbody tr th {\n",
       "        vertical-align: top;\n",
       "    }\n",
       "\n",
       "    .dataframe thead th {\n",
       "        text-align: right;\n",
       "    }\n",
       "</style>\n",
       "<table border=\"1\" class=\"dataframe\">\n",
       "  <thead>\n",
       "    <tr style=\"text-align: right;\">\n",
       "      <th></th>\n",
       "      <th>Precision</th>\n",
       "      <th>FAR</th>\n",
       "    </tr>\n",
       "    <tr>\n",
       "      <th>Numero de \n",
       " Vecinos</th>\n",
       "      <th></th>\n",
       "      <th></th>\n",
       "    </tr>\n",
       "  </thead>\n",
       "  <tbody>\n",
       "    <tr>\n",
       "      <th>1.0</th>\n",
       "      <td>0.99</td>\n",
       "      <td>0.0</td>\n",
       "    </tr>\n",
       "    <tr>\n",
       "      <th>3.0</th>\n",
       "      <td>1.00</td>\n",
       "      <td>0.0</td>\n",
       "    </tr>\n",
       "    <tr>\n",
       "      <th>5.0</th>\n",
       "      <td>1.00</td>\n",
       "      <td>0.0</td>\n",
       "    </tr>\n",
       "    <tr>\n",
       "      <th>7.0</th>\n",
       "      <td>0.99</td>\n",
       "      <td>0.0</td>\n",
       "    </tr>\n",
       "    <tr>\n",
       "      <th>9.0</th>\n",
       "      <td>0.98</td>\n",
       "      <td>0.0</td>\n",
       "    </tr>\n",
       "  </tbody>\n",
       "</table>\n",
       "</div>"
      ],
      "text/plain": [
       "                      Precision  FAR\n",
       "Numero de \\n Vecinos                \n",
       "1.0                        0.99  0.0\n",
       "3.0                        1.00  0.0\n",
       "5.0                        1.00  0.0\n",
       "7.0                        0.99  0.0\n",
       "9.0                        0.98  0.0"
      ]
     },
     "execution_count": 65,
     "metadata": {},
     "output_type": "execute_result"
    }
   ],
   "source": [
    "M=M.reshape(-1,3)\n",
    "resultados_knn=pd.DataFrame(M,columns=['Numero de \\n Vecinos','Precision','FAR'])\n",
    "resultados_knn.set_index('Numero de \\n Vecinos', inplace=True)\n",
    "resultados_knn=resultados_knn.astype({'Precision':'float64','FAR':'float64'})\n",
    "resultados_knn.head()"
   ]
  },
  {
   "cell_type": "code",
   "execution_count": 66,
   "metadata": {},
   "outputs": [
    {
     "data": {
      "image/png": "[encoded data removed]",
      "text/plain": [
       "<Figure size 576x396 with 2 Axes>"
      ]
     },
     "metadata": {},
     "output_type": "display_data"
    }
   ],
   "source": [
    "fig, ax=plt.subplots(1,2)\n",
    "ax[0].plot(resultados_knn,label='Precision')\n",
    "ax[0].set_ylim(0.9,1.1)\n",
    "ax[1].plot(resultados_knn,label='FAR')\n",
    "ax[1].set_ylim(0,0.3)\n",
    "for j in range(0,2):\n",
    "    ax[j].legend()\n",
    "    ax[j].set_xlabel('Numero de Vecinos')"
   ]
  },
  {
   "cell_type": "code",
   "execution_count": 67,
   "metadata": {},
   "outputs": [
    {
     "data": {
      "text/html": [
       "<div>\n",
       "<style scoped>\n",
       "    .dataframe tbody tr th:only-of-type {\n",
       "        vertical-align: middle;\n",
       "    }\n",
       "\n",
       "    .dataframe tbody tr th {\n",
       "        vertical-align: top;\n",
       "    }\n",
       "\n",
       "    .dataframe thead th {\n",
       "        text-align: right;\n",
       "    }\n",
       "</style>\n",
       "<table border=\"1\" class=\"dataframe\">\n",
       "  <thead>\n",
       "    <tr style=\"text-align: right;\">\n",
       "      <th></th>\n",
       "      <th>Precision</th>\n",
       "      <th>FAR</th>\n",
       "    </tr>\n",
       "    <tr>\n",
       "      <th>Numero de \n",
       " Vecinos</th>\n",
       "      <th></th>\n",
       "      <th></th>\n",
       "    </tr>\n",
       "  </thead>\n",
       "  <tbody>\n",
       "    <tr>\n",
       "      <th>3.0</th>\n",
       "      <td>1.0</td>\n",
       "      <td>0.0</td>\n",
       "    </tr>\n",
       "    <tr>\n",
       "      <th>5.0</th>\n",
       "      <td>1.0</td>\n",
       "      <td>0.0</td>\n",
       "    </tr>\n",
       "  </tbody>\n",
       "</table>\n",
       "</div>"
      ],
      "text/plain": [
       "                      Precision  FAR\n",
       "Numero de \\n Vecinos                \n",
       "3.0                         1.0  0.0\n",
       "5.0                         1.0  0.0"
      ]
     },
     "execution_count": 67,
     "metadata": {},
     "output_type": "execute_result"
    }
   ],
   "source": [
    "resultados_knn.loc[resultados_knn.Precision==resultados_knn.Precision.max()]"
   ]
  },
  {
   "cell_type": "code",
   "execution_count": 68,
   "metadata": {},
   "outputs": [
    {
     "data": {
      "text/html": [
       "<div>\n",
       "<style scoped>\n",
       "    .dataframe tbody tr th:only-of-type {\n",
       "        vertical-align: middle;\n",
       "    }\n",
       "\n",
       "    .dataframe tbody tr th {\n",
       "        vertical-align: top;\n",
       "    }\n",
       "\n",
       "    .dataframe thead th {\n",
       "        text-align: right;\n",
       "    }\n",
       "</style>\n",
       "<table border=\"1\" class=\"dataframe\">\n",
       "  <thead>\n",
       "    <tr style=\"text-align: right;\">\n",
       "      <th></th>\n",
       "      <th>Precision</th>\n",
       "      <th>FAR</th>\n",
       "    </tr>\n",
       "    <tr>\n",
       "      <th>Numero de \n",
       " Vecinos</th>\n",
       "      <th></th>\n",
       "      <th></th>\n",
       "    </tr>\n",
       "  </thead>\n",
       "  <tbody>\n",
       "    <tr>\n",
       "      <th>1.0</th>\n",
       "      <td>0.99</td>\n",
       "      <td>0.0</td>\n",
       "    </tr>\n",
       "    <tr>\n",
       "      <th>3.0</th>\n",
       "      <td>1.00</td>\n",
       "      <td>0.0</td>\n",
       "    </tr>\n",
       "    <tr>\n",
       "      <th>5.0</th>\n",
       "      <td>1.00</td>\n",
       "      <td>0.0</td>\n",
       "    </tr>\n",
       "    <tr>\n",
       "      <th>7.0</th>\n",
       "      <td>0.99</td>\n",
       "      <td>0.0</td>\n",
       "    </tr>\n",
       "    <tr>\n",
       "      <th>9.0</th>\n",
       "      <td>0.98</td>\n",
       "      <td>0.0</td>\n",
       "    </tr>\n",
       "    <tr>\n",
       "      <th>11.0</th>\n",
       "      <td>0.98</td>\n",
       "      <td>0.0</td>\n",
       "    </tr>\n",
       "    <tr>\n",
       "      <th>13.0</th>\n",
       "      <td>0.97</td>\n",
       "      <td>0.0</td>\n",
       "    </tr>\n",
       "    <tr>\n",
       "      <th>15.0</th>\n",
       "      <td>0.99</td>\n",
       "      <td>0.0</td>\n",
       "    </tr>\n",
       "    <tr>\n",
       "      <th>17.0</th>\n",
       "      <td>0.99</td>\n",
       "      <td>0.0</td>\n",
       "    </tr>\n",
       "    <tr>\n",
       "      <th>19.0</th>\n",
       "      <td>0.99</td>\n",
       "      <td>0.0</td>\n",
       "    </tr>\n",
       "  </tbody>\n",
       "</table>\n",
       "</div>"
      ],
      "text/plain": [
       "                      Precision  FAR\n",
       "Numero de \\n Vecinos                \n",
       "1.0                        0.99  0.0\n",
       "3.0                        1.00  0.0\n",
       "5.0                        1.00  0.0\n",
       "7.0                        0.99  0.0\n",
       "9.0                        0.98  0.0\n",
       "11.0                       0.98  0.0\n",
       "13.0                       0.97  0.0\n",
       "15.0                       0.99  0.0\n",
       "17.0                       0.99  0.0\n",
       "19.0                       0.99  0.0"
      ]
     },
     "execution_count": 68,
     "metadata": {},
     "output_type": "execute_result"
    }
   ],
   "source": [
    "resultados_knn.loc[resultados_knn.FAR==resultados_knn.FAR.min()]"
   ]
  },
  {
   "cell_type": "code",
   "execution_count": null,
   "metadata": {},
   "outputs": [],
   "source": []
  }
 ],
 "metadata": {
  "kernelspec": {
   "display_name": "Python 3",
   "language": "python",
   "name": "python3"
  },
  "language_info": {
   "codemirror_mode": {
    "name": "ipython",
    "version": 3
   },
   "file_extension": ".py",
   "mimetype": "text/x-python",
   "name": "python",
   "nbconvert_exporter": "python",
   "pygments_lexer": "ipython3",
   "version": "3.7.3"
  }
 },
 "nbformat": 4,
 "nbformat_minor": 2
}
