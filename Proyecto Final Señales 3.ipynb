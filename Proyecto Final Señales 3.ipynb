{
 "cells": [
  {
   "cell_type": "markdown",
   "metadata": {},
   "source": [
    "## Camilo Enrique Farelo Panesso"
   ]
  },
  {
   "cell_type": "markdown",
   "metadata": {},
   "source": [
    "## DETECCIÓN DE ATAQUES DoS EN UNA RED POR MEDIO DE APRENDIZAJE DE MÁQUINA"
   ]
  },
  {
   "cell_type": "markdown",
   "metadata": {},
   "source": [
    "### Descripción del problema."
   ]
  },
  {
   "cell_type": "markdown",
   "metadata": {},
   "source": [
    "En las ultimas dos décadas, el uso del internet se ha vuelto parte fundamental de nuestra vida diaria ya que gracias a esta tecnología podemos comunicarnos de manera instantánea, disfrutar de contenido de ocio, acceder a material académico o realizar transacciones comerciales. \n",
    "\n",
    "Las empresas también disfrutan de estos beneficios ya que para ellas significa reducción de costos dejando a un lado actividades que se hacían hace varios años como llamadas a larga distancia, pago de mensajería para transportar documentación, hacer filas en bancos o viajar a reuniones en otras partes. \n",
    "\n",
    "Con el aumento de la circulación de datos a través de las redes también han surgido nuevos criminales que buscan robar o cambiar esa información y realizar transacciones bancarias a sus cuentas de manera ilegal. Las herramientas más utilizadas para lograr estos fines son mediante correos electrónicos o paginas web maliciosas.\n",
    "\n",
    "Según datos de la compañía AV Test, de 65 millones de malware totales que había en 2011 paso a ser en el 2020 de 1045 millones aproximadamente. Con base a un reporte de la compañía WEBROOT, el 93% de estos ataques detectados tenían la capacidad de cambiar su código para evadir la seguridad y fueron detectados en un solo equipo. Según la Universidad de Maryland, actualmente los hackers realizan un ataque cada 39 segundos \n",
    "\n",
    "Las empresas emplean técnicas de seguridad tradicionales y capacitaciones de ética relacionadas al manejo de información, pero estas tienen muchos inconvenientes. Algunos de estos inconvenientes son:\n",
    "* No pueden predecir nuevas amenazas o ataques ya que aún no se ha capturado suficiente información sobre ellos.\n",
    "* Los ataques son detectados ya en el momento que estos han infectado la red y en el peor de los casos pueden demorar meses encontrándolos lo que permite al criminal robar suficiente información de la empresa.\n",
    "* El número de falsas alarmas que dan las técnicas tradicionales es muy alto lo que después se reflejara en los costos.\n",
    "\n",
    "Con esas cifras preocupantes se ha llegado a la conclusión de que ya un algoritmo simple que actúa como un humano no nos va a garantizar la total protección de nuestras redes y dispositivos. Las técnicas de Machine Learning permitirán detectar amenazas de manera más rápida sin que esta llegue a dañar la red. Además, reducirá tanto el costo computacional como el económico y el crecimiento de la Inteligencia Artificial hace que cualquier tarea migre para este campo.\n"
   ]
  },
  {
   "cell_type": "markdown",
   "metadata": {},
   "source": [
    "## Objetivos "
   ]
  },
  {
   "cell_type": "markdown",
   "metadata": {},
   "source": [
    "**Objetivo General** \n",
    "\n",
    "Implementar un sistema que tenga la capacidad de predecir y detectar ataques DoS informáticos en una red, dando una respuesta en tiempo real mediante la aplicación de técnicas de Machine Learning.\n",
    "\n",
    "**Objetivos Específicos** \n",
    "\n",
    "* Escoger la base de datos adecuada. Esta debe ser actualizada en cuanto protocolos y tipos de servicio. Además, tiene que estar etiquetada, y con un gran número de características y muestras. \n",
    "* Como en la base de datos se encuentran muestras de paquetes normales y de 9 categorías de ataques, entonces a partir de esa se realizará una nueva base de datos que solo incluya paquetes normales y paquetes DoS.\n",
    "* De la base de datos, seleccionar mediante extracción de características, las más cruciales que hacen que un paquete capturado en una red sea o no una amenaza. \n",
    "* Realizar varias pruebas con los algoritmos de aprendizaje supervisado más comunes y teniendo en cuenta los resultados arrojados por las librerías seleccionar el mejor en cuanto a precisión, tiempo y tasa de errores."
   ]
  },
  {
   "cell_type": "markdown",
   "metadata": {},
   "source": [
    "### Marco Teórico \n",
    "\n",
    "El Machine Learning ya no es el futuro de la tecnología sino el presente y lo podemos evidenciar en cosas tan simples como que Google arroja resultados acordes a nuestros deseos o que las plataformas de E-Commerce nos ofrecen artículos relacionados a nuestros deseos o compras previas.  Sin embargo, no son las únicas aplicaciones que tiene el ML debido a que ya es utilizada en campos como el reconocimiento facial, filtrado de los correos electrónicos, detección de palabras, atención al cliente, exámenes médicos, clasificación, entre otros.\n",
    "\n",
    "De acuerdo con lo anterior, se puede definir el Machine Learning como una rama de la Inteligencia Artificial en la cual las maquinas utilizan bases de datos para su análisis, aprendizaje y luego esta máquina modela problemas del mundo real y genera predicciones predice sin necesidad de estar explícitamente programada.\n",
    "\n",
    "Como cualquier actividad requiere medidas de seguridad, esta no podría ser la excepción en el caso de proteger los datos personales de los usuarios. Por eso en las redes se aplica la ciberseguridad también conocida como Seguridad Informática, que es la rama de la telemática que consiste en la defensa de la infraestructura y de la información contenida en dispositivos electrónicos como Servidores, Computadores o celulares mediante protocolos, métodos y leyes.\n",
    "\n",
    "En un mundo tan interconectado como el actual, muchas personas anónimas aprovechan la infraestructura existente para acceder a los dispositivos finales(computadores, celulares, dispositivos AI entre otros) para robar información mediante Software Malicioso o mejor conocido como Malware, el cual tiene muchas maneras de operar dentro de un equipo entre las cuales están Adware, Troyanos, Keyloggers, backdoors entre otros. \n",
    "\n",
    "Así como los equipos son infectados por Malwares, análogamente los sitios web reciben ataques conocidos como Denegadores de Servicio (DoS), en el cual se hace creer a los usuarios que el sitio web no se encuentra disponible. Para lograr esto, el atacante crea una red de computadores infectados conocida como botnet los cuales ocupan el ancho de banda mediante correos spam u otros tipos de actividades. Este ataque es efectivo y difícil de detectar debido a que utiliza los protocolos de transporte TCP/IP.\n",
    "\n",
    "Como el tráfico aumenta de manera exponencial, ya los sistemas tradicionales no son eficientes a la hora de proteger las redes, con lo cual se hace necesario la implementación del Machine Learning en la Seguridad Informática. \n",
    "\n",
    "Para medir el desempeño de cualquier sistema con ML, se utiliza la matriz de confusión, que describe la clasificación de los resultados en detalle cuando son correctos o incorrectos en diferentes clases. \n"
   ]
  },
  {
   "cell_type": "code",
   "execution_count": 1,
   "metadata": {},
   "outputs": [
    {
     "data": {
      "text/html": [
       "<div>\n",
       "<style scoped>\n",
       "    .dataframe tbody tr th:only-of-type {\n",
       "        vertical-align: middle;\n",
       "    }\n",
       "\n",
       "    .dataframe tbody tr th {\n",
       "        vertical-align: top;\n",
       "    }\n",
       "\n",
       "    .dataframe thead th {\n",
       "        text-align: right;\n",
       "    }\n",
       "</style>\n",
       "<table border=\"1\" class=\"dataframe\">\n",
       "  <thead>\n",
       "    <tr style=\"text-align: right;\">\n",
       "      <th></th>\n",
       "      <th>Predecido como Positivo</th>\n",
       "      <th>Predecido como Negativo</th>\n",
       "    </tr>\n",
       "  </thead>\n",
       "  <tbody>\n",
       "    <tr>\n",
       "      <th>Etiquetados como Positivos</th>\n",
       "      <td>Verdaderos Positivos</td>\n",
       "      <td>Falsos Negativos</td>\n",
       "    </tr>\n",
       "    <tr>\n",
       "      <th>Etiquetados como Negativos</th>\n",
       "      <td>Falsos Positivos</td>\n",
       "      <td>Verdaderos Negativos</td>\n",
       "    </tr>\n",
       "  </tbody>\n",
       "</table>\n",
       "</div>"
      ],
      "text/plain": [
       "                           Predecido como Positivo Predecido como Negativo\n",
       "Etiquetados como Positivos    Verdaderos Positivos        Falsos Negativos\n",
       "Etiquetados como Negativos        Falsos Positivos    Verdaderos Negativos"
      ]
     },
     "execution_count": 1,
     "metadata": {},
     "output_type": "execute_result"
    }
   ],
   "source": [
    "import pandas as pd\n",
    "data = [['Verdaderos Positivos', 'Falsos Negativos'], ['Falsos Positivos', 'Verdaderos Negativos']]\n",
    "pd.DataFrame(data, columns=[\"Predecido como Positivo\", \"Predecido como Negativo\"], index=[\"Etiquetados como Positivos\",\"Etiquetados como Negativos\"])"
   ]
  },
  {
   "cell_type": "markdown",
   "metadata": {},
   "source": [
    "**Verdaderos Positivos (TP):** Muestras positivas que se clasificaron correctamente.\n",
    "\n",
    "**Falsos Negativos (FN):** Muestras positivas que fueron mal clasificadas. \n",
    "\n",
    "**Falsos Positivos (FP):** Muestras negativas que fueron mal clasificadas.\n",
    "\n",
    "**Verdaderos Negativos (TN):** Muestras negativas que se clasificaron correctamente.\n",
    "\n",
    "**Precisión:** corresponde al número de muestras clasificadas correctamente del total de las muestras del dataset. Se calcula con la siguiente ecuación: \n",
    "\n",
    "$ \\frac{TP+TN}{TP+TN+FP+FN} $"
   ]
  },
  {
   "cell_type": "markdown",
   "metadata": {},
   "source": [
    "### Posibles fuentes de información"
   ]
  },
  {
   "cell_type": "markdown",
   "metadata": {},
   "source": [
    "http://openaccess.uoc.edu/webapps/o2/handle/10609/91066\n",
    "http://openaccess.uoc.edu/webapps/o2/handle/10609/81126 Fuente: Universitat Oberta de Catalunya. \n",
    "Se puede decir que el artículo anterior es muy útil y confiable ya que se encuentra en la base de datos de esta universidad. La UOC fué recientemente destacada a nivel Español ubicandose en el puesto 12 aún siendo una universidad virtual según la firma educativa Times Higher Education. Según esta firma la UOC tiene un peso del 30% en invesitgación y un 30% de peso en citas.\n",
    "\n",
    "https://ieeexplore.ieee.org/abstract/document/8359287\n",
    "https://ieeexplore.ieee.org/abstract/document/7103959\n",
    "https://ieeexplore.ieee.org/abstract/document/7307098\n",
    "https://ieeexplore.ieee.org/document/8702583 Fuente: IEEE Xplore\n",
    "Se puede decir que los artículos anteriores son muy confiables ya que además de su fecha de publicación la cual es reciente, se encuentran en la base de datos de la IEEE que es una de las organizaciones más prestigiosas en Telecomunicaciones y afines con más de 6200 estándares, 2400 libros y aproximadamente son agregados mensualmente 20000 documentos. \n",
    "\n",
    "https://vford.me/papers/Ford%20Siraj%20Machine%20Learning%20in%20Cyber%20Security%20final%20manuscript.pdf Fuente: vford.me\n",
    "Este documento se encontró en el blog personal del profesor Vitaly Ford, quien es un profesor del Departamento de Ciencias Computacionales y Matemáticas de la Universida de Arcadia. Enseña asignaturas como Arquitectura de Computadores, Estructuras de Datos y Algoritmos,Seguridad en Redes entre otras. En el 2017 obtuvo su Doctorado en Seguridad Informática y trabaja en artículos con nuevos investigadores para hacerlos conocer. \n",
    "\n",
    "https://arxiv.org/abs/1701.07179\n",
    "https://arxiv.org/abs/1312.2177\n",
    "https://arxiv.org/abs/1307.7286 Fuente: Arxiv\n",
    "Esta fuente tiene la ventaja de pre-publicar artículos que posiblemente sean buenos mientras estan en proceso de aprobación dandole la posibilidad a los estudiantes e investigadores tener un acceso amplio a la información en ramas como física, matemáticas y ciencas de computación.\n",
    "\n",
    "https://pdfs.semanticscholar.org/0278/bbaf1db5df036f02393679d485260b1daeb7.pdf Fuente: Semantic Scholar\n",
    "Semantic Scholar es un buscador del tipo de Google Scholar el cual esta basado en Inteligencia Artificial que tiene aportaciones en información añadida, asociación semántica y uso de grafos. \n",
    "\n",
    "https://www.sciencedirect.com/science/article/pii/S1084804519303868 Fuente: ScienceDirect\n",
    "\n",
    "https://link.springer.com/chapter/10.1007/978-981-15-1706-8_3\n",
    "https://link.springer.com/chapter/10.1007/978-3-030-29053-5_2\n",
    "https://sci-hub.tw/https://link.springer.com/chapter/10.1007/978-3-642-18333-1_12\n",
    "Fuente: SpringerLink"
   ]
  },
  {
   "cell_type": "markdown",
   "metadata": {},
   "source": [
    "### Estado del Arte (Taxonomia)"
   ]
  },
  {
   "cell_type": "markdown",
   "metadata": {},
   "source": [
    "En los artículos consultados acerca del tema se puede ver tendencias en las etapas correspondientes al preprocesamiento de la base de datos y en el entrenamiento del sistema. Para el preprocesamiento se encontraron tendencias como utilizar parte de las muestras de la base de datos garantizando que sea balanceado, agregar caracteísticas nuevas con valores numéricos correspondientes con las características cualitativas, normalizacion de valores y supresion de características. En el momento de aprendizaje se utilizaron tecnicas de Árbol de Decisión, Maquinas de Soporte Vectorial, Clasificación Bayesiana, Redes Neuronales Regresión Lineal y Métodos Híbridos. "
   ]
  },
  {
   "cell_type": "markdown",
   "metadata": {},
   "source": [
    "### Marco Experimental\n",
    "Para el analisis de trafico en la red, los datasets más comunes son KDD98, KDDCUP99 y NSLKDD los cuales fueron creados hace más de una decada lo cual hace que sean poco confiables debido a que no incluyen las nuevas modalidades de ataques informáticos. \n",
    "La integración de varios grupos cientificos que trabajan en ciberseguridad  ha permitido que la empresa IXIA cree el dataset UNSW-NB15 el cual va a ser utilizado para este proyecto de materia. La generación de esta base de datos consiste en crear un generador de tráfico que tiene dos interfaces conectadas con tres servidores virtuales, uno de ellos destinado para el tráfico de malware. Los host se encuentran conectados a los servidores por medio de dos routers que a su vez se encuentran conectados a un firewall que deja pasar todo tipo de tráfico. \n",
    "Gracias a las altas velocidades realizaron dos pruebas en las cuales capturaron 50 GB de tráfico en cada una. Estas pruebas se realizaron en el mes de febrero del año 2015 durante 16 horas.\n",
    "Las carácterísticas extraidas durante las pruebas se pueden dividir en 6 grupos los cuales son: \n",
    "* Carácterísticas de flujo: entre estas se puede mencionar la IP de origen, la IP de destino, el número de puerto de origen y destino, y el protocolo de transacción. \n",
    "* Caraterísticas básicas: entre estas se encuentran la duración total del flujo, el tamaño en bytes de las cabeceras, los tiempos de vida, tipo de servicio, paquetes perdidos y el conteo de paquetes. \n",
    "* Características de contenido: estas incluyen los números de secuencia, el tamaño de secuencia, el promedio de paquetes transmitidos y el tamaño de contenido enviado a los servidores. \n",
    "* Características de tiempo: se encuentran el tiempo de retardo, los tiempos de llegada, los tiempos de confirmación entre otros. \n",
    "* Características adicionales: confirmación de sesiones, número de flujos obtenidos en los diferentes servicios y el número de conexiones. \n",
    "* Características etiquetadas: En estas se encuentran el tipo de ataque informático y la etiqueta de amenaza o ataque normal."
   ]
  },
  {
   "cell_type": "markdown",
   "metadata": {},
   "source": [
    "### Estado del Arte \n",
    "Para la creación de los sistemas de detección de Ataques Informáticos se ha aplicado aprendizaje supervisado. Algunos sistemas son realizados mediante bases de datos creadas por el mismo autor de manera manual pero existen otras bases de datos que son públicas. Estas ultimas son las más implementadas en el aprendizaje de máquina debido a la precisión obtenida [1]. Algunos datasets públicos son: \n",
    "\n",
    "**DARPA 1998:** Este dataset fue construido en febrero del año 1998 el cual consiste en 8 características y un gran número de muestras recolectadas durante 9 semanas. Los paquetes capturados se dividen entre 27 tipos de ataque de los cuales la mayoria ya son obsoletos.\n",
    "\n",
    "**DARPA 1999:** Fue construido durante el año de 1999 durante 7 semanas con muestras de ese año y del pasado que trae consigo 56 tipos de ataques.\n",
    "\n",
    "**DARPA 2000:** Este dataset se enfoca especialmente para los ataques Denegadores de Servicio(DoS).\n",
    "\n",
    "**KDD CUP 1999:** Es un dataset construido en 1999 que contiene 4'900.000 muestras, 41 características y 22 tipos de ataques clasificados en 5 grandes grupos(Normal, DoS, Probe, U2R, R2L). \n",
    "\n",
    "**NSL KDD Dataset:** Es una versión mejorada del anterior en cuanto al tipo de muestras capturadas pero tiene el mismo número de características y tipos de paquetes. \n",
    "\n",
    "En el año 2011 Yan y Liu [2], utilizaron la base de datos DARPA 1998 de la cual extrayeron 200 paquetes positivos y 200 DoS. Para entrenar el clasificador utilizaron dos tipos de Maquinas de Soporte Vectorial las cuales obtuvieron una precisión del 81.2% y una tasa de falsa alarma del 0.47%. Estos resultados se pueden considerar aceptables para la poa cantidad de muestras utilizadas. \n",
    "\n",
    "Tres años más tarde, en el 2014 Kokila [3] Utiliza la misma familia de datos DARPA pero la version del año 2000 para aplicarles un clasificador de Maquina de Soporte Vectorial. Para el entrenamiento se utilizan 963 instancias y para el testing 1035 muestras obteniendo al final del experimento los resultados 95,11% de precisión y una tasa de falsa alarma del 0.008. En el mismo experimento se utilizaron también clasificadores como Naive Bayes y Random Forest que tuvieron una precisión muy similar pero unas tasas de falsa alarma muchos más altas. \n",
    "\n",
    "En el mismo año Pervez y Farid [4] implementaron SVM en el entorno de programación NetBeans sobre el dataset NSL-KDD cup 99. Para la selección de los datos de entrenamiento de prueba se utilizó el método de validación cruzada con 10 particiones para comparar las precisiones obtenidas con respecto al uso de características. Aplicando solo 3 características se obtuvo una precisión de 78% y con 41 características se obtuvo una precisión de 82% lo que quiere decir que se estan gastando muchos recursos computacionales sin obtener a cambio una exactitud mucho más alta, por eso no es necesario aplicar todas las características en el aprendizaje. \n",
    "\n",
    "Para el año 2015 Manjiri y Wajgi [5] aplicaron Maquinas de Soporte Vectorial sobre el dataset KDD CUP 1999 donde utilizan el 90% de datos para el entrenamiento y el resto para el testing donde se observo una precisión del 99.9% por la alta cantidad de datos, pero se demoro más un minuto para el entrenamiento lo cual tampoco es favorable en un código. \n",
    "\n",
    "En ese mismo año con el fin de lograr bajas tasas de Falsa alarma, Meng [6] diseñó un filtro basado en el clasificador kNN con k=5. Para el entrenamiento utilizo el dataset DARPA 1999 obteniendo una precisión de apenas el 85.2% pero es muy adaptable para casos de la vida cotidiana por sus bajos costos computacionales. \n",
    "\n",
    "Al año siguiente, en el 2016 Moustafa y Slay [7] utilizaron 5 técnicas de aprendizaje (Naive Bayes, Decision Tree, Artificial Neural Network, Linear Regression y EM clustering) implementadas con código de Visual Studio sobre la base de datos UNSW NB15 donde la mejor técnica en este caso fué DT con 85.56% de precisión una tasa de falsa alarma bastante alta correspondiente al 15%. Con base a estos resultados se puede decir que los algoritmos de aprendizaje utilizado no son los mejores para la clasificación multiclase y binaria. \n",
    "\n",
    "Durante el 2017 Rao y Swath [8] utilizaron 12597 muestras del dataset para posteriormente aplicar kNN. Luego del preprocesado correspondiente para las variables categóricas, se utilizo el método de validación cruzada con 10 particiones y posteriormente entrenar el clasificador con k=3,5,10 obteniendo en el testing una precisión del 99% en los 3 casos, lo que demuestra que cuando se tiene una gran cantidad de muestras es indiferente el número de vecinos. \n",
    "\n",
    "Para la mismas fechas, Dada [9] utiliza el dataset KDD CUP 1999 al cual se le realiza el preprocesamiento en su totalidad. Para la clasificación utiliza un método híbirdo en el que incluye kNN, SVM y pdAPSO consiguiendo una precisión de 98.55%.\n",
    "\n",
    "A mediados del 2018 Rodriguez Rama [10] continua con la tendencia de utilizar datasets públicos, que en este caso es el KDD Cup 1999. Para reducir el tiempo de entrenamiento y el costo computacional elimina características poco relevantes con ayuda del software Weka. Luego mediante python realiza el preprocesado y la validación con train test split donde el 15% de los datos son utilizados para testing. El algoritmo utilizado es Arbol de Decisión con una precisión de 99.984%, un valor mucho mejor a diferencia de lo obtenido por Moustafa y Slay ya que posiblemente el dataset  KDD es más compatible con el algoritmo DT. \n",
    "\n",
    "A finales de ese mismo año Moscardó Perez [11] utilizo un dataset completamente distinto a los mencionados anteriormente, el cual es el HTTP DATASET CSIC 2010 que tiene 14560 instancias. Al igual que el anterior autor utiliza el software Weka para la selección de características, implementa el código en Python, utiliza el 15% de los datos para el test y aplica el clasificador DT. Finalmente obtuvo una precisión de 98.86%.\n",
    "\n",
    "Recientemente, en abril de este año Maheshwar, Prakash y Norayana [12] diseñó un sistema detector de intrusos usando Redes Neuronales Convolucionales para implementarlo en clasificación binaria y clasificación multiclase. Utilizaron los datasets KDD CUPP 99 Y NSL-KDD para entrenar el modelo. Con ambos datasets se obtuvo una precisión de 99% lo que demuestra que las redes neuronales son muy buenos clasificadores."
   ]
  },
  {
   "cell_type": "markdown",
   "metadata": {},
   "source": [
    "### Referencias Bibliograficas"
   ]
  },
  {
   "cell_type": "markdown",
   "metadata": {},
   "source": [
    "[1] Xin, Y., Kong, L., Liu, Z., Chen, Y., Li, Y., Zhu, H., ... & Wang, C. (2018). Machine learning and deep learning methods for cybersecurity. IEEE Access, 6, 35365-35381.\n",
    "\n",
    "[2] Yan, M., & Liu, Z. (2010, October). A new method of transductive SVM-based network intrusion detection. In International Conference on Computer and Computing Technologies in Agriculture (pp. 87-95). Springer, Berlin, Heidelberg.\n",
    "\n",
    "[3] Kokila, R. T., Selvi, S. T., & Govindarajan, K. (2014, December). DDoS detection and analysis in SDN-based environment using support vector machine classifier. In 2014 Sixth International Conference on Advanced Computing (ICoAC) (pp. 205-210). IEEE.\n",
    "\n",
    "[4] Pervez, M. S., & Farid, D. M. (2014, December). Feature selection and intrusion classification in NSL-KDD cup 99 dataset employing SVMs. In The 8th International Conference on Software, Knowledge, Information Management and Applications (SKIMA 2014) (pp. 1-6). IEEE.\n",
    "\n",
    "[5] Kotpalliwar, M. V., & Wajgi, R. (2015, April). Classification of Attacks Using Support Vector Machine (SVM) on KDDCUP'99 IDS Database. In 2015 Fifth International Conference on Communication Systems and Network Technologies (pp. 987-990). IEEE.\n",
    "\n",
    "[6] Meng, W., Li, W., & Kwok, L. F. (2015). Design of intelligent KNN‐based alarm filter using knowledge‐based alert verification in intrusion detection. Security and Communication Networks, 8(18), 3883-3895.\n",
    "\n",
    "[7] Moustafa, N., & Slay, J. (2016). The evaluation of Network Anomaly Detection Systems: Statistical analysis of the UNSW-NB15 data set and the comparison with the KDD99 data set. Information Security Journal: A Global Perspective, 25(1-3), 18-31.\n",
    "\n",
    "[8] Rao, B. B., & Swathi, K. (2017). Fast kNN classifiers for network intrusion detection system. Indian Journal of Science and Technology, 10(14), 1-10.\n",
    "\n",
    "[9] Dada, E. G. (2017). A hybridized SVM-kNN-pdAPSO approach to intrusion detection system. In Proc. Fac. Seminar Ser. (pp. 14-21).\n",
    "\n",
    "[10] Rodríguez Rama, J. M. Aplicación de técnicas de machine learning a la detección de ataques. \n",
    "\n",
    "[11] Moscardó Pérez, J. C. Aplicación de técnicas de Machine Learning a la seguridad.\n",
    "\n",
    "[12] Reddy, V. M., Reddy, I. R. P., & Reddy, K. A. N. (2019, December). An Efficient Intrusion Detection System with Convolutional Neural Network. In International Conference on Advances in Computational Intelligence and Informatics (pp. 177-185). Springer, Singapore."
   ]
  },
  {
   "cell_type": "code",
   "execution_count": null,
   "metadata": {},
   "outputs": [],
   "source": []
  },
  {
   "cell_type": "markdown",
   "metadata": {},
   "source": [
    "### Código"
   ]
  },
  {
   "cell_type": "code",
   "execution_count": 1,
   "metadata": {},
   "outputs": [
    {
     "data": {
      "text/html": [
       "<div>\n",
       "<style scoped>\n",
       "    .dataframe tbody tr th:only-of-type {\n",
       "        vertical-align: middle;\n",
       "    }\n",
       "\n",
       "    .dataframe tbody tr th {\n",
       "        vertical-align: top;\n",
       "    }\n",
       "\n",
       "    .dataframe thead th {\n",
       "        text-align: right;\n",
       "    }\n",
       "</style>\n",
       "<table border=\"1\" class=\"dataframe\">\n",
       "  <thead>\n",
       "    <tr style=\"text-align: right;\">\n",
       "      <th></th>\n",
       "      <th>id</th>\n",
       "      <th>dur</th>\n",
       "      <th>proto</th>\n",
       "      <th>service</th>\n",
       "      <th>state</th>\n",
       "      <th>spkts</th>\n",
       "      <th>dpkts</th>\n",
       "      <th>sbytes</th>\n",
       "      <th>dbytes</th>\n",
       "      <th>rate</th>\n",
       "      <th>...</th>\n",
       "      <th>ct_dst_sport_ltm</th>\n",
       "      <th>ct_dst_src_ltm</th>\n",
       "      <th>is_ftp_login</th>\n",
       "      <th>ct_ftp_cmd</th>\n",
       "      <th>ct_flw_http_mthd</th>\n",
       "      <th>ct_src_ltm</th>\n",
       "      <th>ct_srv_dst</th>\n",
       "      <th>is_sm_ips_ports</th>\n",
       "      <th>attack_cat</th>\n",
       "      <th>label</th>\n",
       "    </tr>\n",
       "  </thead>\n",
       "  <tbody>\n",
       "    <tr>\n",
       "      <th>0</th>\n",
       "      <td>1</td>\n",
       "      <td>1.214780e-01</td>\n",
       "      <td>tcp</td>\n",
       "      <td>-</td>\n",
       "      <td>FIN</td>\n",
       "      <td>6</td>\n",
       "      <td>4</td>\n",
       "      <td>258</td>\n",
       "      <td>172</td>\n",
       "      <td>7408749.0</td>\n",
       "      <td>...</td>\n",
       "      <td>1</td>\n",
       "      <td>1</td>\n",
       "      <td>0</td>\n",
       "      <td>0</td>\n",
       "      <td>0</td>\n",
       "      <td>1</td>\n",
       "      <td>1</td>\n",
       "      <td>0</td>\n",
       "      <td>Normal</td>\n",
       "      <td>0</td>\n",
       "    </tr>\n",
       "    <tr>\n",
       "      <th>1</th>\n",
       "      <td>2</td>\n",
       "      <td>6.499020e-01</td>\n",
       "      <td>tcp</td>\n",
       "      <td>-</td>\n",
       "      <td>FIN</td>\n",
       "      <td>14</td>\n",
       "      <td>38</td>\n",
       "      <td>734</td>\n",
       "      <td>42014</td>\n",
       "      <td>78473372.0</td>\n",
       "      <td>...</td>\n",
       "      <td>1</td>\n",
       "      <td>2</td>\n",
       "      <td>0</td>\n",
       "      <td>0</td>\n",
       "      <td>0</td>\n",
       "      <td>1</td>\n",
       "      <td>6</td>\n",
       "      <td>0</td>\n",
       "      <td>Normal</td>\n",
       "      <td>0</td>\n",
       "    </tr>\n",
       "    <tr>\n",
       "      <th>2</th>\n",
       "      <td>3</td>\n",
       "      <td>1.623129e+06</td>\n",
       "      <td>tcp</td>\n",
       "      <td>-</td>\n",
       "      <td>FIN</td>\n",
       "      <td>8</td>\n",
       "      <td>16</td>\n",
       "      <td>364</td>\n",
       "      <td>13186</td>\n",
       "      <td>14170161.0</td>\n",
       "      <td>...</td>\n",
       "      <td>1</td>\n",
       "      <td>3</td>\n",
       "      <td>0</td>\n",
       "      <td>0</td>\n",
       "      <td>0</td>\n",
       "      <td>2</td>\n",
       "      <td>6</td>\n",
       "      <td>0</td>\n",
       "      <td>Normal</td>\n",
       "      <td>0</td>\n",
       "    </tr>\n",
       "    <tr>\n",
       "      <th>3</th>\n",
       "      <td>4</td>\n",
       "      <td>1.681642e+06</td>\n",
       "      <td>tcp</td>\n",
       "      <td>ftp</td>\n",
       "      <td>FIN</td>\n",
       "      <td>12</td>\n",
       "      <td>12</td>\n",
       "      <td>628</td>\n",
       "      <td>770</td>\n",
       "      <td>13677108.0</td>\n",
       "      <td>...</td>\n",
       "      <td>1</td>\n",
       "      <td>3</td>\n",
       "      <td>1</td>\n",
       "      <td>1</td>\n",
       "      <td>0</td>\n",
       "      <td>2</td>\n",
       "      <td>1</td>\n",
       "      <td>0</td>\n",
       "      <td>Normal</td>\n",
       "      <td>0</td>\n",
       "    </tr>\n",
       "    <tr>\n",
       "      <th>4</th>\n",
       "      <td>5</td>\n",
       "      <td>4.494540e-01</td>\n",
       "      <td>tcp</td>\n",
       "      <td>-</td>\n",
       "      <td>FIN</td>\n",
       "      <td>10</td>\n",
       "      <td>6</td>\n",
       "      <td>534</td>\n",
       "      <td>268</td>\n",
       "      <td>33373826.0</td>\n",
       "      <td>...</td>\n",
       "      <td>1</td>\n",
       "      <td>40</td>\n",
       "      <td>0</td>\n",
       "      <td>0</td>\n",
       "      <td>0</td>\n",
       "      <td>2</td>\n",
       "      <td>39</td>\n",
       "      <td>0</td>\n",
       "      <td>Normal</td>\n",
       "      <td>0</td>\n",
       "    </tr>\n",
       "  </tbody>\n",
       "</table>\n",
       "<p>5 rows × 45 columns</p>\n",
       "</div>"
      ],
      "text/plain": [
       "   id           dur proto service state  spkts  dpkts  sbytes  dbytes  \\\n",
       "0   1  1.214780e-01   tcp       -   FIN      6      4     258     172   \n",
       "1   2  6.499020e-01   tcp       -   FIN     14     38     734   42014   \n",
       "2   3  1.623129e+06   tcp       -   FIN      8     16     364   13186   \n",
       "3   4  1.681642e+06   tcp     ftp   FIN     12     12     628     770   \n",
       "4   5  4.494540e-01   tcp       -   FIN     10      6     534     268   \n",
       "\n",
       "         rate  ...  ct_dst_sport_ltm  ct_dst_src_ltm  is_ftp_login  \\\n",
       "0   7408749.0  ...                 1               1             0   \n",
       "1  78473372.0  ...                 1               2             0   \n",
       "2  14170161.0  ...                 1               3             0   \n",
       "3  13677108.0  ...                 1               3             1   \n",
       "4  33373826.0  ...                 1              40             0   \n",
       "\n",
       "   ct_ftp_cmd  ct_flw_http_mthd  ct_src_ltm  ct_srv_dst  is_sm_ips_ports  \\\n",
       "0           0                 0           1           1                0   \n",
       "1           0                 0           1           6                0   \n",
       "2           0                 0           2           6                0   \n",
       "3           1                 0           2           1                0   \n",
       "4           0                 0           2          39                0   \n",
       "\n",
       "   attack_cat  label  \n",
       "0      Normal      0  \n",
       "1      Normal      0  \n",
       "2      Normal      0  \n",
       "3      Normal      0  \n",
       "4      Normal      0  \n",
       "\n",
       "[5 rows x 45 columns]"
      ]
     },
     "execution_count": 1,
     "metadata": {},
     "output_type": "execute_result"
    }
   ],
   "source": [
    "import numpy as np\n",
    "import pandas as pd\n",
    "import matplotlib.pyplot as plt\n",
    "df=pd.read_csv('UNSW_NB15_training-set.csv',sep=';')\n",
    "df.head()"
   ]
  },
  {
   "cell_type": "code",
   "execution_count": 2,
   "metadata": {},
   "outputs": [
    {
     "data": {
      "text/plain": [
       "Text(0.5, 1.0, 'Cantidad de tipos de paquetes')"
      ]
     },
     "execution_count": 2,
     "metadata": {},
     "output_type": "execute_result"
    },
    {
     "data": {
      "image/png": "[encoded data removed]",
      "text/plain": [
       "<Figure size 576x396 with 1 Axes>"
      ]
     },
     "metadata": {},
     "output_type": "display_data"
    }
   ],
   "source": [
    "df.set_index('id',inplace=True)\n",
    "plt.style.use('seaborn')\n",
    "df.attack_cat.value_counts().plot(kind='bar',color='m')\n",
    "plt.title('Cantidad de tipos de paquetes',size=18)"
   ]
  },
  {
   "cell_type": "code",
   "execution_count": 3,
   "metadata": {},
   "outputs": [
    {
     "data": {
      "text/plain": [
       "-           46985\n",
       "dns          7600\n",
       "http         6564\n",
       "ftp-data     2560\n",
       "smtp         1874\n",
       "ssh          1291\n",
       "ftp          1268\n",
       "pop3           65\n",
       "dhcp           33\n",
       "snmp           14\n",
       "ssl             4\n",
       "irc             4\n",
       "radius          2\n",
       "Name: service, dtype: int64"
      ]
     },
     "execution_count": 3,
     "metadata": {},
     "output_type": "execute_result"
    }
   ],
   "source": [
    "data_df=df.loc[(df.attack_cat=='Normal') | (df.attack_cat=='DoS')]#Separacion de los paquetes normales y DoS en otro dataset\n",
    "data_df.service.value_counts()#Cantidad de paquetes por servicio"
   ]
  },
  {
   "cell_type": "code",
   "execution_count": 4,
   "metadata": {},
   "outputs": [
    {
     "data": {
      "text/plain": [
       "dur                  False\n",
       "proto                False\n",
       "service              False\n",
       "state                False\n",
       "spkts                False\n",
       "dpkts                False\n",
       "sbytes               False\n",
       "dbytes               False\n",
       "rate                 False\n",
       "sttl                 False\n",
       "dttl                 False\n",
       "sload                False\n",
       "dload                False\n",
       "sloss                False\n",
       "dloss                False\n",
       "sinpkt               False\n",
       "dinpkt               False\n",
       "sjit                 False\n",
       "djit                 False\n",
       "swin                 False\n",
       "stcpb                False\n",
       "dtcpb                False\n",
       "dwin                 False\n",
       "tcprtt               False\n",
       "synack               False\n",
       "ackdat               False\n",
       "smean                False\n",
       "dmean                False\n",
       "trans_depth          False\n",
       "response_body_len    False\n",
       "ct_srv_src           False\n",
       "ct_state_ttl         False\n",
       "ct_dst_ltm           False\n",
       "ct_src_dport_ltm     False\n",
       "ct_dst_sport_ltm     False\n",
       "ct_dst_src_ltm       False\n",
       "is_ftp_login         False\n",
       "ct_ftp_cmd           False\n",
       "ct_flw_http_mthd     False\n",
       "ct_src_ltm           False\n",
       "ct_srv_dst           False\n",
       "is_sm_ips_ports      False\n",
       "attack_cat           False\n",
       "label                False\n",
       "dtype: bool"
      ]
     },
     "execution_count": 4,
     "metadata": {},
     "output_type": "execute_result"
    }
   ],
   "source": [
    "data_df.isna().any()#verificar si hay datos nulos en cada columna"
   ]
  },
  {
   "cell_type": "code",
   "execution_count": 5,
   "metadata": {},
   "outputs": [
    {
     "data": {
      "text/html": [
       "<div>\n",
       "<style scoped>\n",
       "    .dataframe tbody tr th:only-of-type {\n",
       "        vertical-align: middle;\n",
       "    }\n",
       "\n",
       "    .dataframe tbody tr th {\n",
       "        vertical-align: top;\n",
       "    }\n",
       "\n",
       "    .dataframe thead th {\n",
       "        text-align: right;\n",
       "    }\n",
       "</style>\n",
       "<table border=\"1\" class=\"dataframe\">\n",
       "  <thead>\n",
       "    <tr style=\"text-align: right;\">\n",
       "      <th></th>\n",
       "      <th>dur</th>\n",
       "      <th>proto</th>\n",
       "      <th>service</th>\n",
       "      <th>state</th>\n",
       "      <th>spkts</th>\n",
       "      <th>dpkts</th>\n",
       "      <th>sbytes</th>\n",
       "      <th>dbytes</th>\n",
       "      <th>rate</th>\n",
       "      <th>sttl</th>\n",
       "      <th>...</th>\n",
       "      <th>ct_dst_sport_ltm</th>\n",
       "      <th>ct_dst_src_ltm</th>\n",
       "      <th>is_ftp_login</th>\n",
       "      <th>ct_ftp_cmd</th>\n",
       "      <th>ct_flw_http_mthd</th>\n",
       "      <th>ct_src_ltm</th>\n",
       "      <th>ct_srv_dst</th>\n",
       "      <th>is_sm_ips_ports</th>\n",
       "      <th>attack_cat</th>\n",
       "      <th>label</th>\n",
       "    </tr>\n",
       "  </thead>\n",
       "  <tbody>\n",
       "    <tr>\n",
       "      <th>0</th>\n",
       "      <td>0.601736</td>\n",
       "      <td>tcp</td>\n",
       "      <td>http</td>\n",
       "      <td>FIN</td>\n",
       "      <td>18</td>\n",
       "      <td>10</td>\n",
       "      <td>10476</td>\n",
       "      <td>1576</td>\n",
       "      <td>44870175.0</td>\n",
       "      <td>62</td>\n",
       "      <td>...</td>\n",
       "      <td>2</td>\n",
       "      <td>2</td>\n",
       "      <td>0</td>\n",
       "      <td>0</td>\n",
       "      <td>4</td>\n",
       "      <td>2</td>\n",
       "      <td>2</td>\n",
       "      <td>0</td>\n",
       "      <td>DoS</td>\n",
       "      <td>1</td>\n",
       "    </tr>\n",
       "    <tr>\n",
       "      <th>1</th>\n",
       "      <td>0.922621</td>\n",
       "      <td>tcp</td>\n",
       "      <td>smtp</td>\n",
       "      <td>FIN</td>\n",
       "      <td>66</td>\n",
       "      <td>26</td>\n",
       "      <td>65640</td>\n",
       "      <td>1966</td>\n",
       "      <td>98632048.0</td>\n",
       "      <td>62</td>\n",
       "      <td>...</td>\n",
       "      <td>1</td>\n",
       "      <td>1</td>\n",
       "      <td>0</td>\n",
       "      <td>0</td>\n",
       "      <td>0</td>\n",
       "      <td>1</td>\n",
       "      <td>1</td>\n",
       "      <td>0</td>\n",
       "      <td>DoS</td>\n",
       "      <td>1</td>\n",
       "    </tr>\n",
       "    <tr>\n",
       "      <th>2</th>\n",
       "      <td>0.220081</td>\n",
       "      <td>tcp</td>\n",
       "      <td>http</td>\n",
       "      <td>FIN</td>\n",
       "      <td>10</td>\n",
       "      <td>8</td>\n",
       "      <td>836</td>\n",
       "      <td>1056</td>\n",
       "      <td>77244287.0</td>\n",
       "      <td>62</td>\n",
       "      <td>...</td>\n",
       "      <td>1</td>\n",
       "      <td>2</td>\n",
       "      <td>0</td>\n",
       "      <td>0</td>\n",
       "      <td>1</td>\n",
       "      <td>2</td>\n",
       "      <td>2</td>\n",
       "      <td>0</td>\n",
       "      <td>DoS</td>\n",
       "      <td>1</td>\n",
       "    </tr>\n",
       "    <tr>\n",
       "      <th>3</th>\n",
       "      <td>0.250314</td>\n",
       "      <td>tcp</td>\n",
       "      <td>http</td>\n",
       "      <td>FIN</td>\n",
       "      <td>38</td>\n",
       "      <td>10</td>\n",
       "      <td>42398</td>\n",
       "      <td>440</td>\n",
       "      <td>18776417.0</td>\n",
       "      <td>254</td>\n",
       "      <td>...</td>\n",
       "      <td>1</td>\n",
       "      <td>1</td>\n",
       "      <td>0</td>\n",
       "      <td>0</td>\n",
       "      <td>1</td>\n",
       "      <td>1</td>\n",
       "      <td>1</td>\n",
       "      <td>0</td>\n",
       "      <td>DoS</td>\n",
       "      <td>1</td>\n",
       "    </tr>\n",
       "    <tr>\n",
       "      <th>4</th>\n",
       "      <td>0.554107</td>\n",
       "      <td>tcp</td>\n",
       "      <td>http</td>\n",
       "      <td>FIN</td>\n",
       "      <td>10</td>\n",
       "      <td>10</td>\n",
       "      <td>822</td>\n",
       "      <td>1494</td>\n",
       "      <td>34289406.0</td>\n",
       "      <td>62</td>\n",
       "      <td>...</td>\n",
       "      <td>1</td>\n",
       "      <td>1</td>\n",
       "      <td>0</td>\n",
       "      <td>0</td>\n",
       "      <td>1</td>\n",
       "      <td>1</td>\n",
       "      <td>1</td>\n",
       "      <td>0</td>\n",
       "      <td>DoS</td>\n",
       "      <td>1</td>\n",
       "    </tr>\n",
       "  </tbody>\n",
       "</table>\n",
       "<p>5 rows × 44 columns</p>\n",
       "</div>"
      ],
      "text/plain": [
       "        dur proto service state  spkts  dpkts  sbytes  dbytes        rate  \\\n",
       "0  0.601736   tcp    http   FIN     18     10   10476    1576  44870175.0   \n",
       "1  0.922621   tcp    smtp   FIN     66     26   65640    1966  98632048.0   \n",
       "2  0.220081   tcp    http   FIN     10      8     836    1056  77244287.0   \n",
       "3  0.250314   tcp    http   FIN     38     10   42398     440  18776417.0   \n",
       "4  0.554107   tcp    http   FIN     10     10     822    1494  34289406.0   \n",
       "\n",
       "   sttl  ...  ct_dst_sport_ltm  ct_dst_src_ltm  is_ftp_login  ct_ftp_cmd  \\\n",
       "0    62  ...                 2               2             0           0   \n",
       "1    62  ...                 1               1             0           0   \n",
       "2    62  ...                 1               2             0           0   \n",
       "3   254  ...                 1               1             0           0   \n",
       "4    62  ...                 1               1             0           0   \n",
       "\n",
       "   ct_flw_http_mthd  ct_src_ltm  ct_srv_dst  is_sm_ips_ports  attack_cat  \\\n",
       "0                 4           2           2                0         DoS   \n",
       "1                 0           1           1                0         DoS   \n",
       "2                 1           2           2                0         DoS   \n",
       "3                 1           1           1                0         DoS   \n",
       "4                 1           1           1                0         DoS   \n",
       "\n",
       "   label  \n",
       "0      1  \n",
       "1      1  \n",
       "2      1  \n",
       "3      1  \n",
       "4      1  \n",
       "\n",
       "[5 rows x 44 columns]"
      ]
     },
     "execution_count": 5,
     "metadata": {},
     "output_type": "execute_result"
    }
   ],
   "source": [
    "datos=data_df.loc[data_df.service != '-']#Eliminacion de los paquetes que no especifican el tipo de servicio\n",
    "dataset=pd.concat([datos.loc[datos.attack_cat=='DoS'].iloc[0:500],datos.loc[datos.attack_cat=='Normal'].iloc[0:500]],\n",
    "                  ignore_index=True)\n",
    "dataset.head()"
   ]
  },
  {
   "cell_type": "code",
   "execution_count": 6,
   "metadata": {},
   "outputs": [
    {
     "data": {
      "image/png": "[encoded data removed]",
      "text/plain": [
       "<Figure size 576x396 with 1 Axes>"
      ]
     },
     "metadata": {},
     "output_type": "display_data"
    }
   ],
   "source": [
    "dataset.groupby('attack_cat').service.value_counts().unstack().replace(np.NaN,0).plot(kind='bar')\n",
    "plt.title('Tipos de servicios agrupados por tipo d epaquete',size=18);"
   ]
  },
  {
   "cell_type": "code",
   "execution_count": 7,
   "metadata": {},
   "outputs": [
    {
     "data": {
      "image/png": "[encoded data removed]",
      "text/plain": [
       "<Figure size 576x396 with 1 Axes>"
      ]
     },
     "metadata": {},
     "output_type": "display_data"
    }
   ],
   "source": [
    "dataset.groupby('attack_cat').proto.value_counts().unstack().plot(kind='bar')\n",
    "plt.title('Tipos de protocolo de transporte por tipo de paquete',size=18);"
   ]
  },
  {
   "cell_type": "code",
   "execution_count": 11,
   "metadata": {
    "scrolled": true
   },
   "outputs": [
    {
     "data": {
      "text/html": [
       "<div>\n",
       "<style scoped>\n",
       "    .dataframe tbody tr th:only-of-type {\n",
       "        vertical-align: middle;\n",
       "    }\n",
       "\n",
       "    .dataframe tbody tr th {\n",
       "        vertical-align: top;\n",
       "    }\n",
       "\n",
       "    .dataframe thead th {\n",
       "        text-align: right;\n",
       "    }\n",
       "</style>\n",
       "<table border=\"1\" class=\"dataframe\">\n",
       "  <thead>\n",
       "    <tr style=\"text-align: right;\">\n",
       "      <th></th>\n",
       "      <th>dur</th>\n",
       "      <th>proto</th>\n",
       "      <th>service</th>\n",
       "      <th>state</th>\n",
       "      <th>spkts</th>\n",
       "      <th>dpkts</th>\n",
       "      <th>sbytes</th>\n",
       "      <th>dbytes</th>\n",
       "      <th>rate</th>\n",
       "      <th>sttl</th>\n",
       "      <th>...</th>\n",
       "      <th>ct_src_dport_ltm</th>\n",
       "      <th>ct_dst_sport_ltm</th>\n",
       "      <th>ct_dst_src_ltm</th>\n",
       "      <th>is_ftp_login</th>\n",
       "      <th>ct_ftp_cmd</th>\n",
       "      <th>ct_flw_http_mthd</th>\n",
       "      <th>ct_src_ltm</th>\n",
       "      <th>ct_srv_dst</th>\n",
       "      <th>is_sm_ips_ports</th>\n",
       "      <th>label</th>\n",
       "    </tr>\n",
       "  </thead>\n",
       "  <tbody>\n",
       "    <tr>\n",
       "      <th>0</th>\n",
       "      <td>0.601736</td>\n",
       "      <td>0</td>\n",
       "      <td>4</td>\n",
       "      <td>1</td>\n",
       "      <td>18</td>\n",
       "      <td>10</td>\n",
       "      <td>10476</td>\n",
       "      <td>1576</td>\n",
       "      <td>44870175.0</td>\n",
       "      <td>62</td>\n",
       "      <td>...</td>\n",
       "      <td>2</td>\n",
       "      <td>2</td>\n",
       "      <td>2</td>\n",
       "      <td>0</td>\n",
       "      <td>0</td>\n",
       "      <td>4</td>\n",
       "      <td>2</td>\n",
       "      <td>2</td>\n",
       "      <td>0</td>\n",
       "      <td>1</td>\n",
       "    </tr>\n",
       "    <tr>\n",
       "      <th>1</th>\n",
       "      <td>0.922621</td>\n",
       "      <td>0</td>\n",
       "      <td>7</td>\n",
       "      <td>1</td>\n",
       "      <td>66</td>\n",
       "      <td>26</td>\n",
       "      <td>65640</td>\n",
       "      <td>1966</td>\n",
       "      <td>98632048.0</td>\n",
       "      <td>62</td>\n",
       "      <td>...</td>\n",
       "      <td>1</td>\n",
       "      <td>1</td>\n",
       "      <td>1</td>\n",
       "      <td>0</td>\n",
       "      <td>0</td>\n",
       "      <td>0</td>\n",
       "      <td>1</td>\n",
       "      <td>1</td>\n",
       "      <td>0</td>\n",
       "      <td>1</td>\n",
       "    </tr>\n",
       "    <tr>\n",
       "      <th>2</th>\n",
       "      <td>0.220081</td>\n",
       "      <td>0</td>\n",
       "      <td>4</td>\n",
       "      <td>1</td>\n",
       "      <td>10</td>\n",
       "      <td>8</td>\n",
       "      <td>836</td>\n",
       "      <td>1056</td>\n",
       "      <td>77244287.0</td>\n",
       "      <td>62</td>\n",
       "      <td>...</td>\n",
       "      <td>2</td>\n",
       "      <td>1</td>\n",
       "      <td>2</td>\n",
       "      <td>0</td>\n",
       "      <td>0</td>\n",
       "      <td>1</td>\n",
       "      <td>2</td>\n",
       "      <td>2</td>\n",
       "      <td>0</td>\n",
       "      <td>1</td>\n",
       "    </tr>\n",
       "    <tr>\n",
       "      <th>3</th>\n",
       "      <td>0.250314</td>\n",
       "      <td>0</td>\n",
       "      <td>4</td>\n",
       "      <td>1</td>\n",
       "      <td>38</td>\n",
       "      <td>10</td>\n",
       "      <td>42398</td>\n",
       "      <td>440</td>\n",
       "      <td>18776417.0</td>\n",
       "      <td>254</td>\n",
       "      <td>...</td>\n",
       "      <td>1</td>\n",
       "      <td>1</td>\n",
       "      <td>1</td>\n",
       "      <td>0</td>\n",
       "      <td>0</td>\n",
       "      <td>1</td>\n",
       "      <td>1</td>\n",
       "      <td>1</td>\n",
       "      <td>0</td>\n",
       "      <td>1</td>\n",
       "    </tr>\n",
       "    <tr>\n",
       "      <th>4</th>\n",
       "      <td>0.554107</td>\n",
       "      <td>0</td>\n",
       "      <td>4</td>\n",
       "      <td>1</td>\n",
       "      <td>10</td>\n",
       "      <td>10</td>\n",
       "      <td>822</td>\n",
       "      <td>1494</td>\n",
       "      <td>34289406.0</td>\n",
       "      <td>62</td>\n",
       "      <td>...</td>\n",
       "      <td>1</td>\n",
       "      <td>1</td>\n",
       "      <td>1</td>\n",
       "      <td>0</td>\n",
       "      <td>0</td>\n",
       "      <td>1</td>\n",
       "      <td>1</td>\n",
       "      <td>1</td>\n",
       "      <td>0</td>\n",
       "      <td>1</td>\n",
       "    </tr>\n",
       "  </tbody>\n",
       "</table>\n",
       "<p>5 rows × 43 columns</p>\n",
       "</div>"
      ],
      "text/plain": [
       "        dur  proto  service  state  spkts  dpkts  sbytes  dbytes        rate  \\\n",
       "0  0.601736      0        4      1     18     10   10476    1576  44870175.0   \n",
       "1  0.922621      0        7      1     66     26   65640    1966  98632048.0   \n",
       "2  0.220081      0        4      1     10      8     836    1056  77244287.0   \n",
       "3  0.250314      0        4      1     38     10   42398     440  18776417.0   \n",
       "4  0.554107      0        4      1     10     10     822    1494  34289406.0   \n",
       "\n",
       "   sttl  ...  ct_src_dport_ltm  ct_dst_sport_ltm  ct_dst_src_ltm  \\\n",
       "0    62  ...                 2                 2               2   \n",
       "1    62  ...                 1                 1               1   \n",
       "2    62  ...                 2                 1               2   \n",
       "3   254  ...                 1                 1               1   \n",
       "4    62  ...                 1                 1               1   \n",
       "\n",
       "   is_ftp_login  ct_ftp_cmd  ct_flw_http_mthd  ct_src_ltm  ct_srv_dst  \\\n",
       "0             0           0                 4           2           2   \n",
       "1             0           0                 0           1           1   \n",
       "2             0           0                 1           2           2   \n",
       "3             0           0                 1           1           1   \n",
       "4             0           0                 1           1           1   \n",
       "\n",
       "   is_sm_ips_ports  label  \n",
       "0                0      1  \n",
       "1                0      1  \n",
       "2                0      1  \n",
       "3                0      1  \n",
       "4                0      1  \n",
       "\n",
       "[5 rows x 43 columns]"
      ]
     },
     "execution_count": 11,
     "metadata": {},
     "output_type": "execute_result"
    }
   ],
   "source": [
    "\n",
    "dataset.drop(['attack_cat'],axis='columns',inplace=True)##Eliminar las columnas de label y categoria de ataque \n",
    "#ya que no se necesitaran para el entrenamiento\n",
    "dataset=dataset.astype({'proto':'category','service':'category','state':'category'})#Convierte a categoricas las \n",
    "##caracteristicas cualitativas\n",
    "#Asignarle el valor numerico a las caracteristicas cualitativas\n",
    "dataset['service']=dataset.service.cat.codes\n",
    "dataset['proto']=dataset.proto.cat.codes\n",
    "dataset['state']=dataset.state.cat.codes\n",
    "dataset.head()"
   ]
  },
  {
   "cell_type": "code",
   "execution_count": 13,
   "metadata": {},
   "outputs": [
    {
     "data": {
      "text/plain": [
       "array([ 5.68434189e-17,  8.52651283e-17,  1.13686838e-16,  0.00000000e+00,\n",
       "        0.00000000e+00, -2.84217094e-17,  0.00000000e+00, -3.55271368e-18,\n",
       "       -5.68434189e-17, -5.68434189e-17,  0.00000000e+00, -2.84217094e-17,\n",
       "        7.10542736e-17,  0.00000000e+00,  0.00000000e+00, -5.68434189e-17,\n",
       "        1.42108547e-17, -1.42108547e-17,  7.10542736e-18, -1.42108547e-16,\n",
       "       -4.26325641e-17,  1.42108547e-17, -1.42108547e-16,  0.00000000e+00,\n",
       "       -1.70530257e-16, -1.13686838e-16,  0.00000000e+00,  2.13162821e-17,\n",
       "        7.10542736e-18, -2.13162821e-17,  1.13686838e-16, -1.13686838e-16,\n",
       "        0.00000000e+00,  2.84217094e-17,  4.72510919e-16, -2.84217094e-17,\n",
       "       -2.48689958e-17, -2.48689958e-17, -7.10542736e-18,  0.00000000e+00,\n",
       "       -5.68434189e-17,  0.00000000e+00])"
      ]
     },
     "execution_count": 13,
     "metadata": {},
     "output_type": "execute_result"
    }
   ],
   "source": [
    "labels=dataset.iloc[:,42].values\n",
    "X=dataset.iloc[:,0:42].values#Crea una matriz con los valores del dataframe\n",
    "from sklearn.preprocessing import StandardScaler\n",
    "scaler=StandardScaler()\n",
    "X_scaled=scaler.fit_transform(X)#Normaliza los datos\n",
    "X_scaled.mean(axis=0)#Media por columna"
   ]
  },
  {
   "cell_type": "code",
   "execution_count": 14,
   "metadata": {},
   "outputs": [
    {
     "data": {
      "text/plain": [
       "array([1., 1., 1., 1., 1., 1., 1., 1., 1., 1., 1., 1., 1., 1., 1., 1., 1.,\n",
       "       1., 1., 1., 1., 1., 1., 1., 1., 1., 1., 1., 1., 1., 1., 1., 1., 1.,\n",
       "       1., 1., 1., 1., 1., 1., 1., 0.])"
      ]
     },
     "execution_count": 14,
     "metadata": {},
     "output_type": "execute_result"
    }
   ],
   "source": [
    "X_scaled.std(axis=0)#Desviacion estandar por columna"
   ]
  },
  {
   "cell_type": "markdown",
   "metadata": {},
   "source": [
    "**PCA**"
   ]
  },
  {
   "cell_type": "code",
   "execution_count": 15,
   "metadata": {},
   "outputs": [
    {
     "data": {
      "text/plain": [
       "(1000, 10)"
      ]
     },
     "execution_count": 15,
     "metadata": {},
     "output_type": "execute_result"
    }
   ],
   "source": [
    "from sklearn.decomposition import PCA\n",
    "pca = PCA(n_components=10)#Extraccion de características para reducirlas a 10\n",
    "PcaTrain=pca.fit_transform(X_scaled)\n",
    "PcaTrain.shape"
   ]
  },
  {
   "cell_type": "code",
   "execution_count": 16,
   "metadata": {},
   "outputs": [
    {
     "data": {
      "image/png": "[encoded data removed]",
      "text/plain": [
       "<Figure size 576x396 with 1 Axes>"
      ]
     },
     "metadata": {},
     "output_type": "display_data"
    }
   ],
   "source": [
    "X=PcaTrain[:,0]\n",
    "Y=PcaTrain[:,1]\n",
    "fig, ax= plt.subplots()\n",
    "etiquetas=['Normal','DoS']\n",
    "colors=['g','r']\n",
    "for i in range(0,2):\n",
    "    ax.scatter(X[labels==i],Y[labels==i],color=colors[i],label=etiquetas[i])\n",
    "plt.legend()\n",
    "ax.set_xlabel('Componente Principal 1')\n",
    "ax.set_ylabel('Componente Principal 2')\n",
    "ax.set_title('Dispersion de Componentes Principales',size=18)\n",
    "plt.plot();"
   ]
  },
  {
   "cell_type": "code",
   "execution_count": 17,
   "metadata": {},
   "outputs": [
    {
     "data": {
      "image/png": "[encoded data removed]",
      "text/plain": [
       "<Figure size 576x396 with 1 Axes>"
      ]
     },
     "metadata": {},
     "output_type": "display_data"
    }
   ],
   "source": [
    "X=PcaTrain[:,2]\n",
    "Y=PcaTrain[:,3]\n",
    "fig, ax= plt.subplots()\n",
    "etiquetas=['Normal','DoS']\n",
    "colors=['g','r']\n",
    "for i in range(0,2):\n",
    "    ax.scatter(X[labels==i],Y[labels==i],color=colors[i],label=etiquetas[i])\n",
    "plt.legend()\n",
    "ax.set_xlabel('Componente Principal 3')\n",
    "ax.set_ylabel('Componente Principal 4')\n",
    "ax.set_title('Dispersion de Componentes Principales',size=18)\n",
    "plt.plot();"
   ]
  },
  {
   "cell_type": "code",
   "execution_count": 18,
   "metadata": {},
   "outputs": [
    {
     "data": {
      "image/png": "[encoded data removed]",
      "text/plain": [
       "<Figure size 576x396 with 1 Axes>"
      ]
     },
     "metadata": {},
     "output_type": "display_data"
    }
   ],
   "source": [
    "X=PcaTrain[:,4]\n",
    "Y=PcaTrain[:,5]\n",
    "fig, ax= plt.subplots()\n",
    "etiquetas=['Normal','DoS']\n",
    "colors=['g','r']\n",
    "for i in range(0,2):\n",
    "    ax.scatter(X[labels==i],Y[labels==i],color=colors[i],label=etiquetas[i])\n",
    "plt.legend()\n",
    "ax.set_xlabel('Componente Principal 5')\n",
    "ax.set_ylabel('Componente Principal 6')\n",
    "ax.set_title('Dispersion de Componentes Principales',size=18)\n",
    "plt.plot();"
   ]
  },
  {
   "cell_type": "code",
   "execution_count": 19,
   "metadata": {},
   "outputs": [
    {
     "data": {
      "image/png": "[encoded data removed]",
      "text/plain": [
       "<Figure size 576x396 with 1 Axes>"
      ]
     },
     "metadata": {},
     "output_type": "display_data"
    }
   ],
   "source": [
    "X=PcaTrain[:,6]\n",
    "Y=PcaTrain[:,7]\n",
    "fig, ax= plt.subplots()\n",
    "etiquetas=['Normal','DoS']\n",
    "colors=['g','r']\n",
    "for i in range(0,2):\n",
    "    ax.scatter(X[labels==i],Y[labels==i],color=colors[i],label=etiquetas[i])\n",
    "plt.legend()\n",
    "ax.set_xlabel('Componente Principal 7')\n",
    "ax.set_ylabel('Componente Principal 8')\n",
    "ax.set_title('Dispersion de Componentes Principales',size=18)\n",
    "plt.plot();"
   ]
  },
  {
   "cell_type": "code",
   "execution_count": 20,
   "metadata": {},
   "outputs": [
    {
     "data": {
      "image/png": "[encoded data removed]",
      "text/plain": [
       "<Figure size 576x396 with 1 Axes>"
      ]
     },
     "metadata": {},
     "output_type": "display_data"
    }
   ],
   "source": [
    "X=PcaTrain[:,8]\n",
    "Y=PcaTrain[:,9]\n",
    "fig, ax= plt.subplots()\n",
    "etiquetas=['Normal','DoS']\n",
    "colors=['g','r']\n",
    "for i in range(0,2):\n",
    "    ax.scatter(X[labels==i],Y[labels==i],color=colors[i],label=etiquetas[i])\n",
    "plt.legend()\n",
    "ax.set_xlabel('Componente Principal 9')\n",
    "ax.set_ylabel('Componente Principal 10')\n",
    "ax.set_title('Dispersion de Componentes Principales',size=18)\n",
    "plt.plot();"
   ]
  },
  {
   "cell_type": "code",
   "execution_count": 21,
   "metadata": {},
   "outputs": [
    {
     "data": {
      "image/png": "[encoded data removed]",
      "text/plain": [
       "<Figure size 576x396 with 1 Axes>"
      ]
     },
     "metadata": {},
     "output_type": "display_data"
    }
   ],
   "source": [
    "X=PcaTrain[:,0]\n",
    "Y=PcaTrain[:,9]\n",
    "fig, ax= plt.subplots()\n",
    "etiquetas=['Normal','DoS']\n",
    "colors=['g','r']\n",
    "for i in range(0,2):\n",
    "    ax.scatter(X[labels==i],Y[labels==i],color=colors[i],label=etiquetas[i])\n",
    "plt.legend()\n",
    "ax.set_xlabel('Componente Principal 1')\n",
    "ax.set_ylabel('Componente Principal 10')\n",
    "ax.set_title('Dispersion de Componentes Principales',size=18)\n",
    "plt.plot();"
   ]
  },
  {
   "cell_type": "markdown",
   "metadata": {},
   "source": [
    "**LDA**"
   ]
  },
  {
   "cell_type": "code",
   "execution_count": 22,
   "metadata": {},
   "outputs": [
    {
     "name": "stderr",
     "output_type": "stream",
     "text": [
      "D:\\Archivos de Programas\\Anaconda3\\lib\\site-packages\\sklearn\\discriminant_analysis.py:388: UserWarning: Variables are collinear.\n",
      "  warnings.warn(\"Variables are collinear.\")\n"
     ]
    },
    {
     "data": {
      "text/plain": [
       "(1000, 2)"
      ]
     },
     "execution_count": 22,
     "metadata": {},
     "output_type": "execute_result"
    }
   ],
   "source": [
    "from sklearn.discriminant_analysis import LinearDiscriminantAnalysis\n",
    "y=labels\n",
    "y[0]=2\n",
    "lda=LinearDiscriminantAnalysis(n_components=2)\n",
    "LDAtrain=lda.fit_transform(X_scaled,y)\n",
    "LDAtrain.shape"
   ]
  },
  {
   "cell_type": "code",
   "execution_count": 23,
   "metadata": {},
   "outputs": [
    {
     "data": {
      "image/png": "[encoded data removed]",
      "text/plain": [
       "<Figure size 576x396 with 1 Axes>"
      ]
     },
     "metadata": {},
     "output_type": "display_data"
    }
   ],
   "source": [
    "fig, ax= plt.subplots()\n",
    "etiquetas=['Normal','DoS']\n",
    "colors=['g','r']\n",
    "for i in range(0,2):\n",
    "    ax.scatter(LDAtrain[y==i,0],LDAtrain[y==i,1],color=colors[i],label=etiquetas[i])\n",
    "plt.legend(loc='best')\n",
    "ax.set_xlabel('Componente Principal 1')\n",
    "ax.set_ylabel('Componente Principal 2')\n",
    "ax.set_title('Dispersion de Componentes LDA',size=18)\n",
    "plt.plot();"
   ]
  },
  {
   "cell_type": "code",
   "execution_count": 24,
   "metadata": {},
   "outputs": [
    {
     "name": "stdout",
     "output_type": "stream",
     "text": [
      "X_train shape(750, 10)\n",
      "X_test shape(250, 10)\n",
      "labels_train shape(750,)\n",
      "labels_test shape(250,)\n"
     ]
    }
   ],
   "source": [
    "#Usando kfold cross validation\n",
    "from sklearn.model_selection import KFold\n",
    "kf=KFold(n_splits=4, shuffle= True)\n",
    "for train_index,test_index in kf.split(PcaTrain):\n",
    "    X_train=PcaTrain[train_index]\n",
    "    X_test=PcaTrain[test_index]\n",
    "    labels_train=labels[train_index]\n",
    "    labels_test=labels[test_index]\n",
    "print(f'X_train shape{X_train.shape}')\n",
    "print(f'X_test shape{X_test.shape}')\n",
    "print(f'labels_train shape{labels_train.shape}')\n",
    "print(f'labels_test shape{labels_test.shape}')"
   ]
  },
  {
   "cell_type": "markdown",
   "metadata": {},
   "source": [
    "**SVM**"
   ]
  },
  {
   "cell_type": "code",
   "execution_count": 25,
   "metadata": {},
   "outputs": [],
   "source": [
    "from sklearn.svm import SVC\n",
    "from sklearn import metrics"
   ]
  },
  {
   "cell_type": "code",
   "execution_count": 26,
   "metadata": {},
   "outputs": [],
   "source": [
    "M=np.array([])\n",
    "max_acc=0\n",
    "y_predmax=0\n",
    "kernel=['linear','rbf']\n",
    "gammas=np.array([0.001, 0.01, 0.5, 1.0, 5.0])\n",
    "for k in kernel:\n",
    "    for g in gammas:\n",
    "        cls_svm=SVC(kernel=k,gamma=g,C=1)\n",
    "        cls_svm.fit(X_train,labels_train)\n",
    "        y_pred=cls_svm.predict(X_test)\n",
    "        acc=metrics.accuracy_score(labels_test,y_pred)\n",
    "        tn, fp, fn, tp = metrics.confusion_matrix(labels_test, y_pred).ravel()\n",
    "        far=fp/(tn+fp)\n",
    "        if acc>max_acc:\n",
    "            max_acc=acc\n",
    "            y_predmax=y_pred\n",
    "        M=np.append(M,[k,g,acc,far])"
   ]
  },
  {
   "cell_type": "code",
   "execution_count": 28,
   "metadata": {},
   "outputs": [
    {
     "data": {
      "text/html": [
       "<div>\n",
       "<style scoped>\n",
       "    .dataframe tbody tr th:only-of-type {\n",
       "        vertical-align: middle;\n",
       "    }\n",
       "\n",
       "    .dataframe tbody tr th {\n",
       "        vertical-align: top;\n",
       "    }\n",
       "\n",
       "    .dataframe thead th {\n",
       "        text-align: right;\n",
       "    }\n",
       "</style>\n",
       "<table border=\"1\" class=\"dataframe\">\n",
       "  <thead>\n",
       "    <tr style=\"text-align: right;\">\n",
       "      <th></th>\n",
       "      <th>kernel</th>\n",
       "      <th>gamma</th>\n",
       "      <th>Precision</th>\n",
       "      <th>FAR</th>\n",
       "    </tr>\n",
       "  </thead>\n",
       "  <tbody>\n",
       "    <tr>\n",
       "      <th>0</th>\n",
       "      <td>linear</td>\n",
       "      <td>0.001</td>\n",
       "      <td>0.976</td>\n",
       "      <td>0.04065</td>\n",
       "    </tr>\n",
       "    <tr>\n",
       "      <th>1</th>\n",
       "      <td>linear</td>\n",
       "      <td>0.010</td>\n",
       "      <td>0.976</td>\n",
       "      <td>0.04065</td>\n",
       "    </tr>\n",
       "    <tr>\n",
       "      <th>2</th>\n",
       "      <td>linear</td>\n",
       "      <td>0.500</td>\n",
       "      <td>0.976</td>\n",
       "      <td>0.04065</td>\n",
       "    </tr>\n",
       "    <tr>\n",
       "      <th>3</th>\n",
       "      <td>linear</td>\n",
       "      <td>1.000</td>\n",
       "      <td>0.976</td>\n",
       "      <td>0.04065</td>\n",
       "    </tr>\n",
       "    <tr>\n",
       "      <th>4</th>\n",
       "      <td>linear</td>\n",
       "      <td>5.000</td>\n",
       "      <td>0.976</td>\n",
       "      <td>0.04065</td>\n",
       "    </tr>\n",
       "  </tbody>\n",
       "</table>\n",
       "</div>"
      ],
      "text/plain": [
       "   kernel  gamma  Precision      FAR\n",
       "0  linear  0.001      0.976  0.04065\n",
       "1  linear  0.010      0.976  0.04065\n",
       "2  linear  0.500      0.976  0.04065\n",
       "3  linear  1.000      0.976  0.04065\n",
       "4  linear  5.000      0.976  0.04065"
      ]
     },
     "execution_count": 28,
     "metadata": {},
     "output_type": "execute_result"
    }
   ],
   "source": [
    "M=M.reshape(-1,4)\n",
    "resultados_svm=pd.DataFrame(M,columns=['kernel','gamma','Precision','FAR'])\n",
    "resultados_svm=resultados_svm.astype({'gamma':'float64','Precision':'float64','FAR':'float64'})\n",
    "resultados_svm.head()"
   ]
  },
  {
   "cell_type": "code",
   "execution_count": 29,
   "metadata": {},
   "outputs": [
    {
     "data": {
      "text/html": [
       "<div>\n",
       "<style scoped>\n",
       "    .dataframe tbody tr th:only-of-type {\n",
       "        vertical-align: middle;\n",
       "    }\n",
       "\n",
       "    .dataframe tbody tr th {\n",
       "        vertical-align: top;\n",
       "    }\n",
       "\n",
       "    .dataframe thead th {\n",
       "        text-align: right;\n",
       "    }\n",
       "</style>\n",
       "<table border=\"1\" class=\"dataframe\">\n",
       "  <thead>\n",
       "    <tr style=\"text-align: right;\">\n",
       "      <th></th>\n",
       "      <th>kernel</th>\n",
       "      <th>gamma</th>\n",
       "      <th>Precision</th>\n",
       "      <th>FAR</th>\n",
       "    </tr>\n",
       "  </thead>\n",
       "  <tbody>\n",
       "    <tr>\n",
       "      <th>0</th>\n",
       "      <td>linear</td>\n",
       "      <td>0.001</td>\n",
       "      <td>0.976</td>\n",
       "      <td>0.040650</td>\n",
       "    </tr>\n",
       "    <tr>\n",
       "      <th>1</th>\n",
       "      <td>linear</td>\n",
       "      <td>0.010</td>\n",
       "      <td>0.976</td>\n",
       "      <td>0.040650</td>\n",
       "    </tr>\n",
       "    <tr>\n",
       "      <th>2</th>\n",
       "      <td>linear</td>\n",
       "      <td>0.500</td>\n",
       "      <td>0.976</td>\n",
       "      <td>0.040650</td>\n",
       "    </tr>\n",
       "    <tr>\n",
       "      <th>3</th>\n",
       "      <td>linear</td>\n",
       "      <td>1.000</td>\n",
       "      <td>0.976</td>\n",
       "      <td>0.040650</td>\n",
       "    </tr>\n",
       "    <tr>\n",
       "      <th>4</th>\n",
       "      <td>linear</td>\n",
       "      <td>5.000</td>\n",
       "      <td>0.976</td>\n",
       "      <td>0.040650</td>\n",
       "    </tr>\n",
       "    <tr>\n",
       "      <th>6</th>\n",
       "      <td>rbf</td>\n",
       "      <td>0.010</td>\n",
       "      <td>0.972</td>\n",
       "      <td>0.056911</td>\n",
       "    </tr>\n",
       "    <tr>\n",
       "      <th>7</th>\n",
       "      <td>rbf</td>\n",
       "      <td>0.500</td>\n",
       "      <td>0.960</td>\n",
       "      <td>0.024390</td>\n",
       "    </tr>\n",
       "    <tr>\n",
       "      <th>5</th>\n",
       "      <td>rbf</td>\n",
       "      <td>0.001</td>\n",
       "      <td>0.956</td>\n",
       "      <td>0.073171</td>\n",
       "    </tr>\n",
       "    <tr>\n",
       "      <th>8</th>\n",
       "      <td>rbf</td>\n",
       "      <td>1.000</td>\n",
       "      <td>0.932</td>\n",
       "      <td>0.016260</td>\n",
       "    </tr>\n",
       "    <tr>\n",
       "      <th>9</th>\n",
       "      <td>rbf</td>\n",
       "      <td>5.000</td>\n",
       "      <td>0.808</td>\n",
       "      <td>0.008130</td>\n",
       "    </tr>\n",
       "  </tbody>\n",
       "</table>\n",
       "</div>"
      ],
      "text/plain": [
       "   kernel  gamma  Precision       FAR\n",
       "0  linear  0.001      0.976  0.040650\n",
       "1  linear  0.010      0.976  0.040650\n",
       "2  linear  0.500      0.976  0.040650\n",
       "3  linear  1.000      0.976  0.040650\n",
       "4  linear  5.000      0.976  0.040650\n",
       "6     rbf  0.010      0.972  0.056911\n",
       "7     rbf  0.500      0.960  0.024390\n",
       "5     rbf  0.001      0.956  0.073171\n",
       "8     rbf  1.000      0.932  0.016260\n",
       "9     rbf  5.000      0.808  0.008130"
      ]
     },
     "execution_count": 29,
     "metadata": {},
     "output_type": "execute_result"
    }
   ],
   "source": [
    "resultados_svm.sort_values(by='Precision',ascending=False)"
   ]
  },
  {
   "cell_type": "code",
   "execution_count": 32,
   "metadata": {},
   "outputs": [
    {
     "data": {
      "text/html": [
       "<div>\n",
       "<style scoped>\n",
       "    .dataframe tbody tr th:only-of-type {\n",
       "        vertical-align: middle;\n",
       "    }\n",
       "\n",
       "    .dataframe tbody tr th {\n",
       "        vertical-align: top;\n",
       "    }\n",
       "\n",
       "    .dataframe thead th {\n",
       "        text-align: right;\n",
       "    }\n",
       "</style>\n",
       "<table border=\"1\" class=\"dataframe\">\n",
       "  <thead>\n",
       "    <tr style=\"text-align: right;\">\n",
       "      <th></th>\n",
       "      <th>kernel</th>\n",
       "      <th>gamma</th>\n",
       "      <th>Precision</th>\n",
       "      <th>FAR</th>\n",
       "    </tr>\n",
       "  </thead>\n",
       "  <tbody>\n",
       "    <tr>\n",
       "      <th>9</th>\n",
       "      <td>rbf</td>\n",
       "      <td>5.000</td>\n",
       "      <td>0.808</td>\n",
       "      <td>0.008130</td>\n",
       "    </tr>\n",
       "    <tr>\n",
       "      <th>8</th>\n",
       "      <td>rbf</td>\n",
       "      <td>1.000</td>\n",
       "      <td>0.932</td>\n",
       "      <td>0.016260</td>\n",
       "    </tr>\n",
       "    <tr>\n",
       "      <th>7</th>\n",
       "      <td>rbf</td>\n",
       "      <td>0.500</td>\n",
       "      <td>0.960</td>\n",
       "      <td>0.024390</td>\n",
       "    </tr>\n",
       "    <tr>\n",
       "      <th>0</th>\n",
       "      <td>linear</td>\n",
       "      <td>0.001</td>\n",
       "      <td>0.976</td>\n",
       "      <td>0.040650</td>\n",
       "    </tr>\n",
       "    <tr>\n",
       "      <th>1</th>\n",
       "      <td>linear</td>\n",
       "      <td>0.010</td>\n",
       "      <td>0.976</td>\n",
       "      <td>0.040650</td>\n",
       "    </tr>\n",
       "    <tr>\n",
       "      <th>2</th>\n",
       "      <td>linear</td>\n",
       "      <td>0.500</td>\n",
       "      <td>0.976</td>\n",
       "      <td>0.040650</td>\n",
       "    </tr>\n",
       "    <tr>\n",
       "      <th>3</th>\n",
       "      <td>linear</td>\n",
       "      <td>1.000</td>\n",
       "      <td>0.976</td>\n",
       "      <td>0.040650</td>\n",
       "    </tr>\n",
       "    <tr>\n",
       "      <th>4</th>\n",
       "      <td>linear</td>\n",
       "      <td>5.000</td>\n",
       "      <td>0.976</td>\n",
       "      <td>0.040650</td>\n",
       "    </tr>\n",
       "    <tr>\n",
       "      <th>6</th>\n",
       "      <td>rbf</td>\n",
       "      <td>0.010</td>\n",
       "      <td>0.972</td>\n",
       "      <td>0.056911</td>\n",
       "    </tr>\n",
       "    <tr>\n",
       "      <th>5</th>\n",
       "      <td>rbf</td>\n",
       "      <td>0.001</td>\n",
       "      <td>0.956</td>\n",
       "      <td>0.073171</td>\n",
       "    </tr>\n",
       "  </tbody>\n",
       "</table>\n",
       "</div>"
      ],
      "text/plain": [
       "   kernel  gamma  Precision       FAR\n",
       "9     rbf  5.000      0.808  0.008130\n",
       "8     rbf  1.000      0.932  0.016260\n",
       "7     rbf  0.500      0.960  0.024390\n",
       "0  linear  0.001      0.976  0.040650\n",
       "1  linear  0.010      0.976  0.040650\n",
       "2  linear  0.500      0.976  0.040650\n",
       "3  linear  1.000      0.976  0.040650\n",
       "4  linear  5.000      0.976  0.040650\n",
       "6     rbf  0.010      0.972  0.056911\n",
       "5     rbf  0.001      0.956  0.073171"
      ]
     },
     "execution_count": 32,
     "metadata": {},
     "output_type": "execute_result"
    }
   ],
   "source": [
    "resultados_svm.sort_values(by='FAR',ascending=True)"
   ]
  },
  {
   "cell_type": "code",
   "execution_count": 40,
   "metadata": {},
   "outputs": [
    {
     "data": {
      "image/png": "[encoded data removed]",
      "text/plain": [
       "<Figure size 426.725x360 with 1 Axes>"
      ]
     },
     "metadata": {},
     "output_type": "display_data"
    }
   ],
   "source": [
    "import seaborn as sns\n",
    "sns.set()\n",
    "sns.catplot(data=resultados_svm,y='Precision',x='gamma',hue='kernel');"
   ]
  },
  {
   "cell_type": "code",
   "execution_count": 41,
   "metadata": {},
   "outputs": [
    {
     "data": {
      "image/png": "[encoded data removed]",
      "text/plain": [
       "<Figure size 426.725x360 with 1 Axes>"
      ]
     },
     "metadata": {},
     "output_type": "display_data"
    }
   ],
   "source": [
    "sns.catplot(data=resultados_svm,y='FAR',x='gamma',hue='kernel');"
   ]
  },
  {
   "cell_type": "markdown",
   "metadata": {},
   "source": [
    "**Agrupamiento por k-NN**"
   ]
  },
  {
   "cell_type": "code",
   "execution_count": 42,
   "metadata": {},
   "outputs": [],
   "source": [
    "from sklearn import neighbors"
   ]
  },
  {
   "cell_type": "code",
   "execution_count": 44,
   "metadata": {},
   "outputs": [],
   "source": [
    "M=np.array([])\n",
    "for k in range(1,20,2):\n",
    "    knnClf = neighbors.KNeighborsClassifier(k, weights='uniform')\n",
    "    knnClf.fit(X_train, labels_train)\n",
    "    y_pred=knnClf.predict(X_test)\n",
    "    acc=metrics.accuracy_score(labels_test,y_pred)\n",
    "    tn, fp, fn, tp = metrics.confusion_matrix(labels_test, y_pred).ravel()\n",
    "    far=fp/(tn+fp)\n",
    "    M=np.append(M,[k,acc,far])"
   ]
  },
  {
   "cell_type": "code",
   "execution_count": 59,
   "metadata": {},
   "outputs": [
    {
     "data": {
      "text/html": [
       "<div>\n",
       "<style scoped>\n",
       "    .dataframe tbody tr th:only-of-type {\n",
       "        vertical-align: middle;\n",
       "    }\n",
       "\n",
       "    .dataframe tbody tr th {\n",
       "        vertical-align: top;\n",
       "    }\n",
       "\n",
       "    .dataframe thead th {\n",
       "        text-align: right;\n",
       "    }\n",
       "</style>\n",
       "<table border=\"1\" class=\"dataframe\">\n",
       "  <thead>\n",
       "    <tr style=\"text-align: right;\">\n",
       "      <th></th>\n",
       "      <th>Numero de Vecinos</th>\n",
       "      <th>Precision</th>\n",
       "      <th>FAR</th>\n",
       "    </tr>\n",
       "  </thead>\n",
       "  <tbody>\n",
       "    <tr>\n",
       "      <th>0</th>\n",
       "      <td>1</td>\n",
       "      <td>0.972</td>\n",
       "      <td>0.01626</td>\n",
       "    </tr>\n",
       "    <tr>\n",
       "      <th>1</th>\n",
       "      <td>3</td>\n",
       "      <td>0.988</td>\n",
       "      <td>0.01626</td>\n",
       "    </tr>\n",
       "    <tr>\n",
       "      <th>2</th>\n",
       "      <td>5</td>\n",
       "      <td>0.980</td>\n",
       "      <td>0.04065</td>\n",
       "    </tr>\n",
       "    <tr>\n",
       "      <th>3</th>\n",
       "      <td>7</td>\n",
       "      <td>0.976</td>\n",
       "      <td>0.03252</td>\n",
       "    </tr>\n",
       "    <tr>\n",
       "      <th>4</th>\n",
       "      <td>9</td>\n",
       "      <td>0.968</td>\n",
       "      <td>0.04065</td>\n",
       "    </tr>\n",
       "  </tbody>\n",
       "</table>\n",
       "</div>"
      ],
      "text/plain": [
       "   Numero de Vecinos  Precision      FAR\n",
       "0                  1      0.972  0.01626\n",
       "1                  3      0.988  0.01626\n",
       "2                  5      0.980  0.04065\n",
       "3                  7      0.976  0.03252\n",
       "4                  9      0.968  0.04065"
      ]
     },
     "execution_count": 59,
     "metadata": {},
     "output_type": "execute_result"
    }
   ],
   "source": [
    "M=M.reshape(-1,3)\n",
    "resultados_knn=pd.DataFrame(M,columns=['Numero de Vecinos','Precision','FAR'])\n",
    "resultados_knn=resultados_knn.astype({'Numero de Vecinos':'int64','Precision':'float64','FAR':'float64'})\n",
    "resultados_knn.head()"
   ]
  },
  {
   "cell_type": "code",
   "execution_count": 67,
   "metadata": {},
   "outputs": [
    {
     "data": {
      "text/html": [
       "<div>\n",
       "<style scoped>\n",
       "    .dataframe tbody tr th:only-of-type {\n",
       "        vertical-align: middle;\n",
       "    }\n",
       "\n",
       "    .dataframe tbody tr th {\n",
       "        vertical-align: top;\n",
       "    }\n",
       "\n",
       "    .dataframe thead th {\n",
       "        text-align: right;\n",
       "    }\n",
       "</style>\n",
       "<table border=\"1\" class=\"dataframe\">\n",
       "  <thead>\n",
       "    <tr style=\"text-align: right;\">\n",
       "      <th></th>\n",
       "      <th>Numero de Vecinos</th>\n",
       "      <th>Precision</th>\n",
       "      <th>FAR</th>\n",
       "    </tr>\n",
       "  </thead>\n",
       "  <tbody>\n",
       "    <tr>\n",
       "      <th>1</th>\n",
       "      <td>3</td>\n",
       "      <td>0.988</td>\n",
       "      <td>0.016260</td>\n",
       "    </tr>\n",
       "    <tr>\n",
       "      <th>2</th>\n",
       "      <td>5</td>\n",
       "      <td>0.980</td>\n",
       "      <td>0.040650</td>\n",
       "    </tr>\n",
       "    <tr>\n",
       "      <th>3</th>\n",
       "      <td>7</td>\n",
       "      <td>0.976</td>\n",
       "      <td>0.032520</td>\n",
       "    </tr>\n",
       "    <tr>\n",
       "      <th>0</th>\n",
       "      <td>1</td>\n",
       "      <td>0.972</td>\n",
       "      <td>0.016260</td>\n",
       "    </tr>\n",
       "    <tr>\n",
       "      <th>4</th>\n",
       "      <td>9</td>\n",
       "      <td>0.968</td>\n",
       "      <td>0.040650</td>\n",
       "    </tr>\n",
       "    <tr>\n",
       "      <th>7</th>\n",
       "      <td>15</td>\n",
       "      <td>0.968</td>\n",
       "      <td>0.048780</td>\n",
       "    </tr>\n",
       "    <tr>\n",
       "      <th>8</th>\n",
       "      <td>17</td>\n",
       "      <td>0.964</td>\n",
       "      <td>0.056911</td>\n",
       "    </tr>\n",
       "    <tr>\n",
       "      <th>9</th>\n",
       "      <td>19</td>\n",
       "      <td>0.964</td>\n",
       "      <td>0.056911</td>\n",
       "    </tr>\n",
       "    <tr>\n",
       "      <th>5</th>\n",
       "      <td>11</td>\n",
       "      <td>0.960</td>\n",
       "      <td>0.048780</td>\n",
       "    </tr>\n",
       "    <tr>\n",
       "      <th>6</th>\n",
       "      <td>13</td>\n",
       "      <td>0.960</td>\n",
       "      <td>0.048780</td>\n",
       "    </tr>\n",
       "  </tbody>\n",
       "</table>\n",
       "</div>"
      ],
      "text/plain": [
       "   Numero de Vecinos  Precision       FAR\n",
       "1                  3      0.988  0.016260\n",
       "2                  5      0.980  0.040650\n",
       "3                  7      0.976  0.032520\n",
       "0                  1      0.972  0.016260\n",
       "4                  9      0.968  0.040650\n",
       "7                 15      0.968  0.048780\n",
       "8                 17      0.964  0.056911\n",
       "9                 19      0.964  0.056911\n",
       "5                 11      0.960  0.048780\n",
       "6                 13      0.960  0.048780"
      ]
     },
     "execution_count": 67,
     "metadata": {},
     "output_type": "execute_result"
    }
   ],
   "source": [
    "resultados_knn.sort_values(ascending=False,by='Precision')"
   ]
  },
  {
   "cell_type": "code",
   "execution_count": 68,
   "metadata": {},
   "outputs": [
    {
     "data": {
      "text/html": [
       "<div>\n",
       "<style scoped>\n",
       "    .dataframe tbody tr th:only-of-type {\n",
       "        vertical-align: middle;\n",
       "    }\n",
       "\n",
       "    .dataframe tbody tr th {\n",
       "        vertical-align: top;\n",
       "    }\n",
       "\n",
       "    .dataframe thead th {\n",
       "        text-align: right;\n",
       "    }\n",
       "</style>\n",
       "<table border=\"1\" class=\"dataframe\">\n",
       "  <thead>\n",
       "    <tr style=\"text-align: right;\">\n",
       "      <th></th>\n",
       "      <th>Numero de Vecinos</th>\n",
       "      <th>Precision</th>\n",
       "      <th>FAR</th>\n",
       "    </tr>\n",
       "  </thead>\n",
       "  <tbody>\n",
       "    <tr>\n",
       "      <th>0</th>\n",
       "      <td>1</td>\n",
       "      <td>0.972</td>\n",
       "      <td>0.016260</td>\n",
       "    </tr>\n",
       "    <tr>\n",
       "      <th>1</th>\n",
       "      <td>3</td>\n",
       "      <td>0.988</td>\n",
       "      <td>0.016260</td>\n",
       "    </tr>\n",
       "    <tr>\n",
       "      <th>3</th>\n",
       "      <td>7</td>\n",
       "      <td>0.976</td>\n",
       "      <td>0.032520</td>\n",
       "    </tr>\n",
       "    <tr>\n",
       "      <th>2</th>\n",
       "      <td>5</td>\n",
       "      <td>0.980</td>\n",
       "      <td>0.040650</td>\n",
       "    </tr>\n",
       "    <tr>\n",
       "      <th>4</th>\n",
       "      <td>9</td>\n",
       "      <td>0.968</td>\n",
       "      <td>0.040650</td>\n",
       "    </tr>\n",
       "    <tr>\n",
       "      <th>5</th>\n",
       "      <td>11</td>\n",
       "      <td>0.960</td>\n",
       "      <td>0.048780</td>\n",
       "    </tr>\n",
       "    <tr>\n",
       "      <th>6</th>\n",
       "      <td>13</td>\n",
       "      <td>0.960</td>\n",
       "      <td>0.048780</td>\n",
       "    </tr>\n",
       "    <tr>\n",
       "      <th>7</th>\n",
       "      <td>15</td>\n",
       "      <td>0.968</td>\n",
       "      <td>0.048780</td>\n",
       "    </tr>\n",
       "    <tr>\n",
       "      <th>8</th>\n",
       "      <td>17</td>\n",
       "      <td>0.964</td>\n",
       "      <td>0.056911</td>\n",
       "    </tr>\n",
       "    <tr>\n",
       "      <th>9</th>\n",
       "      <td>19</td>\n",
       "      <td>0.964</td>\n",
       "      <td>0.056911</td>\n",
       "    </tr>\n",
       "  </tbody>\n",
       "</table>\n",
       "</div>"
      ],
      "text/plain": [
       "   Numero de Vecinos  Precision       FAR\n",
       "0                  1      0.972  0.016260\n",
       "1                  3      0.988  0.016260\n",
       "3                  7      0.976  0.032520\n",
       "2                  5      0.980  0.040650\n",
       "4                  9      0.968  0.040650\n",
       "5                 11      0.960  0.048780\n",
       "6                 13      0.960  0.048780\n",
       "7                 15      0.968  0.048780\n",
       "8                 17      0.964  0.056911\n",
       "9                 19      0.964  0.056911"
      ]
     },
     "execution_count": 68,
     "metadata": {},
     "output_type": "execute_result"
    }
   ],
   "source": [
    "resultados_knn.sort_values(by='FAR')"
   ]
  },
  {
   "cell_type": "code",
   "execution_count": 64,
   "metadata": {},
   "outputs": [
    {
     "data": {
      "image/png": "[encoded data removed]",
      "text/plain": [
       "<Figure size 576x396 with 2 Axes>"
      ]
     },
     "metadata": {},
     "output_type": "display_data"
    }
   ],
   "source": [
    "fig, ax=plt.subplots(1,2)\n",
    "ax[0].plot(resultados_knn['Numero de Vecinos'].values,resultados_knn['Precision'].values,label='Precision')\n",
    "ax[0].set_ylim(0.9,1.1)\n",
    "ax[0].legend()\n",
    "ax[1].plot(resultados_knn['Numero de Vecinos'].values,resultados_knn['FAR'].values,label='FAR',color='r')\n",
    "ax[1].legend()\n",
    "ax[1].set_ylim(0,0.3)\n",
    "for j in range(0,2):\n",
    "    ax[j].set_xlabel('Numero de Vecinos')"
   ]
  },
  {
   "cell_type": "markdown",
   "metadata": {},
   "source": [
    "### Redes Neuronales"
   ]
  },
  {
   "cell_type": "code",
   "execution_count": null,
   "metadata": {},
   "outputs": [],
   "source": [
    "from sklearn.neural_network import MLPClassifier\n",
    "alphas=[1e-5,1e-3,0.1,1,10,100,1000]\n",
    "M=np.array([])\n",
    "for a in alphas:\n",
    "    NN=MLPClassifier(activation='logistic',solver='lbfgs',alpha=a,hidden_layer_sizes=(10,))\n",
    "    NN.fit(X_train,labels_train)\n",
    "    y_pred=NN.predict(X_test)\n",
    "    acc=metrics.accuracy_score(labels_test,y_pred)\n",
    "    tn, fp, fn, tp = metrics.confusion_matrix(labels_test, y_pred).ravel()\n",
    "    far=fp/(tn+fp)\n",
    "    M=np.append(M,[a,acc,far])"
   ]
  },
  {
   "cell_type": "code",
   "execution_count": null,
   "metadata": {},
   "outputs": [],
   "source": [
    "M=M.reshape(-1,3)\n",
    "resultados_nn=pd.DataFrame(M,columns=['alpha','Precision','FAR'])\n",
    "resultados_nn=resultados_nn.astype({'alpha':'float64','Precision':'float64','FAR':'float64'})\n",
    "resultados_nn.head()"
   ]
  },
  {
   "cell_type": "code",
   "execution_count": null,
   "metadata": {},
   "outputs": [],
   "source": [
    "resultados_nn.loc[resultados_nn.Precision==resultados_nn.Precision.max()]"
   ]
  },
  {
   "cell_type": "code",
   "execution_count": null,
   "metadata": {},
   "outputs": [],
   "source": [
    "resultados_nn.loc[resultados_nn.FAR==resultados_nn.FAR.min()]"
   ]
  },
  {
   "cell_type": "code",
   "execution_count": null,
   "metadata": {},
   "outputs": [],
   "source": [
    "#Usando kfold \n",
    "kf=KFold(n_splits=4, shuffle= True)\n",
    "for train_index,test_index in kf.split(PcaTrain):\n",
    "    X_train=PcaTrain[train_index]\n",
    "    X_test=PcaTrain[test_index]\n",
    "    labels_train=labels[train_index]\n",
    "    labels_test=labels[test_index]\n",
    "print(f'X_train shape{X_train.shape}')\n",
    "print(f'X_test shape{X_test.shape}')\n",
    "print(f'labels_train shape{labels_train.shape}')\n",
    "print(f'labels_test shape{labels_test.shape}')"
   ]
  },
  {
   "cell_type": "code",
   "execution_count": null,
   "metadata": {},
   "outputs": [],
   "source": [
    "alphas=[1e-5,1e-3,0.1,1,10,100,1000]\n",
    "M=np.array([])\n",
    "for a in alphas:\n",
    "    NN=MLPClassifier(activation='logistic',solver='lbfgs',alpha=a,hidden_layer_sizes=(10,))\n",
    "    NN.fit(X_train,labels_train)\n",
    "    y_pred=NN.predict(X_test)\n",
    "    acc=metrics.accuracy_score(labels_test,y_pred)\n",
    "    tn, fp, fn, tp = metrics.confusion_matrix(labels_test, y_pred).ravel()\n",
    "    far=fp/(tn+fp)\n",
    "    M=np.append(M,[a,acc,far])"
   ]
  },
  {
   "cell_type": "code",
   "execution_count": null,
   "metadata": {},
   "outputs": [],
   "source": [
    "M=M.reshape(-1,3)\n",
    "resultados_nn=pd.DataFrame(M,columns=['alpha','Precision','FAR'])\n",
    "resultados_nn=resultados_nn.astype({'alpha':'float64','Precision':'float64','FAR':'float64'})\n",
    "resultados_nn.head()"
   ]
  },
  {
   "cell_type": "code",
   "execution_count": null,
   "metadata": {},
   "outputs": [],
   "source": [
    "resultados_nn.loc[resultados_nn.Precision==resultados_nn.Precision.max()]"
   ]
  },
  {
   "cell_type": "code",
   "execution_count": null,
   "metadata": {},
   "outputs": [],
   "source": [
    "resultados_nn.loc[resultados_nn.FAR==resultados_nn.FAR.min()]"
   ]
  },
  {
   "cell_type": "code",
   "execution_count": null,
   "metadata": {},
   "outputs": [],
   "source": [
    "ss=ShuffleSplit(n_splits=10, test_size=0.25)\n",
    "for train_index, test_index in ss.split(PcaTrain):\n",
    "    X_train=PcaTrain[train_index,:]\n",
    "    labels_train=labels[train_index]\n",
    "    X_test=PcaTrain[test_index,:]\n",
    "    labels_test=labels[test_index]\n",
    "print(f'X_train{X_train.shape}')\n",
    "print(f'X_test{X_test.shape}')\n",
    "print(f'labels_train{labels_train.shape}')\n",
    "print(f'labels_test{labels_test.shape}')"
   ]
  },
  {
   "cell_type": "code",
   "execution_count": null,
   "metadata": {},
   "outputs": [],
   "source": [
    "alphas=[1e-5,1e-3,0.1,1,10,100,1000]\n",
    "M=np.array([])\n",
    "for a in alphas:\n",
    "    NN=MLPClassifier(activation='logistic',solver='lbfgs',alpha=a,hidden_layer_sizes=(10,))\n",
    "    NN.fit(X_train,labels_train)\n",
    "    y_pred=NN.predict(X_test)\n",
    "    acc=metrics.accuracy_score(labels_test,y_pred)\n",
    "    tn, fp, fn, tp = metrics.confusion_matrix(labels_test, y_pred).ravel()\n",
    "    far=fp/(tn+fp)\n",
    "    M=np.append(M,[a,acc,far])"
   ]
  },
  {
   "cell_type": "code",
   "execution_count": null,
   "metadata": {},
   "outputs": [],
   "source": [
    "M=M.reshape(-1,3)\n",
    "resultados_nn=pd.DataFrame(M,columns=['alpha','Precision','FAR'])\n",
    "resultados_nn=resultados_nn.astype({'alpha':'float64','Precision':'float64','FAR':'float64'})\n",
    "resultados_nn.head()"
   ]
  },
  {
   "cell_type": "code",
   "execution_count": null,
   "metadata": {},
   "outputs": [],
   "source": [
    "resultados_nn.loc[resultados_nn.Precision==resultados_nn.Precision.max()]"
   ]
  },
  {
   "cell_type": "code",
   "execution_count": null,
   "metadata": {},
   "outputs": [],
   "source": [
    "resultados_nn.loc[resultados_nn.FAR==resultados_nn.FAR.min()]"
   ]
  },
  {
   "cell_type": "code",
   "execution_count": null,
   "metadata": {},
   "outputs": [],
   "source": []
  },
  {
   "cell_type": "code",
   "execution_count": null,
   "metadata": {},
   "outputs": [],
   "source": []
  },
  {
   "cell_type": "code",
   "execution_count": null,
   "metadata": {},
   "outputs": [],
   "source": []
  },
  {
   "cell_type": "code",
   "execution_count": null,
   "metadata": {},
   "outputs": [],
   "source": []
  },
  {
   "cell_type": "code",
   "execution_count": null,
   "metadata": {},
   "outputs": [],
   "source": []
  }
 ],
 "metadata": {
  "kernelspec": {
   "display_name": "Python 3",
   "language": "python",
   "name": "python3"
  },
  "language_info": {
   "codemirror_mode": {
    "name": "ipython",
    "version": 3
   },
   "file_extension": ".py",
   "mimetype": "text/x-python",
   "name": "python",
   "nbconvert_exporter": "python",
   "pygments_lexer": "ipython3",
   "version": "3.7.3"
  }
 },
 "nbformat": 4,
 "nbformat_minor": 2
}
